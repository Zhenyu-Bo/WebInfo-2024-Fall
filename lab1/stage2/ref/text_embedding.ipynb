{
 "cells": [
  {
   "cell_type": "code",
   "execution_count": 8,
   "metadata": {},
   "outputs": [
    {
     "name": "stdout",
     "output_type": "stream",
     "text": [
      "cuda\n"
     ]
    }
   ],
   "source": [
    "import torch\n",
    "import pickle\n",
    "import numpy as np\n",
    "import pandas as pd\n",
    "from torch import nn\n",
    "from tqdm import tqdm\n",
    "from torch.utils.data import Dataset\n",
    "from torch.utils.data import DataLoader\n",
    "from sklearn.model_selection import train_test_split\n",
    "from sklearn.metrics import ndcg_score\n",
    "import ast\n",
    "\n",
    "device = torch.device(\"cuda\" if torch.cuda.is_available() else \"cpu\")\n",
    "print(device)"
   ]
  },
  {
   "cell_type": "markdown",
   "metadata": {},
   "source": [
    "### 生成文本表示"
   ]
  },
  {
   "cell_type": "code",
   "execution_count": 9,
   "metadata": {},
   "outputs": [],
   "source": [
    "# 需要使用代理才能正常下载\n",
    "from transformers import BertTokenizer, BertModel\n",
    "import torch\n",
    "\n",
    "tokenizer = BertTokenizer.from_pretrained('bert-base-chinese')\n",
    "model = BertModel.from_pretrained('bert-base-chinese').cuda()"
   ]
  },
  {
   "cell_type": "code",
   "execution_count": null,
   "metadata": {},
   "outputs": [],
   "source": [
    "# 读loaded_data取保存的 CSV 文件\n",
    "loaded_data = pd.read_csv('..\\data\\selected_book_top_1200_data_tag.csv')\n",
    "\n",
    "loaded_data['Tags'] = loaded_data['Tags'].apply(lambda x: ast.literal_eval(x))"
   ]
  },
  {
   "cell_type": "code",
   "execution_count": 11,
   "metadata": {},
   "outputs": [
    {
     "name": "stderr",
     "output_type": "stream",
     "text": [
      "1200it [00:53, 22.62it/s]\n"
     ]
    }
   ],
   "source": [
    "tag_embedding_dict = {}\n",
    "\n",
    "with torch.no_grad():\n",
    "    for index, rows in tqdm(loaded_data.iterrows()):\n",
    "        # 将标签列表转换为字符串\n",
    "        tags_str = \" \".join(rows.Tags)\n",
    "        # 使用BERT中文模型对标签进行编码\n",
    "        inputs = tokenizer(tags_str, truncation=True, return_tensors='pt')\n",
    "        outputs = model(inputs.input_ids.cuda(), inputs.token_type_ids.cuda(), inputs.attention_mask.cuda())\n",
    "        # 使用最后一层的平均隐藏状态作为标签的向量表示\n",
    "        tag_embedding = outputs.last_hidden_state.mean(dim=1).cpu()\n",
    "        tag_embedding_dict[rows.Book] = tag_embedding\n"
   ]
  },
  {
   "cell_type": "code",
   "execution_count": 12,
   "metadata": {},
   "outputs": [],
   "source": [
    "import pickle\n",
    "\n",
    "# 将映射表存储为二进制文件\n",
    "with open('data/tag_embedding_dict.pkl', 'wb') as f:\n",
    "    pickle.dump(tag_embedding_dict, f)\n"
   ]
  },
  {
   "cell_type": "markdown",
   "metadata": {},
   "source": [
    "# 如果已经进行上面的步骤 再次打开时可直接从下面开始"
   ]
  },
  {
   "cell_type": "code",
   "execution_count": null,
   "metadata": {},
   "outputs": [],
   "source": [
    "import torch\n",
    "import pickle\n",
    "import numpy as np\n",
    "import pandas as pd\n",
    "from torch import nn\n",
    "from tqdm import tqdm\n",
    "from torch.utils.data import Dataset\n",
    "from torch.utils.data import DataLoader\n",
    "from sklearn.model_selection import train_test_split\n",
    "from sklearn.metrics import ndcg_score\n",
    "import ast"
   ]
  },
  {
   "cell_type": "code",
   "execution_count": 7,
   "metadata": {},
   "outputs": [
    {
     "name": "stdout",
     "output_type": "stream",
     "text": [
      "cuda\n"
     ]
    }
   ],
   "source": [
    "device = torch.device(\"cuda\" if torch.cuda.is_available() else \"cpu\")\n",
    "print(device)"
   ]
  },
  {
   "cell_type": "code",
   "execution_count": 2,
   "metadata": {},
   "outputs": [],
   "source": [
    "# 从二进制文件中读取映射表\n",
    "with open('data/tag_embedding_dict.pkl', 'rb') as f:\n",
    "    tag_embedding_dict = pickle.load(f)"
   ]
  },
  {
   "cell_type": "code",
   "execution_count": 3,
   "metadata": {},
   "outputs": [
    {
     "name": "stdout",
     "output_type": "stream",
     "text": [
      "           User     Book  Rate                       Time         Tag\n",
      "0       1398478  1467022     0  2011-03-29T12:48:35+08:00         NaN\n",
      "1       1398478  1777823     0  2011-02-02T21:58:55+08:00         NaN\n",
      "2       1398478  1902628     0  2011-01-31T15:57:58+08:00         NaN\n",
      "3       1398478  1878708     0  2011-01-26T11:27:59+08:00         NaN\n",
      "4       1398478  4238362     0  2011-01-21T13:04:15+08:00         NaN\n",
      "...         ...      ...   ...                        ...         ...\n",
      "637249  4507957  1125186     4  2009-07-04T08:02:13+08:00  张爱玲,半生缘,爱情\n",
      "637250  4507957  1002299     5  2009-07-04T08:01:28+08:00  金庸,武侠,笑傲江湖\n",
      "637251  4507957  1001136     4  2009-07-04T07:55:17+08:00     彼得・潘,童话\n",
      "637252  4507957  1021615     5  2009-07-04T07:53:54+08:00   小王子,童话,经典\n",
      "637253  4507957  1962929     5  2009-06-29T22:13:37+08:00          爱情\n",
      "\n",
      "[637254 rows x 5 columns]\n"
     ]
    }
   ],
   "source": [
    "# 读loaded_data取保存的 CSV 文件\n",
    "loaded_data = pd.read_csv('../data/book_score.csv')\n",
    "\n",
    "# 显示加载的数据\n",
    "print(loaded_data)"
   ]
  },
  {
   "cell_type": "code",
   "execution_count": 4,
   "metadata": {},
   "outputs": [],
   "source": [
    "class BookRatingDataset(Dataset):\n",
    "    def __init__(self, data, user_to_idx, book_to_idx, tag_embedding_dict):\n",
    "        self.data = data\n",
    "        self.user_to_idx = user_to_idx\n",
    "        self.book_to_idx = book_to_idx\n",
    "        self.tag_embedding_dict = tag_embedding_dict\n",
    "\n",
    "    def __len__(self):\n",
    "        return len(self.data)\n",
    "\n",
    "    def __getitem__(self, index):\n",
    "        row = self.data.iloc[index]\n",
    "        user = self.user_to_idx[row['User']]\n",
    "        book = self.book_to_idx[row['Book']]\n",
    "        rating = row['Rate'].astype('float32')\n",
    "        text_embedding = self.tag_embedding_dict.get(row['Book'])\n",
    "        return user, book, rating, text_embedding\n",
    "\n",
    "class MatrixFactorization(nn.Module):\n",
    "    def __init__(self, num_users, num_books, embedding_dim, hidden_state):\n",
    "        super(MatrixFactorization, self).__init__()\n",
    "        self.user_embeddings = nn.Embedding(num_users, embedding_dim)\n",
    "        self.book_embeddings = nn.Embedding(num_books, embedding_dim)\n",
    "        self.linear_embedding = nn.Linear(hidden_state, embedding_dim)\n",
    "        self.output = nn.Linear(embedding_dim, 6)\n",
    "\n",
    "    def forward(self, user, book, tag_embedding):\n",
    "        user_embedding = self.user_embeddings(user)\n",
    "        book_embedding = self.book_embeddings(book)\n",
    "        tag_embedding_proj = self.linear_embedding(tag_embedding)\n",
    "        book_intergrate = book_embedding + tag_embedding_proj\n",
    "        return (user_embedding * book_intergrate).sum(dim = 1)\n",
    "        \n",
    "def create_id_mapping(id_list):\n",
    "    # 从ID列表中删除重复项并创建一个排序的列表\n",
    "    unique_ids = sorted(set(id_list))\n",
    "    \n",
    "    # 创建将原始ID映射到连续索引的字典\n",
    "    id_to_idx = {id: idx for idx, id in enumerate(unique_ids)}\n",
    "    \n",
    "    # 创建将连续索引映射回原始ID的字典\n",
    "    idx_to_id = {idx: id for id, idx in id_to_idx.items()}\n",
    "    \n",
    "    return id_to_idx, idx_to_id\n",
    "\n",
    "# 按用户分组计算NDCG\n",
    "def compute_ndcg(group):\n",
    "    true_ratings = group['true'].tolist()\n",
    "    pred_ratings = group['pred'].tolist()\n",
    "    return ndcg_score([true_ratings], [pred_ratings], k = 50)"
   ]
  },
  {
   "cell_type": "code",
   "execution_count": 10,
   "metadata": {},
   "outputs": [],
   "source": [
    "user_ids = loaded_data['User'].unique()\n",
    "book_ids = loaded_data['Book'].unique()\n",
    "\n",
    "user_to_idx, idx_to_user = create_id_mapping(user_ids)\n",
    "book_to_idx, idx_to_book = create_id_mapping(book_ids)\n",
    "\n",
    "# 划分训练集和测试集\n",
    "train_data, test_data = train_test_split(loaded_data, test_size=0.5, random_state=42)\n",
    "\n",
    "# 创建训练集和测试集的数据集对象\n",
    "train_dataset = BookRatingDataset(train_data, user_to_idx, book_to_idx, tag_embedding_dict)\n",
    "test_dataset = BookRatingDataset(test_data, user_to_idx, book_to_idx, tag_embedding_dict)\n",
    "\n",
    "# 创建训练集和测试集的数据加载器\n",
    "train_dataloader = DataLoader(train_dataset, batch_size=4096, shuffle=True, drop_last = True)\n",
    "test_dataloader = DataLoader(test_dataset, batch_size=4096, shuffle=False, drop_last = True)\n",
    "\n",
    "num_users = loaded_data['User'].nunique()  \n",
    "num_books = loaded_data['Book'].nunique() \n",
    "embedding_dim, hidden_state = 32, 768\n",
    "\n",
    "model = MatrixFactorization(num_users, num_books, embedding_dim, hidden_state).to(device)\n",
    "criterion = nn.MSELoss()\n",
    "optimizer = torch.optim.Adam(model.parameters(), lr=0.01)"
   ]
  },
  {
   "cell_type": "markdown",
   "metadata": {},
   "source": [
    "### 训练"
   ]
  },
  {
   "cell_type": "code",
   "execution_count": null,
   "metadata": {},
   "outputs": [
    {
     "name": "stderr",
     "output_type": "stream",
     "text": [
      "1it [00:00,  1.90it/s]"
     ]
    },
    {
     "name": "stdout",
     "output_type": "stream",
     "text": [
      "第1轮，第0步，训练损失：45.015174865722656\n"
     ]
    },
    {
     "name": "stderr",
     "output_type": "stream",
     "text": [
      "77it [00:31,  2.46it/s]\n"
     ]
    },
    {
     "name": "stdout",
     "output_type": "stream",
     "text": [
      "第1轮，平均训练损失：42.668808726521284\n",
      "第1轮，测试集第0步，预测完成\n",
      "第1轮，测试集第1步，预测完成\n",
      "第1轮，测试集第2步，预测完成\n",
      "第1轮，测试集第3步，预测完成\n",
      "第1轮，测试集第4步，预测完成\n",
      "第1轮，测试集第5步，预测完成\n",
      "第1轮，测试集第6步，预测完成\n",
      "第1轮，测试集第7步，预测完成\n",
      "第1轮，测试集第8步，预测完成\n",
      "第1轮，测试集第9步，预测完成\n",
      "第1轮，测试集第10步，预测完成\n",
      "第1轮，测试集第11步，预测完成\n",
      "第1轮，测试集第12步，预测完成\n",
      "第1轮，测试集第13步，预测完成\n",
      "第1轮，测试集第14步，预测完成\n",
      "第1轮，测试集第15步，预测完成\n",
      "第1轮，测试集第16步，预测完成\n",
      "第1轮，测试集第17步，预测完成\n",
      "第1轮，测试集第18步，预测完成\n",
      "第1轮，测试集第19步，预测完成\n",
      "第1轮，测试集第20步，预测完成\n",
      "第1轮，测试集第21步，预测完成\n",
      "第1轮，测试集第22步，预测完成\n",
      "第1轮，测试集第23步，预测完成\n",
      "第1轮，测试集第24步，预测完成\n",
      "第1轮，测试集第25步，预测完成\n",
      "第1轮，测试集第26步，预测完成\n",
      "第1轮，测试集第27步，预测完成\n",
      "第1轮，测试集第28步，预测完成\n",
      "第1轮，测试集第29步，预测完成\n",
      "第1轮，测试集第30步，预测完成\n",
      "第1轮，测试集第31步，预测完成\n",
      "第1轮，测试集第32步，预测完成\n",
      "第1轮，测试集第33步，预测完成\n",
      "第1轮，测试集第34步，预测完成\n",
      "第1轮，测试集第35步，预测完成\n",
      "第1轮，测试集第36步，预测完成\n",
      "第1轮，测试集第37步，预测完成\n",
      "第1轮，测试集第38步，预测完成\n",
      "第1轮，测试集第39步，预测完成\n",
      "第1轮，测试集第40步，预测完成\n",
      "第1轮，测试集第41步，预测完成\n",
      "第1轮，测试集第42步，预测完成\n",
      "第1轮，测试集第43步，预测完成\n",
      "第1轮，测试集第44步，预测完成\n",
      "第1轮，测试集第45步，预测完成\n",
      "第1轮，测试集第46步，预测完成\n",
      "第1轮，测试集第47步，预测完成\n",
      "第1轮，测试集第48步，预测完成\n",
      "第1轮，测试集第49步，预测完成\n",
      "第1轮，测试集第50步，预测完成\n",
      "第1轮，测试集第51步，预测完成\n",
      "第1轮，测试集第52步，预测完成\n",
      "第1轮，测试集第53步，预测完成\n",
      "第1轮，测试集第54步，预测完成\n",
      "第1轮，测试集第55步，预测完成\n",
      "第1轮，测试集第56步，预测完成\n",
      "第1轮，测试集第57步，预测完成\n",
      "第1轮，测试集第58步，预测完成\n",
      "第1轮，测试集第59步，预测完成\n",
      "第1轮，测试集第60步，预测完成\n",
      "第1轮，测试集第61步，预测完成\n",
      "第1轮，测试集第62步，预测完成\n",
      "第1轮，测试集第63步，预测完成\n",
      "第1轮，测试集第64步，预测完成\n",
      "第1轮，测试集第65步，预测完成\n",
      "第1轮，测试集第66步，预测完成\n",
      "第1轮，测试集第67步，预测完成\n",
      "第1轮，测试集第68步，预测完成\n",
      "第1轮，测试集第69步，预测完成\n",
      "第1轮，测试集第70步，预测完成\n",
      "第1轮，测试集第71步，预测完成\n",
      "第1轮，测试集第72步，预测完成\n",
      "第1轮，测试集第73步，预测完成\n",
      "第1轮，测试集第74步，预测完成\n",
      "第1轮，测试集第75步，预测完成\n",
      "第1轮，测试集第76步，预测完成\n"
     ]
    },
    {
     "name": "stderr",
     "output_type": "stream",
     "text": [
      "C:\\Users\\22609\\AppData\\Local\\Temp\\ipykernel_19980\\1417372104.py:57: DeprecationWarning: DataFrameGroupBy.apply operated on the grouping columns. This behavior is deprecated, and in a future version of pandas the grouping columns will be excluded from the operation. Either pass `include_groups=False` to exclude the groupings or explicitly select the grouping columns after groupby to silence this warning.\n",
      "  ndcg_scores = results_df.groupby('user').apply(compute_ndcg)\n"
     ]
    },
    {
     "name": "stdout",
     "output_type": "stream",
     "text": [
      "Epoch 0, Train loss: 42.668808726521284, Test loss:, 30.057692713551706, Average NDCG: 0.6676277760519954\n"
     ]
    },
    {
     "name": "stderr",
     "output_type": "stream",
     "text": [
      "1it [00:00,  2.80it/s]"
     ]
    },
    {
     "name": "stdout",
     "output_type": "stream",
     "text": [
      "第2轮，第0步，训练损失：27.425493240356445\n"
     ]
    },
    {
     "name": "stderr",
     "output_type": "stream",
     "text": [
      "77it [00:29,  2.58it/s]\n"
     ]
    },
    {
     "name": "stdout",
     "output_type": "stream",
     "text": [
      "第2轮，平均训练损失：23.764034766655463\n",
      "第2轮，测试集第0步，预测完成\n",
      "第2轮，测试集第1步，预测完成\n",
      "第2轮，测试集第2步，预测完成\n",
      "第2轮，测试集第3步，预测完成\n",
      "第2轮，测试集第4步，预测完成\n",
      "第2轮，测试集第5步，预测完成\n",
      "第2轮，测试集第6步，预测完成\n",
      "第2轮，测试集第7步，预测完成\n",
      "第2轮，测试集第8步，预测完成\n",
      "第2轮，测试集第9步，预测完成\n",
      "第2轮，测试集第10步，预测完成\n",
      "第2轮，测试集第11步，预测完成\n",
      "第2轮，测试集第12步，预测完成\n",
      "第2轮，测试集第13步，预测完成\n",
      "第2轮，测试集第14步，预测完成\n",
      "第2轮，测试集第15步，预测完成\n",
      "第2轮，测试集第16步，预测完成\n",
      "第2轮，测试集第17步，预测完成\n",
      "第2轮，测试集第18步，预测完成\n",
      "第2轮，测试集第19步，预测完成\n",
      "第2轮，测试集第20步，预测完成\n",
      "第2轮，测试集第21步，预测完成\n",
      "第2轮，测试集第22步，预测完成\n",
      "第2轮，测试集第23步，预测完成\n",
      "第2轮，测试集第24步，预测完成\n",
      "第2轮，测试集第25步，预测完成\n",
      "第2轮，测试集第26步，预测完成\n",
      "第2轮，测试集第27步，预测完成\n",
      "第2轮，测试集第28步，预测完成\n",
      "第2轮，测试集第29步，预测完成\n",
      "第2轮，测试集第30步，预测完成\n",
      "第2轮，测试集第31步，预测完成\n",
      "第2轮，测试集第32步，预测完成\n",
      "第2轮，测试集第33步，预测完成\n",
      "第2轮，测试集第34步，预测完成\n",
      "第2轮，测试集第35步，预测完成\n",
      "第2轮，测试集第36步，预测完成\n",
      "第2轮，测试集第37步，预测完成\n",
      "第2轮，测试集第38步，预测完成\n",
      "第2轮，测试集第39步，预测完成\n",
      "第2轮，测试集第40步，预测完成\n",
      "第2轮，测试集第41步，预测完成\n",
      "第2轮，测试集第42步，预测完成\n",
      "第2轮，测试集第43步，预测完成\n",
      "第2轮，测试集第44步，预测完成\n",
      "第2轮，测试集第45步，预测完成\n",
      "第2轮，测试集第46步，预测完成\n",
      "第2轮，测试集第47步，预测完成\n",
      "第2轮，测试集第48步，预测完成\n",
      "第2轮，测试集第49步，预测完成\n",
      "第2轮，测试集第50步，预测完成\n",
      "第2轮，测试集第51步，预测完成\n",
      "第2轮，测试集第52步，预测完成\n",
      "第2轮，测试集第53步，预测完成\n",
      "第2轮，测试集第54步，预测完成\n",
      "第2轮，测试集第55步，预测完成\n",
      "第2轮，测试集第56步，预测完成\n",
      "第2轮，测试集第57步，预测完成\n",
      "第2轮，测试集第58步，预测完成\n",
      "第2轮，测试集第59步，预测完成\n",
      "第2轮，测试集第60步，预测完成\n",
      "第2轮，测试集第61步，预测完成\n",
      "第2轮，测试集第62步，预测完成\n",
      "第2轮，测试集第63步，预测完成\n",
      "第2轮，测试集第64步，预测完成\n",
      "第2轮，测试集第65步，预测完成\n",
      "第2轮，测试集第66步，预测完成\n",
      "第2轮，测试集第67步，预测完成\n",
      "第2轮，测试集第68步，预测完成\n",
      "第2轮，测试集第69步，预测完成\n",
      "第2轮，测试集第70步，预测完成\n",
      "第2轮，测试集第71步，预测完成\n",
      "第2轮，测试集第72步，预测完成\n",
      "第2轮，测试集第73步，预测完成\n",
      "第2轮，测试集第74步，预测完成\n",
      "第2轮，测试集第75步，预测完成\n",
      "第2轮，测试集第76步，预测完成\n"
     ]
    },
    {
     "name": "stderr",
     "output_type": "stream",
     "text": [
      "C:\\Users\\22609\\AppData\\Local\\Temp\\ipykernel_19980\\1417372104.py:57: DeprecationWarning: DataFrameGroupBy.apply operated on the grouping columns. This behavior is deprecated, and in a future version of pandas the grouping columns will be excluded from the operation. Either pass `include_groups=False` to exclude the groupings or explicitly select the grouping columns after groupby to silence this warning.\n",
      "  ndcg_scores = results_df.groupby('user').apply(compute_ndcg)\n"
     ]
    },
    {
     "name": "stdout",
     "output_type": "stream",
     "text": [
      "Epoch 1, Train loss: 23.764034766655463, Test loss:, 21.906945934543362, Average NDCG: 0.6684096951820601\n"
     ]
    },
    {
     "name": "stderr",
     "output_type": "stream",
     "text": [
      "1it [00:00,  2.35it/s]"
     ]
    },
    {
     "name": "stdout",
     "output_type": "stream",
     "text": [
      "第3轮，第0步，训练损失：17.91983985900879\n"
     ]
    },
    {
     "name": "stderr",
     "output_type": "stream",
     "text": [
      "77it [00:25,  3.00it/s]\n"
     ]
    },
    {
     "name": "stdout",
     "output_type": "stream",
     "text": [
      "第3轮，平均训练损失：14.693126405988421\n",
      "第3轮，测试集第0步，预测完成\n",
      "第3轮，测试集第1步，预测完成\n",
      "第3轮，测试集第2步，预测完成\n",
      "第3轮，测试集第3步，预测完成\n",
      "第3轮，测试集第4步，预测完成\n",
      "第3轮，测试集第5步，预测完成\n",
      "第3轮，测试集第6步，预测完成\n",
      "第3轮，测试集第7步，预测完成\n",
      "第3轮，测试集第8步，预测完成\n",
      "第3轮，测试集第9步，预测完成\n",
      "第3轮，测试集第10步，预测完成\n",
      "第3轮，测试集第11步，预测完成\n",
      "第3轮，测试集第12步，预测完成\n",
      "第3轮，测试集第13步，预测完成\n",
      "第3轮，测试集第14步，预测完成\n",
      "第3轮，测试集第15步，预测完成\n",
      "第3轮，测试集第16步，预测完成\n",
      "第3轮，测试集第17步，预测完成\n",
      "第3轮，测试集第18步，预测完成\n",
      "第3轮，测试集第19步，预测完成\n",
      "第3轮，测试集第20步，预测完成\n",
      "第3轮，测试集第21步，预测完成\n",
      "第3轮，测试集第22步，预测完成\n",
      "第3轮，测试集第23步，预测完成\n",
      "第3轮，测试集第24步，预测完成\n",
      "第3轮，测试集第25步，预测完成\n",
      "第3轮，测试集第26步，预测完成\n",
      "第3轮，测试集第27步，预测完成\n",
      "第3轮，测试集第28步，预测完成\n",
      "第3轮，测试集第29步，预测完成\n",
      "第3轮，测试集第30步，预测完成\n",
      "第3轮，测试集第31步，预测完成\n",
      "第3轮，测试集第32步，预测完成\n",
      "第3轮，测试集第33步，预测完成\n",
      "第3轮，测试集第34步，预测完成\n",
      "第3轮，测试集第35步，预测完成\n",
      "第3轮，测试集第36步，预测完成\n",
      "第3轮，测试集第37步，预测完成\n",
      "第3轮，测试集第38步，预测完成\n",
      "第3轮，测试集第39步，预测完成\n",
      "第3轮，测试集第40步，预测完成\n",
      "第3轮，测试集第41步，预测完成\n",
      "第3轮，测试集第42步，预测完成\n",
      "第3轮，测试集第43步，预测完成\n",
      "第3轮，测试集第44步，预测完成\n",
      "第3轮，测试集第45步，预测完成\n",
      "第3轮，测试集第46步，预测完成\n",
      "第3轮，测试集第47步，预测完成\n",
      "第3轮，测试集第48步，预测完成\n",
      "第3轮，测试集第49步，预测完成\n",
      "第3轮，测试集第50步，预测完成\n",
      "第3轮，测试集第51步，预测完成\n",
      "第3轮，测试集第52步，预测完成\n",
      "第3轮，测试集第53步，预测完成\n",
      "第3轮，测试集第54步，预测完成\n",
      "第3轮，测试集第55步，预测完成\n",
      "第3轮，测试集第56步，预测完成\n",
      "第3轮，测试集第57步，预测完成\n",
      "第3轮，测试集第58步，预测完成\n",
      "第3轮，测试集第59步，预测完成\n",
      "第3轮，测试集第60步，预测完成\n",
      "第3轮，测试集第61步，预测完成\n",
      "第3轮，测试集第62步，预测完成\n",
      "第3轮，测试集第63步，预测完成\n",
      "第3轮，测试集第64步，预测完成\n",
      "第3轮，测试集第65步，预测完成\n",
      "第3轮，测试集第66步，预测完成\n",
      "第3轮，测试集第67步，预测完成\n",
      "第3轮，测试集第68步，预测完成\n",
      "第3轮，测试集第69步，预测完成\n",
      "第3轮，测试集第70步，预测完成\n",
      "第3轮，测试集第71步，预测完成\n",
      "第3轮，测试集第72步，预测完成\n",
      "第3轮，测试集第73步，预测完成\n",
      "第3轮，测试集第74步，预测完成\n",
      "第3轮，测试集第75步，预测完成\n",
      "第3轮，测试集第76步，预测完成\n"
     ]
    },
    {
     "name": "stderr",
     "output_type": "stream",
     "text": [
      "C:\\Users\\22609\\AppData\\Local\\Temp\\ipykernel_19980\\1417372104.py:57: DeprecationWarning: DataFrameGroupBy.apply operated on the grouping columns. This behavior is deprecated, and in a future version of pandas the grouping columns will be excluded from the operation. Either pass `include_groups=False` to exclude the groupings or explicitly select the grouping columns after groupby to silence this warning.\n",
      "  ndcg_scores = results_df.groupby('user').apply(compute_ndcg)\n"
     ]
    },
    {
     "name": "stdout",
     "output_type": "stream",
     "text": [
      "Epoch 2, Train loss: 14.693126405988421, Test loss:, 15.427118090840128, Average NDCG: 0.6698098996273699\n"
     ]
    },
    {
     "name": "stderr",
     "output_type": "stream",
     "text": [
      "1it [00:00,  1.94it/s]"
     ]
    },
    {
     "name": "stdout",
     "output_type": "stream",
     "text": [
      "第4轮，第0步，训练损失：9.58424186706543\n"
     ]
    },
    {
     "name": "stderr",
     "output_type": "stream",
     "text": [
      "77it [00:24,  3.19it/s]\n"
     ]
    },
    {
     "name": "stdout",
     "output_type": "stream",
     "text": [
      "第4轮，平均训练损失：8.043616003804393\n",
      "第4轮，测试集第0步，预测完成\n",
      "第4轮，测试集第1步，预测完成\n",
      "第4轮，测试集第2步，预测完成\n",
      "第4轮，测试集第3步，预测完成\n",
      "第4轮，测试集第4步，预测完成\n",
      "第4轮，测试集第5步，预测完成\n",
      "第4轮，测试集第6步，预测完成\n",
      "第4轮，测试集第7步，预测完成\n",
      "第4轮，测试集第8步，预测完成\n",
      "第4轮，测试集第9步，预测完成\n",
      "第4轮，测试集第10步，预测完成\n",
      "第4轮，测试集第11步，预测完成\n",
      "第4轮，测试集第12步，预测完成\n",
      "第4轮，测试集第13步，预测完成\n",
      "第4轮，测试集第14步，预测完成\n",
      "第4轮，测试集第15步，预测完成\n",
      "第4轮，测试集第16步，预测完成\n",
      "第4轮，测试集第17步，预测完成\n",
      "第4轮，测试集第18步，预测完成\n",
      "第4轮，测试集第19步，预测完成\n",
      "第4轮，测试集第20步，预测完成\n",
      "第4轮，测试集第21步，预测完成\n",
      "第4轮，测试集第22步，预测完成\n",
      "第4轮，测试集第23步，预测完成\n",
      "第4轮，测试集第24步，预测完成\n",
      "第4轮，测试集第25步，预测完成\n",
      "第4轮，测试集第26步，预测完成\n",
      "第4轮，测试集第27步，预测完成\n",
      "第4轮，测试集第28步，预测完成\n",
      "第4轮，测试集第29步，预测完成\n",
      "第4轮，测试集第30步，预测完成\n",
      "第4轮，测试集第31步，预测完成\n",
      "第4轮，测试集第32步，预测完成\n",
      "第4轮，测试集第33步，预测完成\n",
      "第4轮，测试集第34步，预测完成\n",
      "第4轮，测试集第35步，预测完成\n",
      "第4轮，测试集第36步，预测完成\n",
      "第4轮，测试集第37步，预测完成\n",
      "第4轮，测试集第38步，预测完成\n",
      "第4轮，测试集第39步，预测完成\n",
      "第4轮，测试集第40步，预测完成\n",
      "第4轮，测试集第41步，预测完成\n",
      "第4轮，测试集第42步，预测完成\n",
      "第4轮，测试集第43步，预测完成\n",
      "第4轮，测试集第44步，预测完成\n",
      "第4轮，测试集第45步，预测完成\n",
      "第4轮，测试集第46步，预测完成\n",
      "第4轮，测试集第47步，预测完成\n",
      "第4轮，测试集第48步，预测完成\n",
      "第4轮，测试集第49步，预测完成\n",
      "第4轮，测试集第50步，预测完成\n",
      "第4轮，测试集第51步，预测完成\n",
      "第4轮，测试集第52步，预测完成\n",
      "第4轮，测试集第53步，预测完成\n",
      "第4轮，测试集第54步，预测完成\n",
      "第4轮，测试集第55步，预测完成\n",
      "第4轮，测试集第56步，预测完成\n",
      "第4轮，测试集第57步，预测完成\n",
      "第4轮，测试集第58步，预测完成\n",
      "第4轮，测试集第59步，预测完成\n",
      "第4轮，测试集第60步，预测完成\n",
      "第4轮，测试集第61步，预测完成\n",
      "第4轮，测试集第62步，预测完成\n",
      "第4轮，测试集第63步，预测完成\n",
      "第4轮，测试集第64步，预测完成\n",
      "第4轮，测试集第65步，预测完成\n",
      "第4轮，测试集第66步，预测完成\n",
      "第4轮，测试集第67步，预测完成\n",
      "第4轮，测试集第68步，预测完成\n",
      "第4轮，测试集第69步，预测完成\n",
      "第4轮，测试集第70步，预测完成\n",
      "第4轮，测试集第71步，预测完成\n",
      "第4轮，测试集第72步，预测完成\n",
      "第4轮，测试集第73步，预测完成\n",
      "第4轮，测试集第74步，预测完成\n",
      "第4轮，测试集第75步，预测完成\n",
      "第4轮，测试集第76步，预测完成\n"
     ]
    },
    {
     "name": "stderr",
     "output_type": "stream",
     "text": [
      "C:\\Users\\22609\\AppData\\Local\\Temp\\ipykernel_19980\\1417372104.py:57: DeprecationWarning: DataFrameGroupBy.apply operated on the grouping columns. This behavior is deprecated, and in a future version of pandas the grouping columns will be excluded from the operation. Either pass `include_groups=False` to exclude the groupings or explicitly select the grouping columns after groupby to silence this warning.\n",
      "  ndcg_scores = results_df.groupby('user').apply(compute_ndcg)\n"
     ]
    },
    {
     "name": "stdout",
     "output_type": "stream",
     "text": [
      "Epoch 3, Train loss: 8.043616003804393, Test loss:, 11.991508892604283, Average NDCG: 0.6714873171188076\n"
     ]
    },
    {
     "name": "stderr",
     "output_type": "stream",
     "text": [
      "1it [00:00,  2.53it/s]"
     ]
    },
    {
     "name": "stdout",
     "output_type": "stream",
     "text": [
      "第5轮，第0步，训练损失：6.046758651733398\n"
     ]
    },
    {
     "name": "stderr",
     "output_type": "stream",
     "text": [
      "77it [00:28,  2.70it/s]\n"
     ]
    },
    {
     "name": "stdout",
     "output_type": "stream",
     "text": [
      "第5轮，平均训练损失：5.604233382584213\n",
      "第5轮，测试集第0步，预测完成\n",
      "第5轮，测试集第1步，预测完成\n",
      "第5轮，测试集第2步，预测完成\n",
      "第5轮，测试集第3步，预测完成\n",
      "第5轮，测试集第4步，预测完成\n",
      "第5轮，测试集第5步，预测完成\n",
      "第5轮，测试集第6步，预测完成\n",
      "第5轮，测试集第7步，预测完成\n",
      "第5轮，测试集第8步，预测完成\n",
      "第5轮，测试集第9步，预测完成\n",
      "第5轮，测试集第10步，预测完成\n",
      "第5轮，测试集第11步，预测完成\n",
      "第5轮，测试集第12步，预测完成\n",
      "第5轮，测试集第13步，预测完成\n",
      "第5轮，测试集第14步，预测完成\n",
      "第5轮，测试集第15步，预测完成\n",
      "第5轮，测试集第16步，预测完成\n",
      "第5轮，测试集第17步，预测完成\n",
      "第5轮，测试集第18步，预测完成\n",
      "第5轮，测试集第19步，预测完成\n",
      "第5轮，测试集第20步，预测完成\n",
      "第5轮，测试集第21步，预测完成\n",
      "第5轮，测试集第22步，预测完成\n",
      "第5轮，测试集第23步，预测完成\n",
      "第5轮，测试集第24步，预测完成\n",
      "第5轮，测试集第25步，预测完成\n",
      "第5轮，测试集第26步，预测完成\n",
      "第5轮，测试集第27步，预测完成\n",
      "第5轮，测试集第28步，预测完成\n",
      "第5轮，测试集第29步，预测完成\n",
      "第5轮，测试集第30步，预测完成\n",
      "第5轮，测试集第31步，预测完成\n",
      "第5轮，测试集第32步，预测完成\n",
      "第5轮，测试集第33步，预测完成\n",
      "第5轮，测试集第34步，预测完成\n",
      "第5轮，测试集第35步，预测完成\n",
      "第5轮，测试集第36步，预测完成\n",
      "第5轮，测试集第37步，预测完成\n",
      "第5轮，测试集第38步，预测完成\n",
      "第5轮，测试集第39步，预测完成\n",
      "第5轮，测试集第40步，预测完成\n",
      "第5轮，测试集第41步，预测完成\n",
      "第5轮，测试集第42步，预测完成\n",
      "第5轮，测试集第43步，预测完成\n",
      "第5轮，测试集第44步，预测完成\n",
      "第5轮，测试集第45步，预测完成\n",
      "第5轮，测试集第46步，预测完成\n",
      "第5轮，测试集第47步，预测完成\n",
      "第5轮，测试集第48步，预测完成\n",
      "第5轮，测试集第49步，预测完成\n",
      "第5轮，测试集第50步，预测完成\n",
      "第5轮，测试集第51步，预测完成\n",
      "第5轮，测试集第52步，预测完成\n",
      "第5轮，测试集第53步，预测完成\n",
      "第5轮，测试集第54步，预测完成\n",
      "第5轮，测试集第55步，预测完成\n",
      "第5轮，测试集第56步，预测完成\n",
      "第5轮，测试集第57步，预测完成\n",
      "第5轮，测试集第58步，预测完成\n",
      "第5轮，测试集第59步，预测完成\n",
      "第5轮，测试集第60步，预测完成\n",
      "第5轮，测试集第61步，预测完成\n",
      "第5轮，测试集第62步，预测完成\n",
      "第5轮，测试集第63步，预测完成\n",
      "第5轮，测试集第64步，预测完成\n",
      "第5轮，测试集第65步，预测完成\n",
      "第5轮，测试集第66步，预测完成\n",
      "第5轮，测试集第67步，预测完成\n",
      "第5轮，测试集第68步，预测完成\n",
      "第5轮，测试集第69步，预测完成\n",
      "第5轮，测试集第70步，预测完成\n",
      "第5轮，测试集第71步，预测完成\n",
      "第5轮，测试集第72步，预测完成\n",
      "第5轮，测试集第73步，预测完成\n",
      "第5轮，测试集第74步，预测完成\n",
      "第5轮，测试集第75步，预测完成\n",
      "第5轮，测试集第76步，预测完成\n"
     ]
    },
    {
     "name": "stderr",
     "output_type": "stream",
     "text": [
      "C:\\Users\\22609\\AppData\\Local\\Temp\\ipykernel_19980\\1417372104.py:57: DeprecationWarning: DataFrameGroupBy.apply operated on the grouping columns. This behavior is deprecated, and in a future version of pandas the grouping columns will be excluded from the operation. Either pass `include_groups=False` to exclude the groupings or explicitly select the grouping columns after groupby to silence this warning.\n",
      "  ndcg_scores = results_df.groupby('user').apply(compute_ndcg)\n"
     ]
    },
    {
     "name": "stdout",
     "output_type": "stream",
     "text": [
      "Epoch 4, Train loss: 5.604233382584213, Test loss:, 10.587101725788859, Average NDCG: 0.6732655396459735\n"
     ]
    },
    {
     "name": "stderr",
     "output_type": "stream",
     "text": [
      "1it [00:00,  1.36it/s]"
     ]
    },
    {
     "name": "stdout",
     "output_type": "stream",
     "text": [
      "第6轮，第0步，训练损失：4.922718524932861\n"
     ]
    },
    {
     "name": "stderr",
     "output_type": "stream",
     "text": [
      "77it [00:30,  2.49it/s]\n"
     ]
    },
    {
     "name": "stdout",
     "output_type": "stream",
     "text": [
      "第6轮，平均训练损失：4.403598519114705\n",
      "第6轮，测试集第0步，预测完成\n",
      "第6轮，测试集第1步，预测完成\n",
      "第6轮，测试集第2步，预测完成\n",
      "第6轮，测试集第3步，预测完成\n",
      "第6轮，测试集第4步，预测完成\n",
      "第6轮，测试集第5步，预测完成\n",
      "第6轮，测试集第6步，预测完成\n",
      "第6轮，测试集第7步，预测完成\n",
      "第6轮，测试集第8步，预测完成\n",
      "第6轮，测试集第9步，预测完成\n",
      "第6轮，测试集第10步，预测完成\n",
      "第6轮，测试集第11步，预测完成\n",
      "第6轮，测试集第12步，预测完成\n",
      "第6轮，测试集第13步，预测完成\n",
      "第6轮，测试集第14步，预测完成\n",
      "第6轮，测试集第15步，预测完成\n",
      "第6轮，测试集第16步，预测完成\n",
      "第6轮，测试集第17步，预测完成\n",
      "第6轮，测试集第18步，预测完成\n",
      "第6轮，测试集第19步，预测完成\n",
      "第6轮，测试集第20步，预测完成\n",
      "第6轮，测试集第21步，预测完成\n",
      "第6轮，测试集第22步，预测完成\n",
      "第6轮，测试集第23步，预测完成\n",
      "第6轮，测试集第24步，预测完成\n",
      "第6轮，测试集第25步，预测完成\n",
      "第6轮，测试集第26步，预测完成\n",
      "第6轮，测试集第27步，预测完成\n",
      "第6轮，测试集第28步，预测完成\n",
      "第6轮，测试集第29步，预测完成\n",
      "第6轮，测试集第30步，预测完成\n",
      "第6轮，测试集第31步，预测完成\n",
      "第6轮，测试集第32步，预测完成\n",
      "第6轮，测试集第33步，预测完成\n",
      "第6轮，测试集第34步，预测完成\n",
      "第6轮，测试集第35步，预测完成\n",
      "第6轮，测试集第36步，预测完成\n",
      "第6轮，测试集第37步，预测完成\n",
      "第6轮，测试集第38步，预测完成\n",
      "第6轮，测试集第39步，预测完成\n",
      "第6轮，测试集第40步，预测完成\n",
      "第6轮，测试集第41步，预测完成\n",
      "第6轮，测试集第42步，预测完成\n",
      "第6轮，测试集第43步，预测完成\n",
      "第6轮，测试集第44步，预测完成\n",
      "第6轮，测试集第45步，预测完成\n",
      "第6轮，测试集第46步，预测完成\n",
      "第6轮，测试集第47步，预测完成\n",
      "第6轮，测试集第48步，预测完成\n",
      "第6轮，测试集第49步，预测完成\n",
      "第6轮，测试集第50步，预测完成\n",
      "第6轮，测试集第51步，预测完成\n",
      "第6轮，测试集第52步，预测完成\n",
      "第6轮，测试集第53步，预测完成\n",
      "第6轮，测试集第54步，预测完成\n",
      "第6轮，测试集第55步，预测完成\n",
      "第6轮，测试集第56步，预测完成\n",
      "第6轮，测试集第57步，预测完成\n",
      "第6轮，测试集第58步，预测完成\n",
      "第6轮，测试集第59步，预测完成\n",
      "第6轮，测试集第60步，预测完成\n",
      "第6轮，测试集第61步，预测完成\n",
      "第6轮，测试集第62步，预测完成\n",
      "第6轮，测试集第63步，预测完成\n",
      "第6轮，测试集第64步，预测完成\n",
      "第6轮，测试集第65步，预测完成\n",
      "第6轮，测试集第66步，预测完成\n",
      "第6轮，测试集第67步，预测完成\n",
      "第6轮，测试集第68步，预测完成\n",
      "第6轮，测试集第69步，预测完成\n",
      "第6轮，测试集第70步，预测完成\n",
      "第6轮，测试集第71步，预测完成\n",
      "第6轮，测试集第72步，预测完成\n",
      "第6轮，测试集第73步，预测完成\n",
      "第6轮，测试集第74步，预测完成\n",
      "第6轮，测试集第75步，预测完成\n",
      "第6轮，测试集第76步，预测完成\n"
     ]
    },
    {
     "name": "stderr",
     "output_type": "stream",
     "text": [
      "C:\\Users\\22609\\AppData\\Local\\Temp\\ipykernel_19980\\1417372104.py:57: DeprecationWarning: DataFrameGroupBy.apply operated on the grouping columns. This behavior is deprecated, and in a future version of pandas the grouping columns will be excluded from the operation. Either pass `include_groups=False` to exclude the groupings or explicitly select the grouping columns after groupby to silence this warning.\n",
      "  ndcg_scores = results_df.groupby('user').apply(compute_ndcg)\n"
     ]
    },
    {
     "name": "stdout",
     "output_type": "stream",
     "text": [
      "Epoch 5, Train loss: 4.403598519114705, Test loss:, 9.427325508811258, Average NDCG: 0.674505786162117\n"
     ]
    },
    {
     "name": "stderr",
     "output_type": "stream",
     "text": [
      "1it [00:00,  2.66it/s]"
     ]
    },
    {
     "name": "stdout",
     "output_type": "stream",
     "text": [
      "第7轮，第0步，训练损失：3.7969117164611816\n"
     ]
    },
    {
     "name": "stderr",
     "output_type": "stream",
     "text": [
      "77it [00:26,  2.87it/s]\n"
     ]
    },
    {
     "name": "stdout",
     "output_type": "stream",
     "text": [
      "第7轮，平均训练损失：3.690375758455945\n",
      "第7轮，测试集第0步，预测完成\n",
      "第7轮，测试集第1步，预测完成\n",
      "第7轮，测试集第2步，预测完成\n",
      "第7轮，测试集第3步，预测完成\n",
      "第7轮，测试集第4步，预测完成\n",
      "第7轮，测试集第5步，预测完成\n",
      "第7轮，测试集第6步，预测完成\n",
      "第7轮，测试集第7步，预测完成\n",
      "第7轮，测试集第8步，预测完成\n",
      "第7轮，测试集第9步，预测完成\n",
      "第7轮，测试集第10步，预测完成\n",
      "第7轮，测试集第11步，预测完成\n",
      "第7轮，测试集第12步，预测完成\n",
      "第7轮，测试集第13步，预测完成\n",
      "第7轮，测试集第14步，预测完成\n",
      "第7轮，测试集第15步，预测完成\n",
      "第7轮，测试集第16步，预测完成\n",
      "第7轮，测试集第17步，预测完成\n",
      "第7轮，测试集第18步，预测完成\n",
      "第7轮，测试集第19步，预测完成\n",
      "第7轮，测试集第20步，预测完成\n",
      "第7轮，测试集第21步，预测完成\n",
      "第7轮，测试集第22步，预测完成\n",
      "第7轮，测试集第23步，预测完成\n",
      "第7轮，测试集第24步，预测完成\n",
      "第7轮，测试集第25步，预测完成\n",
      "第7轮，测试集第26步，预测完成\n",
      "第7轮，测试集第27步，预测完成\n",
      "第7轮，测试集第28步，预测完成\n",
      "第7轮，测试集第29步，预测完成\n",
      "第7轮，测试集第30步，预测完成\n",
      "第7轮，测试集第31步，预测完成\n",
      "第7轮，测试集第32步，预测完成\n",
      "第7轮，测试集第33步，预测完成\n",
      "第7轮，测试集第34步，预测完成\n",
      "第7轮，测试集第35步，预测完成\n",
      "第7轮，测试集第36步，预测完成\n",
      "第7轮，测试集第37步，预测完成\n",
      "第7轮，测试集第38步，预测完成\n",
      "第7轮，测试集第39步，预测完成\n",
      "第7轮，测试集第40步，预测完成\n",
      "第7轮，测试集第41步，预测完成\n",
      "第7轮，测试集第42步，预测完成\n",
      "第7轮，测试集第43步，预测完成\n",
      "第7轮，测试集第44步，预测完成\n",
      "第7轮，测试集第45步，预测完成\n",
      "第7轮，测试集第46步，预测完成\n",
      "第7轮，测试集第47步，预测完成\n",
      "第7轮，测试集第48步，预测完成\n",
      "第7轮，测试集第49步，预测完成\n",
      "第7轮，测试集第50步，预测完成\n",
      "第7轮，测试集第51步，预测完成\n",
      "第7轮，测试集第52步，预测完成\n",
      "第7轮，测试集第53步，预测完成\n",
      "第7轮，测试集第54步，预测完成\n",
      "第7轮，测试集第55步，预测完成\n",
      "第7轮，测试集第56步，预测完成\n",
      "第7轮，测试集第57步，预测完成\n",
      "第7轮，测试集第58步，预测完成\n",
      "第7轮，测试集第59步，预测完成\n",
      "第7轮，测试集第60步，预测完成\n",
      "第7轮，测试集第61步，预测完成\n",
      "第7轮，测试集第62步，预测完成\n",
      "第7轮，测试集第63步，预测完成\n",
      "第7轮，测试集第64步，预测完成\n",
      "第7轮，测试集第65步，预测完成\n",
      "第7轮，测试集第66步，预测完成\n",
      "第7轮，测试集第67步，预测完成\n",
      "第7轮，测试集第68步，预测完成\n",
      "第7轮，测试集第69步，预测完成\n",
      "第7轮，测试集第70步，预测完成\n",
      "第7轮，测试集第71步，预测完成\n",
      "第7轮，测试集第72步，预测完成\n",
      "第7轮，测试集第73步，预测完成\n",
      "第7轮，测试集第74步，预测完成\n",
      "第7轮，测试集第75步，预测完成\n",
      "第7轮，测试集第76步，预测完成\n"
     ]
    },
    {
     "name": "stderr",
     "output_type": "stream",
     "text": [
      "C:\\Users\\22609\\AppData\\Local\\Temp\\ipykernel_19980\\1417372104.py:57: DeprecationWarning: DataFrameGroupBy.apply operated on the grouping columns. This behavior is deprecated, and in a future version of pandas the grouping columns will be excluded from the operation. Either pass `include_groups=False` to exclude the groupings or explicitly select the grouping columns after groupby to silence this warning.\n",
      "  ndcg_scores = results_df.groupby('user').apply(compute_ndcg)\n"
     ]
    },
    {
     "name": "stdout",
     "output_type": "stream",
     "text": [
      "Epoch 6, Train loss: 3.690375758455945, Test loss:, 8.972600069912998, Average NDCG: 0.676194415930635\n"
     ]
    },
    {
     "name": "stderr",
     "output_type": "stream",
     "text": [
      "1it [00:00,  2.74it/s]"
     ]
    },
    {
     "name": "stdout",
     "output_type": "stream",
     "text": [
      "第8轮，第0步，训练损失：3.251060962677002\n"
     ]
    },
    {
     "name": "stderr",
     "output_type": "stream",
     "text": [
      "77it [00:26,  2.86it/s]\n"
     ]
    },
    {
     "name": "stdout",
     "output_type": "stream",
     "text": [
      "第8轮，平均训练损失：3.235970943005054\n",
      "第8轮，测试集第0步，预测完成\n",
      "第8轮，测试集第1步，预测完成\n",
      "第8轮，测试集第2步，预测完成\n",
      "第8轮，测试集第3步，预测完成\n",
      "第8轮，测试集第4步，预测完成\n",
      "第8轮，测试集第5步，预测完成\n",
      "第8轮，测试集第6步，预测完成\n",
      "第8轮，测试集第7步，预测完成\n",
      "第8轮，测试集第8步，预测完成\n",
      "第8轮，测试集第9步，预测完成\n",
      "第8轮，测试集第10步，预测完成\n",
      "第8轮，测试集第11步，预测完成\n",
      "第8轮，测试集第12步，预测完成\n",
      "第8轮，测试集第13步，预测完成\n",
      "第8轮，测试集第14步，预测完成\n",
      "第8轮，测试集第15步，预测完成\n",
      "第8轮，测试集第16步，预测完成\n",
      "第8轮，测试集第17步，预测完成\n",
      "第8轮，测试集第18步，预测完成\n",
      "第8轮，测试集第19步，预测完成\n",
      "第8轮，测试集第20步，预测完成\n",
      "第8轮，测试集第21步，预测完成\n",
      "第8轮，测试集第22步，预测完成\n",
      "第8轮，测试集第23步，预测完成\n",
      "第8轮，测试集第24步，预测完成\n",
      "第8轮，测试集第25步，预测完成\n",
      "第8轮，测试集第26步，预测完成\n",
      "第8轮，测试集第27步，预测完成\n",
      "第8轮，测试集第28步，预测完成\n",
      "第8轮，测试集第29步，预测完成\n",
      "第8轮，测试集第30步，预测完成\n",
      "第8轮，测试集第31步，预测完成\n",
      "第8轮，测试集第32步，预测完成\n",
      "第8轮，测试集第33步，预测完成\n",
      "第8轮，测试集第34步，预测完成\n",
      "第8轮，测试集第35步，预测完成\n",
      "第8轮，测试集第36步，预测完成\n",
      "第8轮，测试集第37步，预测完成\n",
      "第8轮，测试集第38步，预测完成\n",
      "第8轮，测试集第39步，预测完成\n",
      "第8轮，测试集第40步，预测完成\n",
      "第8轮，测试集第41步，预测完成\n",
      "第8轮，测试集第42步，预测完成\n",
      "第8轮，测试集第43步，预测完成\n",
      "第8轮，测试集第44步，预测完成\n",
      "第8轮，测试集第45步，预测完成\n",
      "第8轮，测试集第46步，预测完成\n",
      "第8轮，测试集第47步，预测完成\n",
      "第8轮，测试集第48步，预测完成\n",
      "第8轮，测试集第49步，预测完成\n",
      "第8轮，测试集第50步，预测完成\n",
      "第8轮，测试集第51步，预测完成\n",
      "第8轮，测试集第52步，预测完成\n",
      "第8轮，测试集第53步，预测完成\n",
      "第8轮，测试集第54步，预测完成\n",
      "第8轮，测试集第55步，预测完成\n",
      "第8轮，测试集第56步，预测完成\n",
      "第8轮，测试集第57步，预测完成\n",
      "第8轮，测试集第58步，预测完成\n",
      "第8轮，测试集第59步，预测完成\n",
      "第8轮，测试集第60步，预测完成\n",
      "第8轮，测试集第61步，预测完成\n",
      "第8轮，测试集第62步，预测完成\n",
      "第8轮，测试集第63步，预测完成\n",
      "第8轮，测试集第64步，预测完成\n",
      "第8轮，测试集第65步，预测完成\n",
      "第8轮，测试集第66步，预测完成\n",
      "第8轮，测试集第67步，预测完成\n",
      "第8轮，测试集第68步，预测完成\n",
      "第8轮，测试集第69步，预测完成\n",
      "第8轮，测试集第70步，预测完成\n",
      "第8轮，测试集第71步，预测完成\n",
      "第8轮，测试集第72步，预测完成\n",
      "第8轮，测试集第73步，预测完成\n",
      "第8轮，测试集第74步，预测完成\n",
      "第8轮，测试集第75步，预测完成\n",
      "第8轮，测试集第76步，预测完成\n"
     ]
    },
    {
     "name": "stderr",
     "output_type": "stream",
     "text": [
      "C:\\Users\\22609\\AppData\\Local\\Temp\\ipykernel_19980\\1417372104.py:57: DeprecationWarning: DataFrameGroupBy.apply operated on the grouping columns. This behavior is deprecated, and in a future version of pandas the grouping columns will be excluded from the operation. Either pass `include_groups=False` to exclude the groupings or explicitly select the grouping columns after groupby to silence this warning.\n",
      "  ndcg_scores = results_df.groupby('user').apply(compute_ndcg)\n"
     ]
    },
    {
     "name": "stdout",
     "output_type": "stream",
     "text": [
      "Epoch 7, Train loss: 3.235970943005054, Test loss:, 8.236880971239758, Average NDCG: 0.6777603120546382\n"
     ]
    },
    {
     "name": "stderr",
     "output_type": "stream",
     "text": [
      "1it [00:00,  2.86it/s]"
     ]
    },
    {
     "name": "stdout",
     "output_type": "stream",
     "text": [
      "第9轮，第0步，训练损失：2.8699541091918945\n"
     ]
    },
    {
     "name": "stderr",
     "output_type": "stream",
     "text": [
      "77it [00:27,  2.78it/s]\n"
     ]
    },
    {
     "name": "stdout",
     "output_type": "stream",
     "text": [
      "第9轮，平均训练损失：2.9405656975585144\n",
      "第9轮，测试集第0步，预测完成\n",
      "第9轮，测试集第1步，预测完成\n",
      "第9轮，测试集第2步，预测完成\n",
      "第9轮，测试集第3步，预测完成\n",
      "第9轮，测试集第4步，预测完成\n",
      "第9轮，测试集第5步，预测完成\n",
      "第9轮，测试集第6步，预测完成\n",
      "第9轮，测试集第7步，预测完成\n",
      "第9轮，测试集第8步，预测完成\n",
      "第9轮，测试集第9步，预测完成\n",
      "第9轮，测试集第10步，预测完成\n",
      "第9轮，测试集第11步，预测完成\n",
      "第9轮，测试集第12步，预测完成\n",
      "第9轮，测试集第13步，预测完成\n",
      "第9轮，测试集第14步，预测完成\n",
      "第9轮，测试集第15步，预测完成\n",
      "第9轮，测试集第16步，预测完成\n",
      "第9轮，测试集第17步，预测完成\n",
      "第9轮，测试集第18步，预测完成\n",
      "第9轮，测试集第19步，预测完成\n",
      "第9轮，测试集第20步，预测完成\n",
      "第9轮，测试集第21步，预测完成\n",
      "第9轮，测试集第22步，预测完成\n",
      "第9轮，测试集第23步，预测完成\n",
      "第9轮，测试集第24步，预测完成\n",
      "第9轮，测试集第25步，预测完成\n",
      "第9轮，测试集第26步，预测完成\n",
      "第9轮，测试集第27步，预测完成\n",
      "第9轮，测试集第28步，预测完成\n",
      "第9轮，测试集第29步，预测完成\n",
      "第9轮，测试集第30步，预测完成\n",
      "第9轮，测试集第31步，预测完成\n",
      "第9轮，测试集第32步，预测完成\n",
      "第9轮，测试集第33步，预测完成\n",
      "第9轮，测试集第34步，预测完成\n",
      "第9轮，测试集第35步，预测完成\n",
      "第9轮，测试集第36步，预测完成\n",
      "第9轮，测试集第37步，预测完成\n",
      "第9轮，测试集第38步，预测完成\n",
      "第9轮，测试集第39步，预测完成\n",
      "第9轮，测试集第40步，预测完成\n",
      "第9轮，测试集第41步，预测完成\n",
      "第9轮，测试集第42步，预测完成\n",
      "第9轮，测试集第43步，预测完成\n",
      "第9轮，测试集第44步，预测完成\n",
      "第9轮，测试集第45步，预测完成\n",
      "第9轮，测试集第46步，预测完成\n",
      "第9轮，测试集第47步，预测完成\n",
      "第9轮，测试集第48步，预测完成\n",
      "第9轮，测试集第49步，预测完成\n",
      "第9轮，测试集第50步，预测完成\n",
      "第9轮，测试集第51步，预测完成\n",
      "第9轮，测试集第52步，预测完成\n",
      "第9轮，测试集第53步，预测完成\n",
      "第9轮，测试集第54步，预测完成\n",
      "第9轮，测试集第55步，预测完成\n",
      "第9轮，测试集第56步，预测完成\n",
      "第9轮，测试集第57步，预测完成\n",
      "第9轮，测试集第58步，预测完成\n",
      "第9轮，测试集第59步，预测完成\n",
      "第9轮，测试集第60步，预测完成\n",
      "第9轮，测试集第61步，预测完成\n",
      "第9轮，测试集第62步，预测完成\n",
      "第9轮，测试集第63步，预测完成\n",
      "第9轮，测试集第64步，预测完成\n",
      "第9轮，测试集第65步，预测完成\n",
      "第9轮，测试集第66步，预测完成\n",
      "第9轮，测试集第67步，预测完成\n",
      "第9轮，测试集第68步，预测完成\n",
      "第9轮，测试集第69步，预测完成\n",
      "第9轮，测试集第70步，预测完成\n",
      "第9轮，测试集第71步，预测完成\n",
      "第9轮，测试集第72步，预测完成\n",
      "第9轮，测试集第73步，预测完成\n",
      "第9轮，测试集第74步，预测完成\n",
      "第9轮，测试集第75步，预测完成\n",
      "第9轮，测试集第76步，预测完成\n"
     ]
    },
    {
     "name": "stderr",
     "output_type": "stream",
     "text": [
      "C:\\Users\\22609\\AppData\\Local\\Temp\\ipykernel_19980\\1417372104.py:57: DeprecationWarning: DataFrameGroupBy.apply operated on the grouping columns. This behavior is deprecated, and in a future version of pandas the grouping columns will be excluded from the operation. Either pass `include_groups=False` to exclude the groupings or explicitly select the grouping columns after groupby to silence this warning.\n",
      "  ndcg_scores = results_df.groupby('user').apply(compute_ndcg)\n"
     ]
    },
    {
     "name": "stdout",
     "output_type": "stream",
     "text": [
      "Epoch 8, Train loss: 2.9405656975585144, Test loss:, 8.06732702255249, Average NDCG: 0.6795830690813435\n"
     ]
    },
    {
     "name": "stderr",
     "output_type": "stream",
     "text": [
      "1it [00:00,  2.50it/s]"
     ]
    },
    {
     "name": "stdout",
     "output_type": "stream",
     "text": [
      "第10轮，第0步，训练损失：2.6940319538116455\n"
     ]
    },
    {
     "name": "stderr",
     "output_type": "stream",
     "text": [
      "77it [00:25,  3.00it/s]\n"
     ]
    },
    {
     "name": "stdout",
     "output_type": "stream",
     "text": [
      "第10轮，平均训练损失：2.7393844932704776\n",
      "第10轮，测试集第0步，预测完成\n",
      "第10轮，测试集第1步，预测完成\n",
      "第10轮，测试集第2步，预测完成\n",
      "第10轮，测试集第3步，预测完成\n",
      "第10轮，测试集第4步，预测完成\n",
      "第10轮，测试集第5步，预测完成\n",
      "第10轮，测试集第6步，预测完成\n",
      "第10轮，测试集第7步，预测完成\n",
      "第10轮，测试集第8步，预测完成\n",
      "第10轮，测试集第9步，预测完成\n",
      "第10轮，测试集第10步，预测完成\n",
      "第10轮，测试集第11步，预测完成\n",
      "第10轮，测试集第12步，预测完成\n",
      "第10轮，测试集第13步，预测完成\n",
      "第10轮，测试集第14步，预测完成\n",
      "第10轮，测试集第15步，预测完成\n",
      "第10轮，测试集第16步，预测完成\n",
      "第10轮，测试集第17步，预测完成\n",
      "第10轮，测试集第18步，预测完成\n",
      "第10轮，测试集第19步，预测完成\n",
      "第10轮，测试集第20步，预测完成\n",
      "第10轮，测试集第21步，预测完成\n",
      "第10轮，测试集第22步，预测完成\n",
      "第10轮，测试集第23步，预测完成\n",
      "第10轮，测试集第24步，预测完成\n",
      "第10轮，测试集第25步，预测完成\n",
      "第10轮，测试集第26步，预测完成\n",
      "第10轮，测试集第27步，预测完成\n",
      "第10轮，测试集第28步，预测完成\n",
      "第10轮，测试集第29步，预测完成\n",
      "第10轮，测试集第30步，预测完成\n",
      "第10轮，测试集第31步，预测完成\n",
      "第10轮，测试集第32步，预测完成\n",
      "第10轮，测试集第33步，预测完成\n",
      "第10轮，测试集第34步，预测完成\n",
      "第10轮，测试集第35步，预测完成\n",
      "第10轮，测试集第36步，预测完成\n",
      "第10轮，测试集第37步，预测完成\n",
      "第10轮，测试集第38步，预测完成\n",
      "第10轮，测试集第39步，预测完成\n",
      "第10轮，测试集第40步，预测完成\n",
      "第10轮，测试集第41步，预测完成\n",
      "第10轮，测试集第42步，预测完成\n",
      "第10轮，测试集第43步，预测完成\n",
      "第10轮，测试集第44步，预测完成\n",
      "第10轮，测试集第45步，预测完成\n",
      "第10轮，测试集第46步，预测完成\n",
      "第10轮，测试集第47步，预测完成\n",
      "第10轮，测试集第48步，预测完成\n",
      "第10轮，测试集第49步，预测完成\n",
      "第10轮，测试集第50步，预测完成\n",
      "第10轮，测试集第51步，预测完成\n",
      "第10轮，测试集第52步，预测完成\n",
      "第10轮，测试集第53步，预测完成\n",
      "第10轮，测试集第54步，预测完成\n",
      "第10轮，测试集第55步，预测完成\n",
      "第10轮，测试集第56步，预测完成\n",
      "第10轮，测试集第57步，预测完成\n",
      "第10轮，测试集第58步，预测完成\n",
      "第10轮，测试集第59步，预测完成\n",
      "第10轮，测试集第60步，预测完成\n",
      "第10轮，测试集第61步，预测完成\n",
      "第10轮，测试集第62步，预测完成\n",
      "第10轮，测试集第63步，预测完成\n",
      "第10轮，测试集第64步，预测完成\n",
      "第10轮，测试集第65步，预测完成\n",
      "第10轮，测试集第66步，预测完成\n",
      "第10轮，测试集第67步，预测完成\n",
      "第10轮，测试集第68步，预测完成\n",
      "第10轮，测试集第69步，预测完成\n",
      "第10轮，测试集第70步，预测完成\n",
      "第10轮，测试集第71步，预测完成\n",
      "第10轮，测试集第72步，预测完成\n",
      "第10轮，测试集第73步，预测完成\n",
      "第10轮，测试集第74步，预测完成\n",
      "第10轮，测试集第75步，预测完成\n",
      "第10轮，测试集第76步，预测完成\n"
     ]
    },
    {
     "name": "stderr",
     "output_type": "stream",
     "text": [
      "C:\\Users\\22609\\AppData\\Local\\Temp\\ipykernel_19980\\1417372104.py:57: DeprecationWarning: DataFrameGroupBy.apply operated on the grouping columns. This behavior is deprecated, and in a future version of pandas the grouping columns will be excluded from the operation. Either pass `include_groups=False` to exclude the groupings or explicitly select the grouping columns after groupby to silence this warning.\n",
      "  ndcg_scores = results_df.groupby('user').apply(compute_ndcg)\n"
     ]
    },
    {
     "name": "stdout",
     "output_type": "stream",
     "text": [
      "Epoch 9, Train loss: 2.7393844932704776, Test loss:, 7.755328543774493, Average NDCG: 0.6813471176631735\n"
     ]
    },
    {
     "name": "stderr",
     "output_type": "stream",
     "text": [
      "1it [00:00,  1.65it/s]"
     ]
    },
    {
     "name": "stdout",
     "output_type": "stream",
     "text": [
      "第11轮，第0步，训练损失：2.5459539890289307\n"
     ]
    },
    {
     "name": "stderr",
     "output_type": "stream",
     "text": [
      "77it [00:42,  1.82it/s]\n"
     ]
    },
    {
     "name": "stdout",
     "output_type": "stream",
     "text": [
      "第11轮，平均训练损失：2.584902822197258\n",
      "第11轮，测试集第0步，预测完成\n",
      "第11轮，测试集第1步，预测完成\n",
      "第11轮，测试集第2步，预测完成\n",
      "第11轮，测试集第3步，预测完成\n",
      "第11轮，测试集第4步，预测完成\n",
      "第11轮，测试集第5步，预测完成\n",
      "第11轮，测试集第6步，预测完成\n",
      "第11轮，测试集第7步，预测完成\n",
      "第11轮，测试集第8步，预测完成\n",
      "第11轮，测试集第9步，预测完成\n",
      "第11轮，测试集第10步，预测完成\n",
      "第11轮，测试集第11步，预测完成\n",
      "第11轮，测试集第12步，预测完成\n",
      "第11轮，测试集第13步，预测完成\n",
      "第11轮，测试集第14步，预测完成\n",
      "第11轮，测试集第15步，预测完成\n",
      "第11轮，测试集第16步，预测完成\n",
      "第11轮，测试集第17步，预测完成\n",
      "第11轮，测试集第18步，预测完成\n",
      "第11轮，测试集第19步，预测完成\n",
      "第11轮，测试集第20步，预测完成\n",
      "第11轮，测试集第21步，预测完成\n",
      "第11轮，测试集第22步，预测完成\n",
      "第11轮，测试集第23步，预测完成\n",
      "第11轮，测试集第24步，预测完成\n",
      "第11轮，测试集第25步，预测完成\n",
      "第11轮，测试集第26步，预测完成\n",
      "第11轮，测试集第27步，预测完成\n",
      "第11轮，测试集第28步，预测完成\n",
      "第11轮，测试集第29步，预测完成\n",
      "第11轮，测试集第30步，预测完成\n",
      "第11轮，测试集第31步，预测完成\n",
      "第11轮，测试集第32步，预测完成\n",
      "第11轮，测试集第33步，预测完成\n",
      "第11轮，测试集第34步，预测完成\n",
      "第11轮，测试集第35步，预测完成\n",
      "第11轮，测试集第36步，预测完成\n",
      "第11轮，测试集第37步，预测完成\n",
      "第11轮，测试集第38步，预测完成\n",
      "第11轮，测试集第39步，预测完成\n",
      "第11轮，测试集第40步，预测完成\n",
      "第11轮，测试集第41步，预测完成\n",
      "第11轮，测试集第42步，预测完成\n",
      "第11轮，测试集第43步，预测完成\n",
      "第11轮，测试集第44步，预测完成\n",
      "第11轮，测试集第45步，预测完成\n",
      "第11轮，测试集第46步，预测完成\n",
      "第11轮，测试集第47步，预测完成\n",
      "第11轮，测试集第48步，预测完成\n",
      "第11轮，测试集第49步，预测完成\n",
      "第11轮，测试集第50步，预测完成\n",
      "第11轮，测试集第51步，预测完成\n",
      "第11轮，测试集第52步，预测完成\n",
      "第11轮，测试集第53步，预测完成\n",
      "第11轮，测试集第54步，预测完成\n",
      "第11轮，测试集第55步，预测完成\n",
      "第11轮，测试集第56步，预测完成\n",
      "第11轮，测试集第57步，预测完成\n",
      "第11轮，测试集第58步，预测完成\n",
      "第11轮，测试集第59步，预测完成\n",
      "第11轮，测试集第60步，预测完成\n",
      "第11轮，测试集第61步，预测完成\n",
      "第11轮，测试集第62步，预测完成\n",
      "第11轮，测试集第63步，预测完成\n",
      "第11轮，测试集第64步，预测完成\n",
      "第11轮，测试集第65步，预测完成\n",
      "第11轮，测试集第66步，预测完成\n",
      "第11轮，测试集第67步，预测完成\n",
      "第11轮，测试集第68步，预测完成\n",
      "第11轮，测试集第69步，预测完成\n",
      "第11轮，测试集第70步，预测完成\n",
      "第11轮，测试集第71步，预测完成\n",
      "第11轮，测试集第72步，预测完成\n",
      "第11轮，测试集第73步，预测完成\n",
      "第11轮，测试集第74步，预测完成\n",
      "第11轮，测试集第75步，预测完成\n",
      "第11轮，测试集第76步，预测完成\n"
     ]
    },
    {
     "name": "stderr",
     "output_type": "stream",
     "text": [
      "C:\\Users\\22609\\AppData\\Local\\Temp\\ipykernel_19980\\1417372104.py:57: DeprecationWarning: DataFrameGroupBy.apply operated on the grouping columns. This behavior is deprecated, and in a future version of pandas the grouping columns will be excluded from the operation. Either pass `include_groups=False` to exclude the groupings or explicitly select the grouping columns after groupby to silence this warning.\n",
      "  ndcg_scores = results_df.groupby('user').apply(compute_ndcg)\n"
     ]
    },
    {
     "name": "stdout",
     "output_type": "stream",
     "text": [
      "Epoch 10, Train loss: 2.584902822197258, Test loss:, 7.575853688376291, Average NDCG: 0.6828698858686104\n"
     ]
    },
    {
     "name": "stderr",
     "output_type": "stream",
     "text": [
      "1it [00:00,  2.15it/s]"
     ]
    },
    {
     "name": "stdout",
     "output_type": "stream",
     "text": [
      "第12轮，第0步，训练损失：2.4275898933410645\n"
     ]
    },
    {
     "name": "stderr",
     "output_type": "stream",
     "text": [
      "77it [00:37,  2.07it/s]\n"
     ]
    },
    {
     "name": "stdout",
     "output_type": "stream",
     "text": [
      "第12轮，平均训练损失：2.4805931828238745\n",
      "第12轮，测试集第0步，预测完成\n",
      "第12轮，测试集第1步，预测完成\n",
      "第12轮，测试集第2步，预测完成\n",
      "第12轮，测试集第3步，预测完成\n",
      "第12轮，测试集第4步，预测完成\n",
      "第12轮，测试集第5步，预测完成\n",
      "第12轮，测试集第6步，预测完成\n",
      "第12轮，测试集第7步，预测完成\n",
      "第12轮，测试集第8步，预测完成\n",
      "第12轮，测试集第9步，预测完成\n",
      "第12轮，测试集第10步，预测完成\n",
      "第12轮，测试集第11步，预测完成\n",
      "第12轮，测试集第12步，预测完成\n",
      "第12轮，测试集第13步，预测完成\n",
      "第12轮，测试集第14步，预测完成\n",
      "第12轮，测试集第15步，预测完成\n",
      "第12轮，测试集第16步，预测完成\n",
      "第12轮，测试集第17步，预测完成\n",
      "第12轮，测试集第18步，预测完成\n",
      "第12轮，测试集第19步，预测完成\n",
      "第12轮，测试集第20步，预测完成\n",
      "第12轮，测试集第21步，预测完成\n",
      "第12轮，测试集第22步，预测完成\n",
      "第12轮，测试集第23步，预测完成\n",
      "第12轮，测试集第24步，预测完成\n",
      "第12轮，测试集第25步，预测完成\n",
      "第12轮，测试集第26步，预测完成\n",
      "第12轮，测试集第27步，预测完成\n",
      "第12轮，测试集第28步，预测完成\n",
      "第12轮，测试集第29步，预测完成\n",
      "第12轮，测试集第30步，预测完成\n",
      "第12轮，测试集第31步，预测完成\n",
      "第12轮，测试集第32步，预测完成\n",
      "第12轮，测试集第33步，预测完成\n",
      "第12轮，测试集第34步，预测完成\n",
      "第12轮，测试集第35步，预测完成\n",
      "第12轮，测试集第36步，预测完成\n",
      "第12轮，测试集第37步，预测完成\n",
      "第12轮，测试集第38步，预测完成\n",
      "第12轮，测试集第39步，预测完成\n",
      "第12轮，测试集第40步，预测完成\n",
      "第12轮，测试集第41步，预测完成\n",
      "第12轮，测试集第42步，预测完成\n",
      "第12轮，测试集第43步，预测完成\n",
      "第12轮，测试集第44步，预测完成\n",
      "第12轮，测试集第45步，预测完成\n",
      "第12轮，测试集第46步，预测完成\n",
      "第12轮，测试集第47步，预测完成\n",
      "第12轮，测试集第48步，预测完成\n",
      "第12轮，测试集第49步，预测完成\n",
      "第12轮，测试集第50步，预测完成\n",
      "第12轮，测试集第51步，预测完成\n",
      "第12轮，测试集第52步，预测完成\n",
      "第12轮，测试集第53步，预测完成\n",
      "第12轮，测试集第54步，预测完成\n",
      "第12轮，测试集第55步，预测完成\n",
      "第12轮，测试集第56步，预测完成\n",
      "第12轮，测试集第57步，预测完成\n",
      "第12轮，测试集第58步，预测完成\n",
      "第12轮，测试集第59步，预测完成\n",
      "第12轮，测试集第60步，预测完成\n",
      "第12轮，测试集第61步，预测完成\n",
      "第12轮，测试集第62步，预测完成\n",
      "第12轮，测试集第63步，预测完成\n",
      "第12轮，测试集第64步，预测完成\n",
      "第12轮，测试集第65步，预测完成\n",
      "第12轮，测试集第66步，预测完成\n",
      "第12轮，测试集第67步，预测完成\n",
      "第12轮，测试集第68步，预测完成\n",
      "第12轮，测试集第69步，预测完成\n",
      "第12轮，测试集第70步，预测完成\n",
      "第12轮，测试集第71步，预测完成\n",
      "第12轮，测试集第72步，预测完成\n",
      "第12轮，测试集第73步，预测完成\n",
      "第12轮，测试集第74步，预测完成\n",
      "第12轮，测试集第75步，预测完成\n",
      "第12轮，测试集第76步，预测完成\n"
     ]
    },
    {
     "name": "stderr",
     "output_type": "stream",
     "text": [
      "C:\\Users\\22609\\AppData\\Local\\Temp\\ipykernel_19980\\1417372104.py:57: DeprecationWarning: DataFrameGroupBy.apply operated on the grouping columns. This behavior is deprecated, and in a future version of pandas the grouping columns will be excluded from the operation. Either pass `include_groups=False` to exclude the groupings or explicitly select the grouping columns after groupby to silence this warning.\n",
      "  ndcg_scores = results_df.groupby('user').apply(compute_ndcg)\n"
     ]
    },
    {
     "name": "stdout",
     "output_type": "stream",
     "text": [
      "Epoch 11, Train loss: 2.4805931828238745, Test loss:, 7.717519914949095, Average NDCG: 0.6841328706658713\n"
     ]
    },
    {
     "name": "stderr",
     "output_type": "stream",
     "text": [
      "1it [00:00,  2.04it/s]"
     ]
    },
    {
     "name": "stdout",
     "output_type": "stream",
     "text": [
      "第13轮，第0步，训练损失：2.3598756790161133\n"
     ]
    },
    {
     "name": "stderr",
     "output_type": "stream",
     "text": [
      "77it [00:39,  1.93it/s]\n"
     ]
    },
    {
     "name": "stdout",
     "output_type": "stream",
     "text": [
      "第13轮，平均训练损失：2.3951457878211877\n",
      "第13轮，测试集第0步，预测完成\n",
      "第13轮，测试集第1步，预测完成\n",
      "第13轮，测试集第2步，预测完成\n",
      "第13轮，测试集第3步，预测完成\n",
      "第13轮，测试集第4步，预测完成\n",
      "第13轮，测试集第5步，预测完成\n",
      "第13轮，测试集第6步，预测完成\n",
      "第13轮，测试集第7步，预测完成\n",
      "第13轮，测试集第8步，预测完成\n",
      "第13轮，测试集第9步，预测完成\n",
      "第13轮，测试集第10步，预测完成\n",
      "第13轮，测试集第11步，预测完成\n",
      "第13轮，测试集第12步，预测完成\n",
      "第13轮，测试集第13步，预测完成\n",
      "第13轮，测试集第14步，预测完成\n",
      "第13轮，测试集第15步，预测完成\n",
      "第13轮，测试集第16步，预测完成\n",
      "第13轮，测试集第17步，预测完成\n",
      "第13轮，测试集第18步，预测完成\n",
      "第13轮，测试集第19步，预测完成\n",
      "第13轮，测试集第20步，预测完成\n",
      "第13轮，测试集第21步，预测完成\n",
      "第13轮，测试集第22步，预测完成\n",
      "第13轮，测试集第23步，预测完成\n",
      "第13轮，测试集第24步，预测完成\n",
      "第13轮，测试集第25步，预测完成\n",
      "第13轮，测试集第26步，预测完成\n",
      "第13轮，测试集第27步，预测完成\n",
      "第13轮，测试集第28步，预测完成\n",
      "第13轮，测试集第29步，预测完成\n",
      "第13轮，测试集第30步，预测完成\n",
      "第13轮，测试集第31步，预测完成\n",
      "第13轮，测试集第32步，预测完成\n",
      "第13轮，测试集第33步，预测完成\n",
      "第13轮，测试集第34步，预测完成\n",
      "第13轮，测试集第35步，预测完成\n",
      "第13轮，测试集第36步，预测完成\n",
      "第13轮，测试集第37步，预测完成\n",
      "第13轮，测试集第38步，预测完成\n",
      "第13轮，测试集第39步，预测完成\n",
      "第13轮，测试集第40步，预测完成\n",
      "第13轮，测试集第41步，预测完成\n",
      "第13轮，测试集第42步，预测完成\n",
      "第13轮，测试集第43步，预测完成\n",
      "第13轮，测试集第44步，预测完成\n",
      "第13轮，测试集第45步，预测完成\n",
      "第13轮，测试集第46步，预测完成\n",
      "第13轮，测试集第47步，预测完成\n",
      "第13轮，测试集第48步，预测完成\n",
      "第13轮，测试集第49步，预测完成\n",
      "第13轮，测试集第50步，预测完成\n",
      "第13轮，测试集第51步，预测完成\n",
      "第13轮，测试集第52步，预测完成\n",
      "第13轮，测试集第53步，预测完成\n",
      "第13轮，测试集第54步，预测完成\n",
      "第13轮，测试集第55步，预测完成\n",
      "第13轮，测试集第56步，预测完成\n",
      "第13轮，测试集第57步，预测完成\n",
      "第13轮，测试集第58步，预测完成\n",
      "第13轮，测试集第59步，预测完成\n",
      "第13轮，测试集第60步，预测完成\n",
      "第13轮，测试集第61步，预测完成\n",
      "第13轮，测试集第62步，预测完成\n",
      "第13轮，测试集第63步，预测完成\n",
      "第13轮，测试集第64步，预测完成\n",
      "第13轮，测试集第65步，预测完成\n",
      "第13轮，测试集第66步，预测完成\n",
      "第13轮，测试集第67步，预测完成\n",
      "第13轮，测试集第68步，预测完成\n",
      "第13轮，测试集第69步，预测完成\n",
      "第13轮，测试集第70步，预测完成\n",
      "第13轮，测试集第71步，预测完成\n",
      "第13轮，测试集第72步，预测完成\n",
      "第13轮，测试集第73步，预测完成\n",
      "第13轮，测试集第74步，预测完成\n",
      "第13轮，测试集第75步，预测完成\n",
      "第13轮，测试集第76步，预测完成\n"
     ]
    },
    {
     "name": "stderr",
     "output_type": "stream",
     "text": [
      "C:\\Users\\22609\\AppData\\Local\\Temp\\ipykernel_19980\\1417372104.py:57: DeprecationWarning: DataFrameGroupBy.apply operated on the grouping columns. This behavior is deprecated, and in a future version of pandas the grouping columns will be excluded from the operation. Either pass `include_groups=False` to exclude the groupings or explicitly select the grouping columns after groupby to silence this warning.\n",
      "  ndcg_scores = results_df.groupby('user').apply(compute_ndcg)\n"
     ]
    },
    {
     "name": "stdout",
     "output_type": "stream",
     "text": [
      "Epoch 12, Train loss: 2.3951457878211877, Test loss:, 7.4731404440743585, Average NDCG: 0.6857114876949667\n"
     ]
    },
    {
     "name": "stderr",
     "output_type": "stream",
     "text": [
      "1it [00:00,  2.26it/s]"
     ]
    },
    {
     "name": "stdout",
     "output_type": "stream",
     "text": [
      "第14轮，第0步，训练损失：2.338444709777832\n"
     ]
    },
    {
     "name": "stderr",
     "output_type": "stream",
     "text": [
      "77it [00:50,  1.52it/s]\n"
     ]
    },
    {
     "name": "stdout",
     "output_type": "stream",
     "text": [
      "第14轮，平均训练损失：2.337067625739358\n",
      "第14轮，测试集第0步，预测完成\n",
      "第14轮，测试集第1步，预测完成\n",
      "第14轮，测试集第2步，预测完成\n",
      "第14轮，测试集第3步，预测完成\n",
      "第14轮，测试集第4步，预测完成\n",
      "第14轮，测试集第5步，预测完成\n",
      "第14轮，测试集第6步，预测完成\n",
      "第14轮，测试集第7步，预测完成\n",
      "第14轮，测试集第8步，预测完成\n",
      "第14轮，测试集第9步，预测完成\n",
      "第14轮，测试集第10步，预测完成\n",
      "第14轮，测试集第11步，预测完成\n",
      "第14轮，测试集第12步，预测完成\n",
      "第14轮，测试集第13步，预测完成\n",
      "第14轮，测试集第14步，预测完成\n",
      "第14轮，测试集第15步，预测完成\n",
      "第14轮，测试集第16步，预测完成\n",
      "第14轮，测试集第17步，预测完成\n",
      "第14轮，测试集第18步，预测完成\n",
      "第14轮，测试集第19步，预测完成\n",
      "第14轮，测试集第20步，预测完成\n",
      "第14轮，测试集第21步，预测完成\n",
      "第14轮，测试集第22步，预测完成\n",
      "第14轮，测试集第23步，预测完成\n",
      "第14轮，测试集第24步，预测完成\n",
      "第14轮，测试集第25步，预测完成\n",
      "第14轮，测试集第26步，预测完成\n",
      "第14轮，测试集第27步，预测完成\n",
      "第14轮，测试集第28步，预测完成\n",
      "第14轮，测试集第29步，预测完成\n",
      "第14轮，测试集第30步，预测完成\n",
      "第14轮，测试集第31步，预测完成\n",
      "第14轮，测试集第32步，预测完成\n",
      "第14轮，测试集第33步，预测完成\n",
      "第14轮，测试集第34步，预测完成\n",
      "第14轮，测试集第35步，预测完成\n",
      "第14轮，测试集第36步，预测完成\n",
      "第14轮，测试集第37步，预测完成\n",
      "第14轮，测试集第38步，预测完成\n",
      "第14轮，测试集第39步，预测完成\n",
      "第14轮，测试集第40步，预测完成\n",
      "第14轮，测试集第41步，预测完成\n",
      "第14轮，测试集第42步，预测完成\n",
      "第14轮，测试集第43步，预测完成\n",
      "第14轮，测试集第44步，预测完成\n",
      "第14轮，测试集第45步，预测完成\n",
      "第14轮，测试集第46步，预测完成\n",
      "第14轮，测试集第47步，预测完成\n",
      "第14轮，测试集第48步，预测完成\n",
      "第14轮，测试集第49步，预测完成\n",
      "第14轮，测试集第50步，预测完成\n",
      "第14轮，测试集第51步，预测完成\n",
      "第14轮，测试集第52步，预测完成\n",
      "第14轮，测试集第53步，预测完成\n",
      "第14轮，测试集第54步，预测完成\n",
      "第14轮，测试集第55步，预测完成\n",
      "第14轮，测试集第56步，预测完成\n",
      "第14轮，测试集第57步，预测完成\n",
      "第14轮，测试集第58步，预测完成\n",
      "第14轮，测试集第59步，预测完成\n",
      "第14轮，测试集第60步，预测完成\n",
      "第14轮，测试集第61步，预测完成\n",
      "第14轮，测试集第62步，预测完成\n",
      "第14轮，测试集第63步，预测完成\n",
      "第14轮，测试集第64步，预测完成\n",
      "第14轮，测试集第65步，预测完成\n",
      "第14轮，测试集第66步，预测完成\n",
      "第14轮，测试集第67步，预测完成\n",
      "第14轮，测试集第68步，预测完成\n",
      "第14轮，测试集第69步，预测完成\n",
      "第14轮，测试集第70步，预测完成\n",
      "第14轮，测试集第71步，预测完成\n",
      "第14轮，测试集第72步，预测完成\n",
      "第14轮，测试集第73步，预测完成\n",
      "第14轮，测试集第74步，预测完成\n",
      "第14轮，测试集第75步，预测完成\n",
      "第14轮，测试集第76步，预测完成\n"
     ]
    },
    {
     "name": "stderr",
     "output_type": "stream",
     "text": [
      "C:\\Users\\22609\\AppData\\Local\\Temp\\ipykernel_19980\\1417372104.py:57: DeprecationWarning: DataFrameGroupBy.apply operated on the grouping columns. This behavior is deprecated, and in a future version of pandas the grouping columns will be excluded from the operation. Either pass `include_groups=False` to exclude the groupings or explicitly select the grouping columns after groupby to silence this warning.\n",
      "  ndcg_scores = results_df.groupby('user').apply(compute_ndcg)\n"
     ]
    },
    {
     "name": "stdout",
     "output_type": "stream",
     "text": [
      "Epoch 13, Train loss: 2.337067625739358, Test loss:, 7.2273638836749186, Average NDCG: 0.6869133897723119\n"
     ]
    },
    {
     "name": "stderr",
     "output_type": "stream",
     "text": [
      "1it [00:02,  2.48s/it]"
     ]
    },
    {
     "name": "stdout",
     "output_type": "stream",
     "text": [
      "第15轮，第0步，训练损失：2.1705846786499023\n"
     ]
    },
    {
     "name": "stderr",
     "output_type": "stream",
     "text": [
      "77it [01:18,  1.02s/it]\n"
     ]
    },
    {
     "name": "stdout",
     "output_type": "stream",
     "text": [
      "第15轮，平均训练损失：2.3063985589262725\n",
      "第15轮，测试集第0步，预测完成\n",
      "第15轮，测试集第1步，预测完成\n",
      "第15轮，测试集第2步，预测完成\n",
      "第15轮，测试集第3步，预测完成\n",
      "第15轮，测试集第4步，预测完成\n",
      "第15轮，测试集第5步，预测完成\n",
      "第15轮，测试集第6步，预测完成\n",
      "第15轮，测试集第7步，预测完成\n",
      "第15轮，测试集第8步，预测完成\n",
      "第15轮，测试集第9步，预测完成\n",
      "第15轮，测试集第10步，预测完成\n",
      "第15轮，测试集第11步，预测完成\n",
      "第15轮，测试集第12步，预测完成\n",
      "第15轮，测试集第13步，预测完成\n",
      "第15轮，测试集第14步，预测完成\n",
      "第15轮，测试集第15步，预测完成\n",
      "第15轮，测试集第16步，预测完成\n",
      "第15轮，测试集第17步，预测完成\n",
      "第15轮，测试集第18步，预测完成\n",
      "第15轮，测试集第19步，预测完成\n",
      "第15轮，测试集第20步，预测完成\n",
      "第15轮，测试集第21步，预测完成\n",
      "第15轮，测试集第22步，预测完成\n",
      "第15轮，测试集第23步，预测完成\n",
      "第15轮，测试集第24步，预测完成\n",
      "第15轮，测试集第25步，预测完成\n",
      "第15轮，测试集第26步，预测完成\n",
      "第15轮，测试集第27步，预测完成\n",
      "第15轮，测试集第28步，预测完成\n",
      "第15轮，测试集第29步，预测完成\n",
      "第15轮，测试集第30步，预测完成\n",
      "第15轮，测试集第31步，预测完成\n",
      "第15轮，测试集第32步，预测完成\n",
      "第15轮，测试集第33步，预测完成\n",
      "第15轮，测试集第34步，预测完成\n",
      "第15轮，测试集第35步，预测完成\n",
      "第15轮，测试集第36步，预测完成\n",
      "第15轮，测试集第37步，预测完成\n",
      "第15轮，测试集第38步，预测完成\n",
      "第15轮，测试集第39步，预测完成\n",
      "第15轮，测试集第40步，预测完成\n",
      "第15轮，测试集第41步，预测完成\n",
      "第15轮，测试集第42步，预测完成\n",
      "第15轮，测试集第43步，预测完成\n",
      "第15轮，测试集第44步，预测完成\n",
      "第15轮，测试集第45步，预测完成\n",
      "第15轮，测试集第46步，预测完成\n",
      "第15轮，测试集第47步，预测完成\n",
      "第15轮，测试集第48步，预测完成\n",
      "第15轮，测试集第49步，预测完成\n",
      "第15轮，测试集第50步，预测完成\n",
      "第15轮，测试集第51步，预测完成\n",
      "第15轮，测试集第52步，预测完成\n",
      "第15轮，测试集第53步，预测完成\n",
      "第15轮，测试集第54步，预测完成\n",
      "第15轮，测试集第55步，预测完成\n",
      "第15轮，测试集第56步，预测完成\n",
      "第15轮，测试集第57步，预测完成\n",
      "第15轮，测试集第58步，预测完成\n",
      "第15轮，测试集第59步，预测完成\n",
      "第15轮，测试集第60步，预测完成\n",
      "第15轮，测试集第61步，预测完成\n",
      "第15轮，测试集第62步，预测完成\n",
      "第15轮，测试集第63步，预测完成\n",
      "第15轮，测试集第64步，预测完成\n",
      "第15轮，测试集第65步，预测完成\n",
      "第15轮，测试集第66步，预测完成\n",
      "第15轮，测试集第67步，预测完成\n",
      "第15轮，测试集第68步，预测完成\n",
      "第15轮，测试集第69步，预测完成\n",
      "第15轮，测试集第70步，预测完成\n",
      "第15轮，测试集第71步，预测完成\n",
      "第15轮，测试集第72步，预测完成\n",
      "第15轮，测试集第73步，预测完成\n",
      "第15轮，测试集第74步，预测完成\n",
      "第15轮，测试集第75步，预测完成\n",
      "第15轮，测试集第76步，预测完成\n"
     ]
    },
    {
     "name": "stderr",
     "output_type": "stream",
     "text": [
      "C:\\Users\\22609\\AppData\\Local\\Temp\\ipykernel_19980\\1417372104.py:57: DeprecationWarning: DataFrameGroupBy.apply operated on the grouping columns. This behavior is deprecated, and in a future version of pandas the grouping columns will be excluded from the operation. Either pass `include_groups=False` to exclude the groupings or explicitly select the grouping columns after groupby to silence this warning.\n",
      "  ndcg_scores = results_df.groupby('user').apply(compute_ndcg)\n"
     ]
    },
    {
     "name": "stdout",
     "output_type": "stream",
     "text": [
      "Epoch 14, Train loss: 2.3063985589262725, Test loss:, 7.342350451977222, Average NDCG: 0.6882285561593317\n"
     ]
    },
    {
     "name": "stderr",
     "output_type": "stream",
     "text": [
      "1it [00:02,  2.21s/it]"
     ]
    },
    {
     "name": "stdout",
     "output_type": "stream",
     "text": [
      "第16轮，第0步，训练损失：2.095684289932251\n"
     ]
    },
    {
     "name": "stderr",
     "output_type": "stream",
     "text": [
      "77it [01:13,  1.05it/s]\n"
     ]
    },
    {
     "name": "stdout",
     "output_type": "stream",
     "text": [
      "第16轮，平均训练损失：2.2498483719763818\n",
      "第16轮，测试集第0步，预测完成\n",
      "第16轮，测试集第1步，预测完成\n",
      "第16轮，测试集第2步，预测完成\n",
      "第16轮，测试集第3步，预测完成\n",
      "第16轮，测试集第4步，预测完成\n",
      "第16轮，测试集第5步，预测完成\n",
      "第16轮，测试集第6步，预测完成\n",
      "第16轮，测试集第7步，预测完成\n",
      "第16轮，测试集第8步，预测完成\n",
      "第16轮，测试集第9步，预测完成\n",
      "第16轮，测试集第10步，预测完成\n",
      "第16轮，测试集第11步，预测完成\n",
      "第16轮，测试集第12步，预测完成\n",
      "第16轮，测试集第13步，预测完成\n",
      "第16轮，测试集第14步，预测完成\n",
      "第16轮，测试集第15步，预测完成\n",
      "第16轮，测试集第16步，预测完成\n",
      "第16轮，测试集第17步，预测完成\n",
      "第16轮，测试集第18步，预测完成\n",
      "第16轮，测试集第19步，预测完成\n",
      "第16轮，测试集第20步，预测完成\n",
      "第16轮，测试集第21步，预测完成\n",
      "第16轮，测试集第22步，预测完成\n",
      "第16轮，测试集第23步，预测完成\n",
      "第16轮，测试集第24步，预测完成\n",
      "第16轮，测试集第25步，预测完成\n",
      "第16轮，测试集第26步，预测完成\n",
      "第16轮，测试集第27步，预测完成\n",
      "第16轮，测试集第28步，预测完成\n",
      "第16轮，测试集第29步，预测完成\n",
      "第16轮，测试集第30步，预测完成\n",
      "第16轮，测试集第31步，预测完成\n",
      "第16轮，测试集第32步，预测完成\n",
      "第16轮，测试集第33步，预测完成\n",
      "第16轮，测试集第34步，预测完成\n",
      "第16轮，测试集第35步，预测完成\n",
      "第16轮，测试集第36步，预测完成\n",
      "第16轮，测试集第37步，预测完成\n",
      "第16轮，测试集第38步，预测完成\n",
      "第16轮，测试集第39步，预测完成\n",
      "第16轮，测试集第40步，预测完成\n",
      "第16轮，测试集第41步，预测完成\n",
      "第16轮，测试集第42步，预测完成\n",
      "第16轮，测试集第43步，预测完成\n",
      "第16轮，测试集第44步，预测完成\n",
      "第16轮，测试集第45步，预测完成\n",
      "第16轮，测试集第46步，预测完成\n",
      "第16轮，测试集第47步，预测完成\n",
      "第16轮，测试集第48步，预测完成\n",
      "第16轮，测试集第49步，预测完成\n",
      "第16轮，测试集第50步，预测完成\n",
      "第16轮，测试集第51步，预测完成\n",
      "第16轮，测试集第52步，预测完成\n",
      "第16轮，测试集第53步，预测完成\n",
      "第16轮，测试集第54步，预测完成\n",
      "第16轮，测试集第55步，预测完成\n",
      "第16轮，测试集第56步，预测完成\n",
      "第16轮，测试集第57步，预测完成\n",
      "第16轮，测试集第58步，预测完成\n",
      "第16轮，测试集第59步，预测完成\n",
      "第16轮，测试集第60步，预测完成\n",
      "第16轮，测试集第61步，预测完成\n",
      "第16轮，测试集第62步，预测完成\n",
      "第16轮，测试集第63步，预测完成\n",
      "第16轮，测试集第64步，预测完成\n",
      "第16轮，测试集第65步，预测完成\n",
      "第16轮，测试集第66步，预测完成\n",
      "第16轮，测试集第67步，预测完成\n",
      "第16轮，测试集第68步，预测完成\n",
      "第16轮，测试集第69步，预测完成\n",
      "第16轮，测试集第70步，预测完成\n",
      "第16轮，测试集第71步，预测完成\n",
      "第16轮，测试集第72步，预测完成\n",
      "第16轮，测试集第73步，预测完成\n",
      "第16轮，测试集第74步，预测完成\n",
      "第16轮，测试集第75步，预测完成\n",
      "第16轮，测试集第76步，预测完成\n"
     ]
    },
    {
     "name": "stderr",
     "output_type": "stream",
     "text": [
      "C:\\Users\\22609\\AppData\\Local\\Temp\\ipykernel_19980\\1417372104.py:57: DeprecationWarning: DataFrameGroupBy.apply operated on the grouping columns. This behavior is deprecated, and in a future version of pandas the grouping columns will be excluded from the operation. Either pass `include_groups=False` to exclude the groupings or explicitly select the grouping columns after groupby to silence this warning.\n",
      "  ndcg_scores = results_df.groupby('user').apply(compute_ndcg)\n"
     ]
    },
    {
     "name": "stdout",
     "output_type": "stream",
     "text": [
      "Epoch 15, Train loss: 2.2498483719763818, Test loss:, 7.111338813583572, Average NDCG: 0.6890263115476147\n"
     ]
    },
    {
     "name": "stderr",
     "output_type": "stream",
     "text": [
      "1it [00:01,  1.76s/it]"
     ]
    },
    {
     "name": "stdout",
     "output_type": "stream",
     "text": [
      "第17轮，第0步，训练损失：2.218106746673584\n"
     ]
    },
    {
     "name": "stderr",
     "output_type": "stream",
     "text": [
      "77it [01:15,  1.02it/s]\n"
     ]
    },
    {
     "name": "stdout",
     "output_type": "stream",
     "text": [
      "第17轮，平均训练损失：2.2300862646722175\n",
      "第17轮，测试集第0步，预测完成\n",
      "第17轮，测试集第1步，预测完成\n",
      "第17轮，测试集第2步，预测完成\n",
      "第17轮，测试集第3步，预测完成\n",
      "第17轮，测试集第4步，预测完成\n",
      "第17轮，测试集第5步，预测完成\n",
      "第17轮，测试集第6步，预测完成\n",
      "第17轮，测试集第7步，预测完成\n",
      "第17轮，测试集第8步，预测完成\n",
      "第17轮，测试集第9步，预测完成\n",
      "第17轮，测试集第10步，预测完成\n",
      "第17轮，测试集第11步，预测完成\n",
      "第17轮，测试集第12步，预测完成\n",
      "第17轮，测试集第13步，预测完成\n",
      "第17轮，测试集第14步，预测完成\n",
      "第17轮，测试集第15步，预测完成\n",
      "第17轮，测试集第16步，预测完成\n",
      "第17轮，测试集第17步，预测完成\n",
      "第17轮，测试集第18步，预测完成\n",
      "第17轮，测试集第19步，预测完成\n",
      "第17轮，测试集第20步，预测完成\n",
      "第17轮，测试集第21步，预测完成\n",
      "第17轮，测试集第22步，预测完成\n",
      "第17轮，测试集第23步，预测完成\n",
      "第17轮，测试集第24步，预测完成\n",
      "第17轮，测试集第25步，预测完成\n",
      "第17轮，测试集第26步，预测完成\n",
      "第17轮，测试集第27步，预测完成\n",
      "第17轮，测试集第28步，预测完成\n",
      "第17轮，测试集第29步，预测完成\n",
      "第17轮，测试集第30步，预测完成\n",
      "第17轮，测试集第31步，预测完成\n",
      "第17轮，测试集第32步，预测完成\n",
      "第17轮，测试集第33步，预测完成\n",
      "第17轮，测试集第34步，预测完成\n",
      "第17轮，测试集第35步，预测完成\n",
      "第17轮，测试集第36步，预测完成\n",
      "第17轮，测试集第37步，预测完成\n",
      "第17轮，测试集第38步，预测完成\n",
      "第17轮，测试集第39步，预测完成\n",
      "第17轮，测试集第40步，预测完成\n",
      "第17轮，测试集第41步，预测完成\n",
      "第17轮，测试集第42步，预测完成\n",
      "第17轮，测试集第43步，预测完成\n",
      "第17轮，测试集第44步，预测完成\n",
      "第17轮，测试集第45步，预测完成\n",
      "第17轮，测试集第46步，预测完成\n",
      "第17轮，测试集第47步，预测完成\n",
      "第17轮，测试集第48步，预测完成\n",
      "第17轮，测试集第49步，预测完成\n",
      "第17轮，测试集第50步，预测完成\n",
      "第17轮，测试集第51步，预测完成\n",
      "第17轮，测试集第52步，预测完成\n",
      "第17轮，测试集第53步，预测完成\n",
      "第17轮，测试集第54步，预测完成\n",
      "第17轮，测试集第55步，预测完成\n",
      "第17轮，测试集第56步，预测完成\n",
      "第17轮，测试集第57步，预测完成\n",
      "第17轮，测试集第58步，预测完成\n",
      "第17轮，测试集第59步，预测完成\n",
      "第17轮，测试集第60步，预测完成\n",
      "第17轮，测试集第61步，预测完成\n",
      "第17轮，测试集第62步，预测完成\n",
      "第17轮，测试集第63步，预测完成\n",
      "第17轮，测试集第64步，预测完成\n",
      "第17轮，测试集第65步，预测完成\n",
      "第17轮，测试集第66步，预测完成\n",
      "第17轮，测试集第67步，预测完成\n",
      "第17轮，测试集第68步，预测完成\n",
      "第17轮，测试集第69步，预测完成\n",
      "第17轮，测试集第70步，预测完成\n",
      "第17轮，测试集第71步，预测完成\n",
      "第17轮，测试集第72步，预测完成\n",
      "第17轮，测试集第73步，预测完成\n",
      "第17轮，测试集第74步，预测完成\n",
      "第17轮，测试集第75步，预测完成\n",
      "第17轮，测试集第76步，预测完成\n"
     ]
    },
    {
     "name": "stderr",
     "output_type": "stream",
     "text": [
      "C:\\Users\\22609\\AppData\\Local\\Temp\\ipykernel_19980\\1417372104.py:57: DeprecationWarning: DataFrameGroupBy.apply operated on the grouping columns. This behavior is deprecated, and in a future version of pandas the grouping columns will be excluded from the operation. Either pass `include_groups=False` to exclude the groupings or explicitly select the grouping columns after groupby to silence this warning.\n",
      "  ndcg_scores = results_df.groupby('user').apply(compute_ndcg)\n"
     ]
    },
    {
     "name": "stdout",
     "output_type": "stream",
     "text": [
      "Epoch 16, Train loss: 2.2300862646722175, Test loss:, 7.296628246059665, Average NDCG: 0.6905162358755577\n"
     ]
    },
    {
     "name": "stderr",
     "output_type": "stream",
     "text": [
      "1it [00:00,  2.52it/s]"
     ]
    },
    {
     "name": "stdout",
     "output_type": "stream",
     "text": [
      "第18轮，第0步，训练损失：2.1168792247772217\n"
     ]
    },
    {
     "name": "stderr",
     "output_type": "stream",
     "text": [
      "77it [00:28,  2.69it/s]\n"
     ]
    },
    {
     "name": "stdout",
     "output_type": "stream",
     "text": [
      "第18轮，平均训练损失：2.2304388516909115\n",
      "第18轮，测试集第0步，预测完成\n",
      "第18轮，测试集第1步，预测完成\n",
      "第18轮，测试集第2步，预测完成\n",
      "第18轮，测试集第3步，预测完成\n",
      "第18轮，测试集第4步，预测完成\n",
      "第18轮，测试集第5步，预测完成\n",
      "第18轮，测试集第6步，预测完成\n",
      "第18轮，测试集第7步，预测完成\n",
      "第18轮，测试集第8步，预测完成\n",
      "第18轮，测试集第9步，预测完成\n",
      "第18轮，测试集第10步，预测完成\n",
      "第18轮，测试集第11步，预测完成\n",
      "第18轮，测试集第12步，预测完成\n",
      "第18轮，测试集第13步，预测完成\n",
      "第18轮，测试集第14步，预测完成\n",
      "第18轮，测试集第15步，预测完成\n",
      "第18轮，测试集第16步，预测完成\n",
      "第18轮，测试集第17步，预测完成\n",
      "第18轮，测试集第18步，预测完成\n",
      "第18轮，测试集第19步，预测完成\n",
      "第18轮，测试集第20步，预测完成\n",
      "第18轮，测试集第21步，预测完成\n",
      "第18轮，测试集第22步，预测完成\n",
      "第18轮，测试集第23步，预测完成\n",
      "第18轮，测试集第24步，预测完成\n",
      "第18轮，测试集第25步，预测完成\n",
      "第18轮，测试集第26步，预测完成\n",
      "第18轮，测试集第27步，预测完成\n",
      "第18轮，测试集第28步，预测完成\n",
      "第18轮，测试集第29步，预测完成\n",
      "第18轮，测试集第30步，预测完成\n",
      "第18轮，测试集第31步，预测完成\n",
      "第18轮，测试集第32步，预测完成\n",
      "第18轮，测试集第33步，预测完成\n",
      "第18轮，测试集第34步，预测完成\n",
      "第18轮，测试集第35步，预测完成\n",
      "第18轮，测试集第36步，预测完成\n",
      "第18轮，测试集第37步，预测完成\n",
      "第18轮，测试集第38步，预测完成\n",
      "第18轮，测试集第39步，预测完成\n",
      "第18轮，测试集第40步，预测完成\n",
      "第18轮，测试集第41步，预测完成\n",
      "第18轮，测试集第42步，预测完成\n",
      "第18轮，测试集第43步，预测完成\n",
      "第18轮，测试集第44步，预测完成\n",
      "第18轮，测试集第45步，预测完成\n",
      "第18轮，测试集第46步，预测完成\n",
      "第18轮，测试集第47步，预测完成\n",
      "第18轮，测试集第48步，预测完成\n",
      "第18轮，测试集第49步，预测完成\n",
      "第18轮，测试集第50步，预测完成\n",
      "第18轮，测试集第51步，预测完成\n",
      "第18轮，测试集第52步，预测完成\n",
      "第18轮，测试集第53步，预测完成\n",
      "第18轮，测试集第54步，预测完成\n",
      "第18轮，测试集第55步，预测完成\n",
      "第18轮，测试集第56步，预测完成\n",
      "第18轮，测试集第57步，预测完成\n",
      "第18轮，测试集第58步，预测完成\n",
      "第18轮，测试集第59步，预测完成\n",
      "第18轮，测试集第60步，预测完成\n",
      "第18轮，测试集第61步，预测完成\n",
      "第18轮，测试集第62步，预测完成\n",
      "第18轮，测试集第63步，预测完成\n",
      "第18轮，测试集第64步，预测完成\n",
      "第18轮，测试集第65步，预测完成\n",
      "第18轮，测试集第66步，预测完成\n",
      "第18轮，测试集第67步，预测完成\n",
      "第18轮，测试集第68步，预测完成\n",
      "第18轮，测试集第69步，预测完成\n",
      "第18轮，测试集第70步，预测完成\n",
      "第18轮，测试集第71步，预测完成\n",
      "第18轮，测试集第72步，预测完成\n",
      "第18轮，测试集第73步，预测完成\n",
      "第18轮，测试集第74步，预测完成\n",
      "第18轮，测试集第75步，预测完成\n",
      "第18轮，测试集第76步，预测完成\n"
     ]
    },
    {
     "name": "stderr",
     "output_type": "stream",
     "text": [
      "C:\\Users\\22609\\AppData\\Local\\Temp\\ipykernel_19980\\1417372104.py:57: DeprecationWarning: DataFrameGroupBy.apply operated on the grouping columns. This behavior is deprecated, and in a future version of pandas the grouping columns will be excluded from the operation. Either pass `include_groups=False` to exclude the groupings or explicitly select the grouping columns after groupby to silence this warning.\n",
      "  ndcg_scores = results_df.groupby('user').apply(compute_ndcg)\n"
     ]
    },
    {
     "name": "stdout",
     "output_type": "stream",
     "text": [
      "Epoch 17, Train loss: 2.2304388516909115, Test loss:, 7.05294267233316, Average NDCG: 0.6910768114181755\n"
     ]
    },
    {
     "name": "stderr",
     "output_type": "stream",
     "text": [
      "1it [00:00,  1.99it/s]"
     ]
    },
    {
     "name": "stdout",
     "output_type": "stream",
     "text": [
      "第19轮，第0步，训练损失：2.067894220352173\n"
     ]
    },
    {
     "name": "stderr",
     "output_type": "stream",
     "text": [
      "77it [00:28,  2.70it/s]\n"
     ]
    },
    {
     "name": "stdout",
     "output_type": "stream",
     "text": [
      "第19轮，平均训练损失：2.1365963328968394\n",
      "第19轮，测试集第0步，预测完成\n",
      "第19轮，测试集第1步，预测完成\n",
      "第19轮，测试集第2步，预测完成\n",
      "第19轮，测试集第3步，预测完成\n",
      "第19轮，测试集第4步，预测完成\n",
      "第19轮，测试集第5步，预测完成\n",
      "第19轮，测试集第6步，预测完成\n",
      "第19轮，测试集第7步，预测完成\n",
      "第19轮，测试集第8步，预测完成\n",
      "第19轮，测试集第9步，预测完成\n",
      "第19轮，测试集第10步，预测完成\n",
      "第19轮，测试集第11步，预测完成\n",
      "第19轮，测试集第12步，预测完成\n",
      "第19轮，测试集第13步，预测完成\n",
      "第19轮，测试集第14步，预测完成\n",
      "第19轮，测试集第15步，预测完成\n",
      "第19轮，测试集第16步，预测完成\n",
      "第19轮，测试集第17步，预测完成\n",
      "第19轮，测试集第18步，预测完成\n",
      "第19轮，测试集第19步，预测完成\n",
      "第19轮，测试集第20步，预测完成\n",
      "第19轮，测试集第21步，预测完成\n",
      "第19轮，测试集第22步，预测完成\n",
      "第19轮，测试集第23步，预测完成\n",
      "第19轮，测试集第24步，预测完成\n",
      "第19轮，测试集第25步，预测完成\n",
      "第19轮，测试集第26步，预测完成\n",
      "第19轮，测试集第27步，预测完成\n",
      "第19轮，测试集第28步，预测完成\n",
      "第19轮，测试集第29步，预测完成\n",
      "第19轮，测试集第30步，预测完成\n",
      "第19轮，测试集第31步，预测完成\n",
      "第19轮，测试集第32步，预测完成\n",
      "第19轮，测试集第33步，预测完成\n",
      "第19轮，测试集第34步，预测完成\n",
      "第19轮，测试集第35步，预测完成\n",
      "第19轮，测试集第36步，预测完成\n",
      "第19轮，测试集第37步，预测完成\n",
      "第19轮，测试集第38步，预测完成\n",
      "第19轮，测试集第39步，预测完成\n",
      "第19轮，测试集第40步，预测完成\n",
      "第19轮，测试集第41步，预测完成\n",
      "第19轮，测试集第42步，预测完成\n",
      "第19轮，测试集第43步，预测完成\n",
      "第19轮，测试集第44步，预测完成\n",
      "第19轮，测试集第45步，预测完成\n",
      "第19轮，测试集第46步，预测完成\n",
      "第19轮，测试集第47步，预测完成\n",
      "第19轮，测试集第48步，预测完成\n",
      "第19轮，测试集第49步，预测完成\n",
      "第19轮，测试集第50步，预测完成\n",
      "第19轮，测试集第51步，预测完成\n",
      "第19轮，测试集第52步，预测完成\n",
      "第19轮，测试集第53步，预测完成\n",
      "第19轮，测试集第54步，预测完成\n",
      "第19轮，测试集第55步，预测完成\n",
      "第19轮，测试集第56步，预测完成\n",
      "第19轮，测试集第57步，预测完成\n",
      "第19轮，测试集第58步，预测完成\n",
      "第19轮，测试集第59步，预测完成\n",
      "第19轮，测试集第60步，预测完成\n",
      "第19轮，测试集第61步，预测完成\n",
      "第19轮，测试集第62步，预测完成\n",
      "第19轮，测试集第63步，预测完成\n",
      "第19轮，测试集第64步，预测完成\n",
      "第19轮，测试集第65步，预测完成\n",
      "第19轮，测试集第66步，预测完成\n",
      "第19轮，测试集第67步，预测完成\n",
      "第19轮，测试集第68步，预测完成\n",
      "第19轮，测试集第69步，预测完成\n",
      "第19轮，测试集第70步，预测完成\n",
      "第19轮，测试集第71步，预测完成\n",
      "第19轮，测试集第72步，预测完成\n",
      "第19轮，测试集第73步，预测完成\n",
      "第19轮，测试集第74步，预测完成\n",
      "第19轮，测试集第75步，预测完成\n",
      "第19轮，测试集第76步，预测完成\n"
     ]
    },
    {
     "name": "stderr",
     "output_type": "stream",
     "text": [
      "C:\\Users\\22609\\AppData\\Local\\Temp\\ipykernel_19980\\1417372104.py:57: DeprecationWarning: DataFrameGroupBy.apply operated on the grouping columns. This behavior is deprecated, and in a future version of pandas the grouping columns will be excluded from the operation. Either pass `include_groups=False` to exclude the groupings or explicitly select the grouping columns after groupby to silence this warning.\n",
      "  ndcg_scores = results_df.groupby('user').apply(compute_ndcg)\n"
     ]
    },
    {
     "name": "stdout",
     "output_type": "stream",
     "text": [
      "Epoch 18, Train loss: 2.1365963328968394, Test loss:, 7.1226773695512255, Average NDCG: 0.6920019763051521\n"
     ]
    },
    {
     "name": "stderr",
     "output_type": "stream",
     "text": [
      "1it [00:00,  2.94it/s]"
     ]
    },
    {
     "name": "stdout",
     "output_type": "stream",
     "text": [
      "第20轮，第0步，训练损失：1.9295698404312134\n"
     ]
    },
    {
     "name": "stderr",
     "output_type": "stream",
     "text": [
      "77it [00:39,  1.94it/s]\n"
     ]
    },
    {
     "name": "stdout",
     "output_type": "stream",
     "text": [
      "第20轮，平均训练损失：2.1173517363412038\n",
      "第20轮，测试集第0步，预测完成\n",
      "第20轮，测试集第1步，预测完成\n",
      "第20轮，测试集第2步，预测完成\n",
      "第20轮，测试集第3步，预测完成\n",
      "第20轮，测试集第4步，预测完成\n",
      "第20轮，测试集第5步，预测完成\n",
      "第20轮，测试集第6步，预测完成\n",
      "第20轮，测试集第7步，预测完成\n",
      "第20轮，测试集第8步，预测完成\n",
      "第20轮，测试集第9步，预测完成\n",
      "第20轮，测试集第10步，预测完成\n",
      "第20轮，测试集第11步，预测完成\n",
      "第20轮，测试集第12步，预测完成\n",
      "第20轮，测试集第13步，预测完成\n",
      "第20轮，测试集第14步，预测完成\n",
      "第20轮，测试集第15步，预测完成\n",
      "第20轮，测试集第16步，预测完成\n",
      "第20轮，测试集第17步，预测完成\n",
      "第20轮，测试集第18步，预测完成\n",
      "第20轮，测试集第19步，预测完成\n",
      "第20轮，测试集第20步，预测完成\n",
      "第20轮，测试集第21步，预测完成\n",
      "第20轮，测试集第22步，预测完成\n",
      "第20轮，测试集第23步，预测完成\n",
      "第20轮，测试集第24步，预测完成\n",
      "第20轮，测试集第25步，预测完成\n",
      "第20轮，测试集第26步，预测完成\n",
      "第20轮，测试集第27步，预测完成\n",
      "第20轮，测试集第28步，预测完成\n",
      "第20轮，测试集第29步，预测完成\n",
      "第20轮，测试集第30步，预测完成\n",
      "第20轮，测试集第31步，预测完成\n",
      "第20轮，测试集第32步，预测完成\n",
      "第20轮，测试集第33步，预测完成\n",
      "第20轮，测试集第34步，预测完成\n",
      "第20轮，测试集第35步，预测完成\n",
      "第20轮，测试集第36步，预测完成\n",
      "第20轮，测试集第37步，预测完成\n",
      "第20轮，测试集第38步，预测完成\n",
      "第20轮，测试集第39步，预测完成\n",
      "第20轮，测试集第40步，预测完成\n",
      "第20轮，测试集第41步，预测完成\n",
      "第20轮，测试集第42步，预测完成\n",
      "第20轮，测试集第43步，预测完成\n",
      "第20轮，测试集第44步，预测完成\n",
      "第20轮，测试集第45步，预测完成\n",
      "第20轮，测试集第46步，预测完成\n",
      "第20轮，测试集第47步，预测完成\n",
      "第20轮，测试集第48步，预测完成\n",
      "第20轮，测试集第49步，预测完成\n",
      "第20轮，测试集第50步，预测完成\n",
      "第20轮，测试集第51步，预测完成\n",
      "第20轮，测试集第52步，预测完成\n",
      "第20轮，测试集第53步，预测完成\n",
      "第20轮，测试集第54步，预测完成\n",
      "第20轮，测试集第55步，预测完成\n",
      "第20轮，测试集第56步，预测完成\n",
      "第20轮，测试集第57步，预测完成\n",
      "第20轮，测试集第58步，预测完成\n",
      "第20轮，测试集第59步，预测完成\n",
      "第20轮，测试集第60步，预测完成\n",
      "第20轮，测试集第61步，预测完成\n",
      "第20轮，测试集第62步，预测完成\n",
      "第20轮，测试集第63步，预测完成\n",
      "第20轮，测试集第64步，预测完成\n",
      "第20轮，测试集第65步，预测完成\n",
      "第20轮，测试集第66步，预测完成\n",
      "第20轮，测试集第67步，预测完成\n",
      "第20轮，测试集第68步，预测完成\n",
      "第20轮，测试集第69步，预测完成\n",
      "第20轮，测试集第70步，预测完成\n",
      "第20轮，测试集第71步，预测完成\n",
      "第20轮，测试集第72步，预测完成\n",
      "第20轮，测试集第73步，预测完成\n",
      "第20轮，测试集第74步，预测完成\n",
      "第20轮，测试集第75步，预测完成\n",
      "第20轮，测试集第76步，预测完成\n",
      "Epoch 19, Train loss: 2.1173517363412038, Test loss:, 7.459285736083984, Average NDCG: 0.693108136007563\n"
     ]
    },
    {
     "name": "stderr",
     "output_type": "stream",
     "text": [
      "C:\\Users\\22609\\AppData\\Local\\Temp\\ipykernel_19980\\1417372104.py:57: DeprecationWarning: DataFrameGroupBy.apply operated on the grouping columns. This behavior is deprecated, and in a future version of pandas the grouping columns will be excluded from the operation. Either pass `include_groups=False` to exclude the groupings or explicitly select the grouping columns after groupby to silence this warning.\n",
      "  ndcg_scores = results_df.groupby('user').apply(compute_ndcg)\n"
     ]
    }
   ],
   "source": [
    "num_epochs = 20\n",
    "lambda_u, lambda_b = 0.001, 0.001\n",
    "\n",
    "for epoch in range(num_epochs):\n",
    "    model.train()\n",
    "    total_loss_train, total_loss_test = 0.0, 0.0\n",
    "\n",
    "    for idx, (user_ids, book_ids, ratings, tag_embedding) in tqdm(enumerate(train_dataloader), total=len(train_dataloader), desc=f'Epoch {epoch}'):\n",
    "        # 使用user_ids, book_ids, ratings进行训练\n",
    "\n",
    "        optimizer.zero_grad()\n",
    "        \n",
    "        predictions = model(user_ids.to(device), book_ids.to(device), tag_embedding.squeeze(1).to(device))\n",
    "        loss = criterion(predictions, ratings.to(device)) + lambda_u * model.user_embeddings.weight.norm(2) + lambda_b * model.book_embeddings.weight.norm(2)\n",
    "        \n",
    "        loss.backward()\n",
    "        optimizer.step()\n",
    "\n",
    "        total_loss_train += loss.item()\n",
    "        \n",
    "        # if idx % 100 == 0:\n",
    "        #     print(f'第{epoch+1}轮，第{idx}步，训练损失：{loss.item()}')\n",
    "\n",
    "    output_loss_train = total_loss_train / (idx + 1) \n",
    "    print(f'第{epoch+1}轮，平均训练损失：{output_loss_train}')\n",
    "\n",
    "    results = []\n",
    "    model.eval()\n",
    "\n",
    "    with torch.no_grad():\n",
    "        for idx, (user_ids, item_ids, true_ratings, tag_embedding) in enumerate(test_dataloader):\n",
    "            pred_ratings = model(user_ids.to(device), item_ids.to(device), tag_embedding.squeeze(1).to(device))\n",
    "\n",
    "            loss = criterion(pred_ratings, ratings.to(device))\n",
    "            total_loss_test += loss.item()\n",
    "\n",
    "            # 将结果转换为 numpy arrays\n",
    "            user_ids_np = user_ids.long().cpu().numpy().reshape(-1, 1)\n",
    "            pred_ratings_np = pred_ratings.cpu().numpy().reshape(-1, 1)\n",
    "            true_ratings_np = true_ratings.numpy().reshape(-1, 1)\n",
    "\n",
    "            # 将这三个 arrays 合并成一个 2D array\n",
    "            batch_results = np.column_stack((user_ids_np, pred_ratings_np, true_ratings_np))\n",
    "\n",
    "            # 将这个 2D array 添加到 results\n",
    "            results.append(batch_results)\n",
    "\n",
    "        # 将结果的 list 转换为一个大的 numpy array\n",
    "        results = np.vstack(results)\n",
    "\n",
    "        # 将结果转换为DataFrame\n",
    "        results_df = pd.DataFrame(results, columns=['user', 'pred', 'true'])\n",
    "        results_df['user'] = results_df['user'].astype(int)\n",
    "\n",
    "        ndcg_scores = results_df.groupby('user').apply(compute_ndcg)\n",
    "\n",
    "        # 计算平均NDCG\n",
    "        avg_ndcg = ndcg_scores.mean()\n",
    "        print(f'Epoch {epoch}, Train loss: {output_loss_train}, Test loss:, {total_loss_test / (idx + 1)}, Average NDCG: {avg_ndcg}')"
   ]
  }
 ],
 "metadata": {
  "kernelspec": {
   "display_name": "ml24",
   "language": "python",
   "name": "python3"
  },
  "language_info": {
   "codemirror_mode": {
    "name": "ipython",
    "version": 3
   },
   "file_extension": ".py",
   "mimetype": "text/x-python",
   "name": "python",
   "nbconvert_exporter": "python",
   "pygments_lexer": "ipython3",
   "version": "3.9.20"
  }
 },
 "nbformat": 4,
 "nbformat_minor": 2
}
