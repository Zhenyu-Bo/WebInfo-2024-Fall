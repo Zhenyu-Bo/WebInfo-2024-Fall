{
 "cells": [
  {
   "cell_type": "code",
   "execution_count": 21,
   "metadata": {},
   "outputs": [
    {
     "name": "stdout",
     "output_type": "stream",
     "text": [
      "cuda\n"
     ]
    }
   ],
   "source": [
    "import torch\n",
    "import pickle\n",
    "import numpy as np\n",
    "import pandas as pd\n",
    "from torch import nn\n",
    "from tqdm import tqdm\n",
    "from torch.utils.data import Dataset\n",
    "from torch.utils.data import DataLoader\n",
    "from sklearn.model_selection import train_test_split\n",
    "from sklearn.metrics import ndcg_score\n",
    "import ast\n",
    "\n",
    "device = torch.device(\"cuda\" if torch.cuda.is_available() else \"cpu\")\n",
    "print(device)"
   ]
  },
  {
   "cell_type": "markdown",
   "metadata": {},
   "source": [
    "### 生成文本表示"
   ]
  },
  {
   "cell_type": "code",
   "execution_count": 1,
   "metadata": {},
   "outputs": [
    {
     "data": {
      "application/vnd.jupyter.widget-view+json": {
       "model_id": "968685dbeb4c48c8a9e74a40c9f05624",
       "version_major": 2,
       "version_minor": 0
      },
      "text/plain": [
       "model.safetensors:   3%|2         | 10.5M/412M [00:00<?, ?B/s]"
      ]
     },
     "metadata": {},
     "output_type": "display_data"
    }
   ],
   "source": [
    "# 需要使用代理才能正常下载\n",
    "from transformers import BertTokenizer, BertModel\n",
    "import torch\n",
    "\n",
    "tokenizer = BertTokenizer.from_pretrained('bert-base-chinese')\n",
    "model = BertModel.from_pretrained('bert-base-chinese').cuda()"
   ]
  },
  {
   "cell_type": "code",
   "execution_count": null,
   "metadata": {},
   "outputs": [
    {
     "name": "stdout",
     "output_type": "stream",
     "text": [
      "      Book                                               Tags\n",
      "0  1046265  {阅读年代, 非主流, 日本文学-村上春树!, LITERATURE, 右手寂寞, 看后我对...\n",
      "1  1084336  {寓言, 妙妙推荐，这个下午被感动, 80后文学, 善良, 2010.04, Fiction...\n",
      "2  1008145  {阅读年代, 还是个孩子的时候, 糖, 一本好书, 近&现&当代文学, Fiction, 非...\n",
      "3  1017143  {2010.04, DD藏书, 人生就是一个圆, Fiction, 自由主义, 沉思, co...\n",
      "4  1040771  {真是非常非常好的悬疑小说～～, RENE推薦, 丹.布朗, 糖, 卢浮宫, 随后买了一系列...\n"
     ]
    }
   ],
   "source": [
    "# 读loaded_data取保存的 CSV 文件\n",
    "loaded_data = pd.read_csv('..\\data\\selected_book_top_1200_data_tag.csv')\n",
    "\n",
    "# 这一步很关键，给的代码里没有，导致在接下来的代码中，Tags中作为一长段字符串形式存在的标签集合\n",
    "# 仍然被视为一长段字符串 而不是标签的集合\n",
    "loaded_data['Tags'] = loaded_data['Tags'].apply(ast.literal_eval)\n",
    "\n",
    "# print(loaded_data.head())"
   ]
  },
  {
   "cell_type": "markdown",
   "metadata": {},
   "source": [
    "下面是对上一个代码块中标注为“很重要”的代码的测试代码\n",
    "- 可以看到，经过\n",
    "```\n",
    "loaded_data['Tags'] = loaded_data['Tags'].apply(ast.literal_eval)\n",
    "```\n",
    "这行代码的处理，Tags信息被正确解读了"
   ]
  },
  {
   "cell_type": "code",
   "execution_count": 24,
   "metadata": {},
   "outputs": [
    {
     "name": "stdout",
     "output_type": "stream",
     "text": [
      "<class 'set'>\n",
      "阅读年代 非主流 日本文学-村上春树! LITERATURE 右手寂寞 看后我对你说的话 Fiction 日语 城市生活心理 传说中的村上 小孩书 平静而深刻 很一般 曾经 romantic 历史 流离 村上春树《挪威的森林》 Life 成长小说 爸爸买的 01小说 青春／忧伤／跟日本无关 绿子 成长的迷惘 只这一本书好 寻求 略懂 少年 心灵 村上&吉本 Haruki 2008 关于性格补缺的对话 涩　色 有感触的 girl 图书 外 ◎日本 男作家 外国现代文学 W 心爱作者 生命 I3 英国 身体 Buy ノルウェーの森 时间隧道 文艺 情感 ☻ 外国>亚洲>日本 沉溺 生活 书籍 2008閱 我所看见的 抒情时代 关于村上 spring 村上君 ★状态 不错 小说名著 2001 M 人物 忧伤青春 外国故事。 没有目的的禅 干净 literature I K伯爵的文学书 AUTHOR:村上春树 电子书 残酷 当代 日本小说 个人体 籍 【虚构】 高中 nalan的书架 Pre-2003 忘记悲伤 忧伤 人文 外国现代小说 从前 Japanese 左手孤单 娱乐 两生花 万人迷 外国名著 喜欢直子和里面众多的有血有肉的人物 Translation 06-novel-2 大爱 小资 世界观 挪威的森林青春 性 我的书 再见。 垃圾 读过的那些故事 私藏书 Foreign-Literature 已购买 可爱的人 文学•畅销 建筑无关 希望 2007以前 青春和爱情 譯 现代 我的书架 国外作家 [library] 仙境 文学>小说 当代小说 东俗小说 小片 艺术 一颗苦涩的心 村上的。 東亞文學 音乐 青苹果 文-乱堆 Stanza 大二依旧二 路上行走 青春。 文字の 冷酷 小小文学 2010 生与死 suki 性启蒙 记忆碎片 当代的 等待 温柔细腻的直子和活脱可爱的绿子 小说 是否还记得 被滥用的情绪和信任 玩乐书 经典 成长 言情 曾经雕刻我的名著们 流行 飘 1.村上春树 城市 @书架 在路上 3 若干年前看的 读过 以前读的 翻譯小説 看了真的能有心灵的交流 2010年阅读 小说，文学，村上春树 大学读的 思考 缠绵 心理学 Yer 2005年读的书 缺書店 其他 读的时候很激动 阴郁 如花的眼睛 一个奇妙的旅行 日本@村上春树 迷人 最爱 闲杂小说 《挪威的森林》 死亡 已收藏 真就没有人像我一样不喜欢这本书？ 奇色幻想 。。。。就是这样了 且听风吟 看别人写字 我读 不懂 ... 少年乱读 通俗小说 真的很好看 白 时髦的村上春树 村上。 虚构类 刚看完 林少华 青春还剩下些什么 外国 foreign 恋 文学作品 【外国文学】 asfun SOSO 焦距。 人性 日本 文学类 80后 听别人讲故事 miss 闲时翻阅 春上春树 流行的文字 生活>青春 晦涩 SmallSay 忧郁 tonylist 文 <日> 老男人 现世安稳，岁月静好 高中&继续启蒙 国外文学 亚洲小说 小·说 懵懂下午的懵懂时光 喜欢！ 找不到 有 青春期 Literature 07前 淡淡的 空灵 性与爱 最喜欢的书了 ·日本· 童话 深夜读 译文 ChineseVersion 感伤 人都是逼出来的 抑郁 过往的记忆 灵魂 鹅毛笔 @2009年读完 扶桑。。。 诗意的大地 ✖日本✖ 亚洲文学 村上春数 追风筝的人 good 日语文学 直子 听。 20 一本不象话的小说 久远 Anthropology 悲 恋曲 初中 挪威的森林 原野 愛。 文字嗜好 蹉跎的青春 优雅 地铁 鷠看过的书 闲 大师>村上春树 好书呀 上海译文出版社。 灵性爱 Love 译者-林少华 孤独 JP 天上的鳥. 苏_ 爱情 2010.08 村上家 现实主义 集 小說稗類 别人的想法 我没有也不想要的书 repeat 岛国风物 .. DD 村上 黄色 消遣书之小说 隐喻与灵感 难看 最唯美的爱情`` 漸漸·沉淀 青春文学 旅行 ~ 赌书消得泼茶香 【日本文学】 没读完 好看 初中时的记忆 黑暗的艰难的寻找温暖 小说　日本　村上春树　爱情 文化 国外小说 赶热闹 我会上树 名家 带有黄色情节 现代小说 挪威的森林--寂寞依靠 小说_日本 LOVE 日本现代文学 年轻的病人 外国小说 G 字 和式生活 艺术-小说 .日本 小说体裁 幸福小感伤 小资　青春　日本　哀伤 史书上载 思想的游荡 爱 虚构 已藏 朋友说看了会想要自杀 寂寞 美丽的世界 情色 西方文学 妖精 因为电影 已读完 渡边 小说书 一语成谶 村上春树　挪威的森林 敢死队 很婉转的爱情 崇名而去 外國文學。 　 情 Kalee's_傳世經典 始于飞机终在电话 虚拟；纸书 少年时代 2.小说 一点点黄 很虚伪的小资情调 家常读书 小兔妖的青春期 假期 人生哲理 怀旧 不喜欢 $大学时读 P §一般小说 爱书虫 樱花 感情的细腻流动 小说/散文/戏剧 形而上 ❤ 失却 月光女神 借阅 八卦 生活>两性>爱情 CHUN5555 。 疗伤 情感，小资 闲读 图书柜子 apple 读了一年半才读完 未完 奇异的美丽 忧伤的青春 写字的男子 Wood 西卡。 傻逼 私藏 小说日本 文革题材 看看 自我 易碎的美丽 玩笑 中学·记忆 身体·为更改实施 喜欢的书 必读的经典 心灵的远足 休闲 时间里 哀伤 中毒的父母 中文译本 『书』 对书的封面印象很深 洋小说 过去读过的，补录 2004. 青春的葬礼 游乐园流逝的岁月 读书 春树 欲望 琐碎 感受 Noble 日本文學 读的电子朗读的　很长时间我需要感动 村 Novel 摄影 萤 fiction 碧落 中学的时候那个喜欢呐。。。 看过 碎影留痕 狐狸 OL 不在流血的伤口 迷宫的路 livre lesbian 清冽 青涩年代的性启蒙 有关爱 趣味读物 很村上的感觉 小资？ ♠01/小说 电影 读不懂 外国长篇 高中时候当色情书籍看 冥想 japanese 傷感 亚洲 谁没有些乱七八糟的青春呢 青春性冲动 还算经典 0日本 迷惘青春 小说类书籍 青春 _村上春樹 村上春树作品 一直拒看這本書，現在想看了 N 心中的经典 japan 图书馆的家伙 随笔 成人寂寞 睡前书 村上~ @小说/戏剧 ............................... 高中看的 散文 了解~ 翻译小说 蓝色回忆。 可读两遍以上的小说 in 01-06read Krten读过的书 story 读了好多遍，才读懂 国外 非中文文學 有些畸形的爱 挪威的森林、爱情、选择 食物有关 自杀 村上村树 认真阅读 不配称为文学的小说 日本文学. 挪威 外國文學 小说，国外 青春志 随便看看 村上的寓言 日系 与胖子有关的阅读 不在 和风 简单 bOOk 狠黄狠暴力 后现代 其他小说 没读懂的 大白's 20C 无处安放的青春 人生 作者莫名其妙就很忧愁 村上春树， A-村上春树 半 O 不像日本的日本 我恨这本书 阅读时光 迷茫 六月.读 休闲读物 理解不能 阅读 听故事 不知所措的青春 不健全 外国/小说 我有的书 安静 小说说！ 济南外国语学校图书馆 现代文学 Novels 虚无 ◆ 另外的一本忧伤 渴望 绝望 TYPE:文学 【日】村上春树 小说. Ann's 缱绻小憩 @很久以前读过了 *村上春树 \"挪威的森林\" 借 littérature 中译本 现当代 不喜欢的风格 私物语 林少華 纯的 $doulie文学_幻灭人生 静谧 创痛 书店 小說 Japan 迷惘 名气 人类 困觉 我没看懂 不錯 lOveR 全译本…… 我的文学书 爱，温暖 愛情 shang 小说。 垮掉的一代 青春小说 中学时代 图书馆 隐秘的激情 之二遍 1 唯爱 日本，村上春树。 看了不多不少几本，还是觉得这本最好。 大学 allbooks 奇好 我的藏书 Norwegian pre-2007 东洋文学 2009 09年读 日本文学 静 女性 Sun‘sBook ezary 老陈喜欢的 笛子有书 日本相关 外國 高中生性启蒙教材 思索 正常的又非正常生活 那时候，我是生理有些冲动才读的…… 日本文化 有人说我是里面的绿子 村上春树 感性 很有味 酸 绿子。 已进/持有 村上春村 小学中学 Non 日译 iPodTouch 总是有那么多的语言被他们翻译 我喜欢的 思绪万千 MI 沙之书 闲散 这才是青春 10点でも足りない 未寫感想 ！ 中国当代文学 日本國 自恋 旧日所读 蝦b善衡圖書館 【日本】 冗长 看得村上春树 挪威的深林 多读几遍会更有感觉 fun 人，都是逼出来的 譯作 一个人的江湖 外国文学--日本 小说-村上春树 我们都这样平凡的让人绝望 fav-writer 2007年读过 村上春树. 电影原著 为了装叉 中国文学 没啥大意思 需重读 arths 上海译文出版社 06 神经周期 流行文学 漫画小说 读过但不喜欢的作品 espiritu 才情者的小说 现实的 名著 伤感 2006 novel 小河 火灾 狂爱 我们彼此相爱。一座城池为此倒塌。 朝圣之地 颓废 爱情小说 一般的书籍 外文 青春物语 A 幽居岁月 森林 日范儿 来自洋国 2010之前 1980s 12345 经典文学 想象力与痛感 长篇小说 纸质书 书 生活方式 披头士 [novel] injune 挪威森林 心理 村上·舍 挚爱　挪威的那片森林 魇 我爱的书 Japanese-Literature 童书 虚空 曾经是最喜欢的书 字儿~ 被推荐过 我不喜欢村上 狂热的生活 必修名著 对我影响很大的一本书 日本当代文学 浪漫的现实主义 无聊 校图书馆藏书 日本.村上春树 伪青春期黄书 说 文学 活下去 -村上春树 藏书 soso 上海译文 日文小说 好看滴 冬雪夏雨，烟火人间 长篇 雨中狐狸 白衣年代。 言情/青春/耽美 西方文化影响 10分 刺穿我的灵魂 C 闲书 没营养 炒熟的思想 MyTop10 這個年代 挪威的森林。 当代文学 读物 {小说} 那些文字 qing 春上 喜欢 2003 17岁 1987 17岁读的 關於。 今 村上春樹 外国文学 岛国故事 不答藏书 珍藏 大学时代 7 12月的寒冷与温暖 村上春树。 小 路途外的风景 文學 book 细腻 Haruki_Murakami 小屋\n",
      "<class 'set'>\n",
      "寓言 妙妙推荐，这个下午被感动 80后文学 善良 2010.04 Fiction 大人的童话 在手 Kalee's_小說 小孩书 神话与童话 可爱的书 jungle 永无岛 好文字不是盖的 童話 .法國 略懂 心灵 2008 外文名著 2002. 天真的爱情 Miscellany 小人书 温暖 樂園 图书 Saint-Exupéry 我怀念的 bb 外国现代文学 W 非我族类 生命 玫瑰和狐狸 快餐讀物 圣・埃克苏佩里 童话/寓言 经典作品 法文 SaintExupery 单纯 与幻想相关 英文 文艺 哲学类 情感 靈魂終於鑿開了決口 可以无限次的读 之三遍 育儿 给大人的童话 诗话 生活 书籍 秘密 @.人文 时间旅行 ★状态 不错 小王字 没有真相的哲学 电影改编 小说名著 向大师致敬！！！ 杂 宿命 神话、魔幻与童话 陪我長大 难释 你还好吗 未电 成人童话 TEOTIHUACA2N 它们无法归类 literature 【儿童文学】 心治之书 分手之书... 完善思想类 儿时 个人体 AntoinedeSaint-Exupéry 籍 高中 會哭 淡淡的缤纷 翻譯作品 墩儿 西方 @童话/神话/奇幻 大人的童话，永存心间 蔡康永 忧伤 ★★★★ 奇幻小说 人文 爱的学习 亲爱的推荐 外国现代小说 Deutsche 魔法 还要点多少遍看过才停止推荐呢？ 小说_法国 智慧 万人迷 外国名著 latee 我想要得单纯 长大 花 焦中华 哲理 珍惜 私藏书 Foreign-Literature 绿色书架 泡泡 文学•畅销 希望 童话寓言 艳遇 初见人生 fairytale 国外作家 我的书架 陈信宏 童話。 没有这本书 让我明白了些什么 仙境 圖片讀物 小王子:玫瑰:星球 经典圣埃克苏佩里 拥有一颗会笑的星星 待再读 童话与神话 很美 小片 法国 哲学童话 艺术 爱是什么 青苹果 classic 教育 路上行走 文字の 小小文学 2010 童话. suki 长大就不见 ★视觉 简单生活 小说 D-浏览-小说 fantasy... 最重要的是看不见的 赤子之心 被滥用的情绪和信任 起床书 outstanding 另一个透镜 玩乐书 經典作品 成长 经典 优美的语言 读给自己的童话 社会 好 绘本 12直到18岁时。 小王子，你 该看看 童话还是寓言 欧美 永远 读过 看了第一遍 1940s 思考 心理学 小说/散文/随笔/游记/诗歌/神话。 记载我的豆蔻年华 朦胧呢 外国经典 其他 如花的眼睛 AntoineDeSaintExupéry 他在想什么？ Fairytale 绘本/童书 幼稚的成熟着 光 我的挚爱 哲学意识流 轻缓的 最爱 好好 无用 且听风吟 小虎爱读书 看别人写字 我读 麦田 过去的。 ... 科幻 这个版本的小王子 绘图本 很棒 喜欢的 属于自己的那朵花 文学名著 【夜间飞行】 漫画 虚构类 翻譯小說 tea - 外国 foreign 最让人感动的童话 文学作品 中 asfun 古典文學 焦距。 人性 世事 古典文学&名著经典 童话。悲伤。 少儿 我的最爱 自然 2004 纯真 童话　美丽 provoking fivestar 永遠的小王子。 大智若愚 永远的钟爱 追忆系列 回忆 夜莺与玫瑰花 童年入眼 美文 阿拉额时代 梦想 呓语 小·说 玫瑰星球 喜欢！ 干净d' 小故事 Literature 07前 插画 执着的玩笑罢了 Français 童话 留在记忆中 麦子的颜色 欧美文学 寻觅 深刻 抑郁 过往的记忆 读你千遍不厌倦 鹅毛笔 图 13岁 read-like-children 治愈系 玫瑰花 成人的儿童书 我的心中每天开出一朵花 【法国】 盲目喜歡的經典外國文學 wonderful 沙漠 小王子。 想象力 小孩 price 《小王子》 童话却讲述的大人的世界 乐子。 FairyTale 人民文学出版社 最美的梦境 法国文学 我的精神家园 思考童话 WELL Love 重光 孤独 幼 santafe 其它 苏_ 爱情 女子 用的却是那么简单清新的故事 文字 值得一读 reading 启蒙 等 最美的童话 孩子喜欢的形式，探究成人的内心 西文小说 旅行 每一年，每一天， 童年的日子 倘若带我去此梦境。 古典 好看 写给大人的童话 FINE.. 天真 ing fairy.f 小小的故事，大大的感动 国外小说 法忢 文化 随风而逝的笑声 5 现代小说 if 童话　我的玫瑰 圖畫書 远界 与青春有关的日子 LOVE 欧罗巴风物 手绘本 we'are 娃娃家家 外国小说 灵修 小说体裁 诗与童话 寂寞 爱 虚构 未归类 为什么累了 譯文 [Ｘ幼`!稚`!.園] 寓意 情书 西方文学 纯真的 生活的品读 可爱 驯养 美好。。感动。。 其實您已對我太不錯 大学年华 小时就知 译本 肆、心水 第七学期 外國文學。 Kalee's_傳世經典 很久前的感动 我看过的五颗星好书 虚拟；纸书 PicBook Saint-Exupery 法兰西 童書 历程 家常读书 读的 经典书籍 人生哲理 时光难描募。 东东 童话外国文学 P 爱的童话 Salu ×哲学 读字 欧美小说 玫瑰 ❤ 感人 大地 给我一个薄荷味的童话 None 友人借阅 原版 那些书籍。】 现在时. 有趣 图书柜子 初恋 小书 先锋购书 童年珍藏 童年有一群亲爱的人。 童年 思想 MF 西卡。 大道理 非小说类 看看 翻译 自我 @绘本 马振聘 中学·记忆 儿童 魔幻 青春溫軟安慰 喜欢的书 世俗哲学 [法]圣埃克苏佩里 成人 孩子／天真／法国／幻想／忧伤／飞行 休闲 牛x 自闭的时候 囡囡 『书』 立志 洋小说 成人的童话 我无法实现的梦想 那片记忆 哲思 文字-法国 在我身边开了花 大人该读的书 小王子 love 讽刺文学 观念 Favourite-Ones 童话注定不是遥望的 值得再读 小王子； 欲购 打钩 小狐狸小王子 西欧 My-Book 朋友看过的书 我爱的童话 唯美 童话故事 Novel fiction 难忘 无法理解 碧落 从指尖流出 . 小王子，通话，法国 狐狸 人生啊人生 有点伤感 法国小说 译著。 TOT prince 完美保留。 我手里有的 小小王子 master 通话 我的小王子啊 意义 天真地泯灭 身心灵 完整的蟒蛇和剖开的蟒蛇 西方文学. 艺学作品 漫画读本 永远的收藏 那支玫瑰 AntoinedeSaint-Exupery 小SiSi 幸福 一本让老夫潸然泪下 双儿 青春 db250 流浪记 认识自我 欧洲文学 心中的经典 Dream ebook 西方名著 法国。圣埃克苏佩里。 随笔 哲學 口、口、犬 兒童適宜 法國 散文 干净童话 dare 翻譯 @童书 Krten读过的书 story 立人乡村图书馆 国外 爱情圣经 SaintDeExupery 2011 态度 几米 名不副实 自我管理 兒童文學 感觉会流泪 0外国 法 一些书 外國文學 独自 真 有声读物 随便看看 夏天里的躁热 儿童眼光看世界 童话之旅 小馆里的书——小说 等爱的狐狸 纯真的梦 FR 关于生活 tale 拥有的 新知 没读懂的 so 诗 自由 人生 译作 cult 三楼偶尔也随波逐流的我 France 思维/心理/人格 恋爱 小狐狸 童话，法国 温和 我认为的经典 忧郁的不像单纯的王子 插图 阅读 francaise 外国/小说 我有的书 相遇 SaintExupéry 幸福的时光 法语 life 儿时经典 小说说！ Foxtrot @.绘本 现代文学 法國文學 离。 funny ◆ 【法国文学】 一楼暧昧的我 美而伤感 溶溶月 叶沙推荐 TYPE:文学 圣埃克絮佩里 小说. @很久以前读过了 其实不是一部童话 最好的文字 心理寓言 想看看 爱智慧 童贞 Momo 子夜书社 永远的童话。 幾米 生活态度 精神 童话。。。 信仰 飞机失事 现当代文学 欧洲 2003-08 小說 浅草君 白云典藏 迷惘 名气 内心 人类 倔强，纯美 想重讀 【 <法> 缺书店 爱的悔悟 柔软故事 他们推荐 我的文学书 id= 经典！！！ 华工时 有关阿信的阅读 小说。 我愛的繪本 幻想 盒子 文哲类 图书馆 精致 比童话还美好 四楼总是被吸引的我 1 litter 大学 me 帽子 我的藏书 兒童文學。 pre-2007 火星漫步 正心明理 寻找 ezary 王子。 外國 西洋 the touching 窩心 childhood 19 儿童小说 小学中学 French 一辈子的印记 人与人 fav 鹅妈妈的童谣 Fairy 2007 you 青少年读物 很少有让我哭的 0002 二楼可以讲给别人听的我 心灵的震憾 畅销书 哲学 §童话 流浪者之歌， 孩子 小时候 少年时 温情 [小王子] neverman推荐 英语 fun 驯养的爱　相信　不属于孩子的童话 一个人的江湖 princess TheLittlePrince 儿童文学 圣·埃克苏佩里 无法归类 好书 闲杂童话 中国文学 做人 没啥大意思 蛇 在寻找中，去爱胜过被爱 图册 倾心剂 給學生 外国儿童文学 大象 日积月累－－我的藏书 espiritu 童趣 名著 伤感 2006 novel 小河 Prince 有关青春 美妙 心灵自由之路 浪漫 童心 课本 外文 4star看值 收藏 I童 经典　童话 雨亭 名声在外 来自洋国 实物在手 little remexwang 童话，梦想，人生 童 轉。 经典文学 星星 童话绘本 我喜欢，他也喜欢 衷爱的书 第三视线 外国文学-日本以外地区 English 國外 书 心心♥ [法国文学] 我的推荐 图本 classics 女学生阅读 injune 心理 童童童话 我爱的书 想象 童书 我称之为经典。 理解 2005年看过的书 温暖人心 髓·冥 Antoine_de_Saint-Exupéry 英文译本 橘 字儿~ 至爱的文字 校图书馆藏书 陪我长大的童话 星球 善良的 經典 珍珠 生活绘本 intersting 文学 shu 书城 最爱的 涂鸦绘本 最开始的。永远是最纯洁的。 五个星儿！ 书香扑鼻 实用型的工具书 感动 寫的是哲理 雨中狐狸 圣埃克苏佩里 感悟 闲书 当代文学 王子 那些文字 友谊 小品 喜欢 2003 拥有自己的小家时书架上的书 關於。 敏感 外国文学 诺言 遥远的从前曾经读过 人生哲学 私。 永远的童话 幻想童话 Cc~ 经典名著 小 奇幻 故事 繪本 文學 book 儿童读物 法语教学 AUTHOR:圣埃克絮佩里 ◎法国 记忆里的小王子\n",
      "<class 'set'>\n",
      "阅读年代 还是个孩子的时候 糖 一本好书 近&现&当代文学 Fiction 非技术 新闻传播学 生活>两性 小说剧本 通俗读物 開卷 书堆 曾经 名家名作 《围城》 Life 中国现当代文学 生之围 迷幻现实」 责任 钱先生和杨先生贤伉俪 略懂 2008 已购。 前文革文学 中国近当代文学 課堂讀本 近代名家 W 心爱作者 一段回忆 名著经典 文艺 已囤 文史 国内小说 生活 书籍 。。。。。好书 没读完的 值得珍藏 China 不错 钱钟书 纯文学 小说名著 散文文学 向大师致敬！！！ 豁达 这只猫已阅 own 呆 中国的浪漫派 literature 跟潮流 完善思想类 当代 围城情 高中 china 中式的幽默／婚姻／留洋 语言 城里城外 一脉书香 中国文学。 人文 汉语小说 从前 不读不行 说实话.. 万人迷 中国当代小说 智慧 书柜中 大爱 中国近代小说 ☆ 哲理 读过的那些故事 中国现当代小说 选择 钟爱 艳遇 没资格来评价 睿智 现代 博学之书 事业 近现代小说 我爱看的一些文字 文学>小说 当代小说 中国.钱钟书 精神粮食（思想、政治） 023-60591209 艺术 黄昏书 東亞文學 大爱~ 中国现代 青苹果 围城　小说　钱钟书 中国大陆文学 路上行走 时间 文字の 小小文学 2010 最爱的... 中国社会 私爱 汉语文学 精妙 小说 庆幸自己读过的书 社会反思 我推荐的小说 晟文堂藏书 玩乐书 经典 成长 版本很多 还会再读 图书250 阅读越有味 社会 一辈子 杂乱的文艺 现实 概不外借.(丢) 大学读书 我该再读 钱老 中国喜虐文学 读过 以前读的 海 1940s 思考 原文小说 当代中国文学 心理学 踌躇 专业 文史哲 20世纪小说 其他 国内作家 最爱 中华儿女 破旧的月亮 闲杂小说 中文名著 已收藏 魅影漫舞 原来很喜欢，现在越来越不喜欢 旧事；闲情；故人 常读常新 人生的寂寞与哀伤 闲暇 婚姻 通俗小说 現代文學 国内文学 重庆左岸方舟心理咨询 小时候的回忆 【文学】 浮生 <01read 文学作品 asfun 黑色幽默 三重门 人性 文学类 nb 我的最爱 学习 Classic 刻画世界 处处江湖险恶多 大陆 钱钟书，知识分子，人性，爱情，战争 fivestar 钱老爷子 汉语现代 围成 夜莺与玫瑰花 站在尘世外写尘世 文 phil 社会学 中国哲学 錢鍾書 有趣~ 和爱有关 Literature 07前 至爱 雨季不再来 厕所书 钱鐘书 深刻 那些国内无法分类的。 民国时期 鹅毛笔 modernity 才子 着魔的猎人 钱氏幽默当真无敌了，无出其右者 久远 本土小说 新世界 中国古典文学 初中 新儒林外史 这是一本给想要结婚和已经结过婚的人看的书 19岁时。 古今多少事|小說 小说/文学 人民文学出版社 文字嗜好 民国 錢鐘書 过去的书 闲 我的精神家园 钱锺书 五花八门 我心目中百读不厌倦的经典 钱先生很强 爱情 旧中国 Novel&Fiction 现实主义 集 因为没读懂，所以没给太高的评价 近代 文字 钱氏夫妇 不无聊 mybooks 钱鍾书 国学 这个版好 ToBuy 旅行 read 大师 赌书消得泼茶香 伏维阁藏 没读完 值得读　不喜爱 好看 杨绛 真理 大学时期一定要推翻高中的记忆 FINE.. 1947 谁不爱故事 +收藏 文化 经典小说 讲故事 力荐 牛X人的牛X书 拾贰月 classic... 天才 近现代 字 上网后 艺术-小说 史书上载 虚构 近代小说 男文 家藏 小说与文学 亲爱的老头子们 狡黠 智慧是沉默的，也是幽默的 中国经典小说 說小 华文小说 所谓名著 【电子书】 Kalee's_傳世經典 大学四年 钱钟叔 调侃 Kalee's_ 现代文学馆 读字 带字儿的 平民的传世经典 ❤ 有趣 贰拾贰日毕 图书柜子 apple 小书 方鸿渐 ✖中国✖ 音频书 思想 钱中书 西卡。 再没有一本小说比得过这个 中书先生 大爱~~ 很久以前了 文人之书 喜欢的书 记忆 先生的推荐 文学与文学家 民國 Chinese 徐凌藏书 I2 读书 钱钟书杨绛 值得再读 消闲 Noble 经典作家。 现当代小说 无需说什么的经典 国内现代小说 My-Book 阅过，观过，聆听过 Novel 很多人都看过的 最难忘记。真情真意。 喜欢并推荐 看着行，可是老觉得像看僵尸片 迷宫的路 中文/小说 上 故事人 现小说 文学大师 有意思 ♠01/小说 电影 唠叨 推荐书 成熟的幼稚着 很好 高中时读过 改编为影视作品的小说 想当年 爱上一个寂寞 学术 不喜欢的小说 推荐 帅气 传统文学 小说稗类 独立 我的前半生 心中的经典 我们一直徘徊在此……不知可否 我在读 知识分子 才子佳人 无奈 中文小说 小说_中国 @小说/戏剧 困惑 銭锺書 contemporary.c 中国现当代 散文 钱钟书　婚姻　幽默 2010读 Krten读过的书 story 学期末的记忆 2004年读的书 牛逼 态度 戏谑 陈道明 历史背景下的小说 一些书 中国文学文化 黄仁宇 唉~~ 【现代文学】 其实不可相信 小馆里的书——小说 中国近现代文学 大一 中国文化 其他小说 好书，但说实话不对我的口味，我宁愿《管锥编》《七缀集》 我的圖書館 当代@钱钟书 20C 男的喜欢得更多些 高中时阅读，想着什么时候再读一次 大人书 人生 中国现代文学 围城 舍弃/不触动 library 家庭 2005? 命运 阅读 非常有感觉 超越不了 哈哈 我有的书 感受大师 当代中文小说 稀饭分子 life 王小波 现代文学 亞洲 一楼暧昧的我 关于人性 ◆ 中俗小说 文学•经典 TYPE:文学 @很久以前读过了 刻薄 最好的文字 DA 中文 4 借 书与老婆 littérature 现当代 1991 时间消磨机 爱情，不是得到就是学到 书店 只是看过 现当代文学 读完 小說 浅草君 婚姻　枷锁　牢笼　地狱　围城 幽默 中文经典 五四 我的文学书 以我的style认为必读 内地 可以看看 小时候看的 才情四溢　幽默 小说。 B tranquillizer 图书馆 中国。钱钟书。 1 挣扎着陷入挣扎着不出来 复杂人际 中国，钱钟书夫妇。 大学 中学看的书 Modern 果果 开心 钱钟书先生 2009 高峰 太喜欢 【中】钱钟书 旧书 內地 2000 ezary 我在外面想进去 常识 小人物 念文科的悲剧 可爱的钱钟书 思索 中西文化 杨绛&钱钟书 年轻人的心事永远都是一样的... 村上春树 凌厉 已购 泛泛 小学中学 一般 2007 中国当代文学 哲学 现代的 中国 小时候 看了N次的半本 人民文学 大爱钱钟书 ``````` 中國現當代文學 跳出字里行间 fun 人，都是逼出来的 自己看，我说的对于他来说都是废话 中国小说 錢鈡書 中国当代 幽默而悲苦 生活的味道 电影原著 学院小说 婚总是要结的 好书 2003.01 中国文学 生活　婚姻　爱情 近现代文学 没啥大意思 深奥 我喜爱的小说 錢锺書 讽刺 国产小说 漫画小说 文学与诗学 espiritu 才情者的小说 现当代中国文学 just 大家 名著 个人藏书 现代文 婚姻　人性 novels novel 书架上的一席之地 04年以前 婚姻的态度 有机还可以再看看 大中国(现当代) 中國文學 thinking 喜读 中國 余华 近现代中国小说 大學圖書館 杨绛/钱钟书 实物在手 remexwang protein 2010之前 经典文学 @翻书养性 不喜欢的书 长篇小说 人生如梦 纸质书 书 我的推荐 classics 中长篇 [novel] injune 大师作品 永远适应哲学 心理 当代这蕞货 圍城 进进出出 当代作家 中國大陸 骨骨 被推荐过 无聊 校图书馆藏书 至爱的文字 AUTHOR:钱钟书 何时读都不会失望的书～ 有道理 初中讀的，沒怎麼覺得很精采 说 文学 这本书让我感觉生活很残酷 shu 战争 课上读书集合 TBBIMEs250 中国名著 藏书 感动 好看滴 贰零壹零年 冷眼 长篇 围观 感觉上有点老的书 中文原版 10分 炒熟的思想 1930s 2002 一个人和两个人大不一样 当代文学 那些文字 臭虫 qing 喜欢 長篇小說 17岁读的 半新半旧的年代 封面不一样 人生哲学 外国文学 realistic 陈道明的围城 1999 杂文 7 別人的 围城、钱钟书 华语文学 讽刺小说 喜欢的当代和现代文学 故事 很想进去 自己找来的书 沒啥感覺 文學 book D\n",
      "<class 'set'>\n",
      "2010.04 DD藏书 人生就是一个圆 Fiction 自由主义 沉思 contemporary.f 小说剧本 其实还可以 通俗读物 抽筋 小说_捷克 曾经 romantic 历史 东欧 羞耻 @黄荭相关 米兰昆 狮子山藏 01小说 大师之作 2008 深邃 少年 已购。 随风而逝 有感触的 @2007年读完 凌空俯瞰生命。 外国现代文学 生命 不能承受 外国古着 不能承受何止轻啊 身体 Buy 经典作品 昆德拉 捷克.米兰・昆德拉 文艺 靈魂終於鑿開了決口 思索的小说 美容 生活 书籍 是是是是 米兰_昆德拉 米蘭·昆德拉 藏书之一 抒情时代 媚俗 米蘭.昆德拉 多样 生命的承受 拧巴 茫然地瞎折腾 不错 电影改编 小说名著 向大师致敬！！！ 杂 宿命 潜意识 捷克 M 捷克语 own 我的藏书柜 干净 时髦的昆德拉 I literature 当代 读了很久很久 大学一年级 最最最最最爱 籍 高中 of 莫名激动 翻譯作品 刻骨铭心 忧伤 【捷克】米兰昆德拉 哲社 人文 外国现代小说 沉沦 Kimo.k 智慧 生命中不能承受之轻 外国名著 政治学 如菊 张扬与压抑，人生应取其中的平衡点 米兰.昆德拉 小资 大爱 哲学小说 性 老米 少女 latee 励志 昆德拉　生命　生活 读过的那些故事 私藏书 Foreign-Literature 哲理 外国>欧洲>东欧 可爱的人 钟爱 文学•畅销 混乱的思维空间 2007以前 @金陵02front布面红 06~ 譯 现代 我的书架 国外作家 書社 因为在乎，所以喜欢 ForeignLiterature 人的需要么　人的困惑么 【待复习】 文学>小说 奇书一部 milankundera 感觉复杂 感觉有点散 023-60591209 法国 美丽 且诗书库 牧歌 再读!! 《不能承受的生命之轻》 中欧罗巴 艺术 米兰~ 大爱~ 青苹果 思想史 版本不同的 路上行走 小小文学 2010 kundera 米兰．昆德拉 suki 米兰· 人生思考 哲学　永劫回归　自由　动荡　无力 米兰*昆德拉 当代的 简单生活 Milan·Kundera 小说 庆幸自己读过的书 Alopor 毁灭 晟文堂藏书 玩乐书 很爱 经典 成长 之轻 曾经雕刻我的名著们 还会再读 德语文学 社会 [txt] 波希米亚 颠沛流离日 @书架 杂乱的文艺 社会主义 童话还是寓言 3 若干年前看的 欧美 粪便 读过 Aappe读书 想起托马斯大喊Es 以前读的 外国现当代小说 思考 心理学 小説家類 2005年读的书 Czekh ，不能承受的生命之轻 外国经典 20世纪小说 其他 装逼进行时 勁 03 没看完 最爱 待 米蘭昆德拉 已收藏 魅影漫舞 lightness 抑郁，不媚俗 有点意识流 荡涤我心 我读 不懂 婚姻 文学艺术 米兰-昆德拉 恶魔般的爱 文学名著 重庆左岸方舟心理咨询 木瓜之琼琚 狗的眼泪 虚构类 Milan 政治 翻譯小說 温故 外国 地上的穴. 文学作品 中 asfun 昆德拉。 西经小说 黑色幽默 挺无聊的 焦距。 人性 文学类 只是要擠出時間 想重看幾遍 经得起折腾看的 @Fiction^Film 好小说 text 人文-文学-著述 但在历代的爱情诗中，女人总渴望承受一个男性身体的重量。 0 晦涩 心情 看不懂 哲学/思想/基督教/文学理论 欧美当代文学 Milan_Kundera 只是没看完 想法 文 老男人 寓意陷阱 国外文学 喧嚣 只是读过尚未到心爱 生命不能承受之轻 社会学 小·说 很久以前看的书 主流 工作后看的书 到头来只能选择一种生活 有 Literature 感情 性与爱 其实不喜欢 尘儿阅读 欧美文学 译文 风格 ChineseVersion 生命是幻觉 灵魂 All 社会＋政治＋哲思 伤痕 good 文艺青年 久远 爱情&生活 新世界 看过的第一部昆德拉的书 盲目喜歡的經典外國文學 偶然 杂不懂呢? 2008年购书 古今多少事|小說 一般小说 暖 一个陌生女人的来信 法国文学 版本比较 我的精神家园 心之所向 想读而已 上海译文出版社。 孤独 五花八门 苏_ 爱情 三明一中图书馆 别人的想法 文字 存在主义者们 mybooks Milan.Kundera 西文小说 Czech 纸版 旅行 歐美文學 赌书消得泼茶香 最近在看的。英文电子版。 那些没看或没看完就删了的。 essay Kuntera 好看 FINE.. 名著是什么 共产主义 非中国文字 思维 ing 谁不爱故事 生命中不可承受之轻 非常好的一本书，精彩非凡，直入心灵 +收藏 文化 国外小说 现代主义 经典小说 上译 昧俗 去那里呆 力荐 外国。 最愛 三姑娘的书架 外国小说 G 字 Angelia2041 艺术-小说 不能承受的存在之轻 看不下去的东西 爱 虚构 已藏 家藏 轻与重 西方文学 Hikawa⊕文学 米蘭．昆德拉 生命之轻 冲突 真的感觉挺承重的 aH 大学年华 世界文学 挣扎 译本 09 嘘！什么都不要说了！ 外國文學。 读过的最喜欢的小说 老迷的好书 永远的昆德拉 假期 译者-许钧 1982 P 最后读过它之后我开始不喜欢昆德拉了 其实还没有读，但是已经摆到床头了 欧美小说 有代沟 1984 作者:老外 巧合 与 未完成 米兰 I5 以后 CHUN5555 旋转 青年时代 糊里糊涂 承受 有趣 闲读 图书柜子 读着太费劲 图书馆的书 思想 心灵哲学 私藏 虚拟书架 自我 欧美近现代文学 听过的 其实我没有看懂 生活的真实面目 喜欢的书 米蘭-昆德拉 不叔读书 文学与文学家 @袁筱一相关 『书』 回归 洋小说 哲思 谁的烟火 文化研究 真的没读懂 很酷的老头们 徐凌藏书 8.5分 米兰・昆德拉 读书 欲望 我的朋友都应该读过才队 感受 打钩 美国 我的书藏 小米 米兰・ 关于爱情 我爱昆德拉 存在 Novel fiction 米兰昆德拉 承受不了的沉重 这是一个生命轻得感受不到的社会 看过！ Iloveyou 西方文學 不忠 muss 人生中的选择 故事人 文学大师 sein…… 感觉 意义 MilanKundela 战争中的小知识分子 道理 2008以前 电影 读不懂 知性 以前喜欢过他的 唠叨 哲理小说经典本 现实的两性关系 虚伪 一般好 购书清单 读了半本 Milan·Kundern 执著 行为 青春 推荐 严肃文学 欧洲文学 心中的经典 读书笔记 有点意思 西方名著 MilanKundera 随笔 知识分子 哲学相关 不能承受的生命之轻 感触 法语@许钧@南大 小説 逻辑 @小说/戏剧 困惑 好吧我对捷克人没辄 “我” 畅销 法國 散文 翻译小说 女画家 生活在别处 翻譯 可读两遍以上的小说 story 国外 美味 真实 捷克。米兰·昆德拉。 2011 戏谑 认真阅读 爱书 以为很难读，其实还好。 0外国 奇异 奇书 男女之间的较量 外國文學 米兰·昆德拉 随便看看 后现代主义文学 小馆里的书——小说 不可承受生命之轻 法语文学 放弃 需要重读的书 再看一遍再评 旧时相识 会再读 关于生活 色 　美容 忠贞 200801 杂类文学 so 喜爱 自由 人生 三楼偶尔也随波逐流的我 -- O 追逐青春 阅读时光 挺抽象 藏... 没怎么读懂 左派 命运 生命的沉思 非英国小说 史哲 理解不能 非常有感觉 翻译文学 政治讽刺 阅读 外国/小说 米兰　昆德拉 离散 捷 精神之旅 多遍 捷克小说 中学读物 生命中的孰轻孰重 米兰・昆德拉(上海译文) 轻与重。 济南外国语学校图书馆 现代文学 09SummerBreak 西方小说 ◆ 现代派 绝望 哲学，捷克。 Ann's 最好的文字 A_在架已读 我实在看不懂 原來情是這樣的 媚俗的人 littérature 中译本 现当代 精神 高中读的 信仰 书店 非实用 欧洲 一直想看 小說 浅草君 迷惘 生命。 外国>欧洲>法国 unbearable 幽默 许老师 能承受的生命之轻 软弱 意识流 zz 设计很好看的一本书。 愛情 小说。 读过多遍的书 图书馆 how 在架上 诺贝尔文学奖 女人 1 to 两极 2009閱 大学 些许不懂 allbooks 書是陰道是小乳是春藥 苏联 我的藏书 pre-2007 法/美/英/意/其他 入夜书 每次读都是新故事 III.a.Geometry Sun‘sBook ezary 常识 外國 心平气和的一只瞎子 哭，哭，哭死了 the 国外，意识流 布拉格 2010-03+05 读过的 我要看 已购 小学中学 Non 镜子 重庆左岸方舟心理咨询机构 fav 一般 2007 我喜欢的 思绪万千 许钧 作家 沙之书 大一寻觅很久 哲学 生命不可承受之轻 生命是一个哲学的过程 小时候 旧日所读 米兰昆德拉，小说，生命之不能承受之轻，不能承受的生命之轻 真理不死 移民文学 【捷克】 设计 欧美-小说 fun 譯作 最近读的书 2007年读过 电影原著 为了装叉 哲理小说 对我很重要 中国文学 好书 SB东华 外国经典文学 上海译文出版社 男女关系 不朽 讽刺 一读再读 豆列 捷克文学 aruni读过 探究 文学与诗学 才情者的小说 espiritu 爱着 名著 我的牧师 novel 书架上的一席之地 抱拥海浪 读书吧 某男人 背叛 朝圣之地 轻 红色恐怖 布拉格之春 中篇 叙述的力量 ideality 外文 会买 A 4star看值 想看 正义 收藏 高中時代摯愛 来自洋国 卡尔维诺 实物在手 思考。 remexwang 说什么好 2010之前 Kundera 世界名著 借来的 经典文学 @翻书养性 长篇小说 外国文学-日本以外地区 Milan-Kundera 书 深度 生活方式 2009年1月 injune 心理 不能承受的生命之轻。 想象 小说故事 say 欧洲小说 需重读/笔记 捷克，米兰・昆德拉。 被推荐过 其他國家 米兰。昆德拉 欧洲作家 @法文小说 至爱的文字 校图书馆藏书 經典 看不懂的 文学 shu 2010.4 流亡 TBBIMEs250 不能承受的生命只輕 五个星儿！ 藏书 上海译文 长篇 2009read feeling 未领悟 留下了一些记忆 being 尼采 文学米兰昆德拉 闲书 不能承受生命之轻 启示 艰涩 外国，文学 当代文学 捷/法 喜欢 2003 長篇小說 荒诞可笑的黑色悲剧 敏感 外国文学 人生哲学 重 有关过去，有关自己 暑假 7 @@@Bilbliothèque@nju 捷克@米兰·昆德拉 【捷克文学】 不太懂但应是好东西吧 路途外的风景 故事 文學 book 救赎 看了一半的书。。。 伦理\n",
      "<class 'set'>\n",
      "真是非常非常好的悬疑小说～～ RENE推薦 丹.布朗 糖 卢浮宫 随后买了一系列 好看的小说 Fiction 非技术 Kalee's_小說 泛宗教 不错的书 其实当时大部分的内容压根没看明白。 电影书 曾经 女神主义 历史 关于。。。 达.芬奇密码 jungle 侦探与推理 蔡康永推荐 女性主义 1.丹・布朗 略懂 2008 [美]丹·布朗 美国文学 悬疑；宗教；圣杯 着迷 悬疑推理惊悚 一点点猜 外 tingae喜欢的书 繁體 :朱振武 05 乔治·奥威尔 快餐讀物 过往 英国 英文 文艺 经典悬疑 情节 偶见 历史推理 书籍 悬疑. 秘密 爷爷推荐 网络 Dan・Brown 时间旅行 不错 电影改编 神秘 金庸 杂 基督教 阅 literature 电子书 畅销财 当代 我看过的书 悬疑侦探 籍 高中 翻譯作品 丹·布朗 西方 密码 美 #借来的书# 类别历史 一口气读完的书 人文 ★★★ 外国现代小说 付评 娱乐 智慧 外国名著 Translation 悬疑　宗教　密码 神奇的故事们 欧美畅销 读过的那些故事 私藏书 懸疑 别人的书 Foreign-Literature 已购买 ◎美国 泡泡 科幻·奇幻·悬疑 现代 我的书架 国外作家 侦探&悬疑 story... 近现代小说 基督 推悬恐 dan Religion DanBrown 当代小说 紧凑 小片 法国 艺术 青苹果 学浅 04 仅仅是畅销书而已！ 武侠 小小文学 太暢銷 蛮有趣 类别宗教 小说 达・芬奇 D-浏览-小说 玩乐书 MaryMagdalene 经典 布朗 US 流行 类别达芬奇 社会 欧美悬疑小说 杂乱的文艺 争斗 一口气 若干年前看的 大学读书 达·芬奇 欧美 悬疑 外。。。 读过 圣杯 哆啦&JUN……书 宗教小说 Da 心理学 旧 很红的书 好看的消遣书 缺書店 电脑前一口气读完。疯 其他 读的时候很激动 一本悬疑小说的力量 快速读物 丹・布朗 让我勇敢起来 平庸 ?版本 喜好 最爱 religion 不眨地 欧美现当代 时光一度诱惑着我 科学家 打发无聊 suspense 跟风而看 悬疑悬念 看别人写字 闲暇 科幻 通俗小说 真的很好看 图形学 消遣 而已 刚买 【美国文学】 那些人的故事 小时候的回忆 原著小说 布克 【文学】 其它翻译小说 外国 天主教 符号 文学作品 Code 中 asfun 文学类 2004 我看的是英文版 悬念 我的视觉日记 多多少少长见识 我也不知道自己在读什么 欧美当代文学 生長卻隱藏 回忆 文 侦探推理小说 阴文小说 美国@丹·布朗 国外文学 理工科班 西方历史文化 小·说 创新 7.5分 大棉花 岩井俊二 Literature 悬疑推理 推理破案 欧美文学 译文 厕所文学 【宗教】 胡說 我家有 犯罪悬疑 峋山隐修会 书架 芬奇密码 休闲小说 畅销的速食 拿宗教说事 【我家藏书】 初中 Religious 灵异 小说/文学 乐子。 人民文学出版社 时鲜 上海人民出版社 推理与悬疑小说 我的收藏 闲 硕士三年 其它 集 圣经 近代 文字 brown 不无聊 reading 【美】丹・布朗 据说很好看 达芬奇　　密码 意大利 西文小说 侦探文字 旅行 炫学 探险 赌书消得泼茶香 最受益的书籍 好看 hululu13 仅仅是小说 让人舒适的小品 Dan-Brown 杂七杂八一大堆新概念还有小说 大人 谁不爱故事 文化 国外小说 帮我打发过无聊 现代小说 花花 达?芬奇密码 远界 惊悚 ***** 7535746098 外国小说 字 侦探 虚构 潮流 譯文 男文 瀚海书店 文艺复兴 西方文学 小说散文随笔杂文 神秘或推理悬疑类 肆、心水 畅销读物 流畅 无话可说 悬疑惊险 之一遍 读的 96-08 △-----预科上 谎言 不喜欢 P Brown《达芬奇密码》 §一般小说 悬疑·推理 阴谋论 爱书虫 欧美小说 可有可无 文学经典 快餐 血 藏 None 畅销书系列的紧张小说 调剂 娱乐型畅销 达・芬奇密码 图书柜子 apple TXT 童年 写字的男子 看看 History 月黑风高系 私藏 翻译 仪式 中学·记忆 记忆 休闲 颠覆 译著 不叔读书 牛x 『书』 洋小说 文本 2004. 密码学 0.悬疑 love 读书 靠山山会倒，靠人人会老，靠自己最好。 消闲 Noble house 美国 阅过，观过，聆听过 推理小说 Novel 很多人都看过的 fiction 美國文學 还行 小说·非中文。 推理+悬疑（宗教等） 碎影留痕 魔幻、科幻、悬疑 看过！ 译著。 进才 livre 武仙侠玄奇幻 故事人 西方文化 丹布朗 2008以前 电影 侦探小说 震撼~ 西方文学. 达·芬奇密码 改编为影视作品的小说 anagram 美国小说 吴晟 db250 流浪记 推荐 @我的书库 译者: 博采菠菜~~ N 懸疑篇 Mystery 流行撢 ebook 图书馆的家伙 圣经故事 阴谋 小説 逻辑 在看　朋友推荐的 美学 2006年我读了 畅销 神秘学 黄金分割 生活在别处 入手 Brown 悬疑&推理 Krten读过的书 story 炒作 国外 宗教 情节类 外文书 认真阅读 冒险 0外国 外國文學 小说，国外 符号学 American 外国文艺 MINE 步朗 人间 值得看两遍的佳作！ 惊险 后悔读过 其他小说 神秘。 so 西俗小说 译作 达芬奇密码 LeonardoDaVinci 流行撒 Dan_Brown 休闲读物 阅读 翻译文学 幻 通俗 外国/小说 azure的最爱 悬疑推理侦探小说 侦探悬疑 似真亦幻。 中学读物 太喜欢了 Dan·Brown 看™ Novels 关于人性 ◆ 精彩 七嘴八舌 Ann's 小说. read-tales-for-life A_在架已读 中文 想看看 罗马 America 手不释卷 littérature movies~and~books davanci 侦探推理 改编电影 时间消磨机 无意撞见之后就成为无法释卷…… 信仰 书店 现当代文学 欧洲 不做无聊之事，何谴有涯之生。 小說 达芬奇2 mystery 幽默 熬夜 杂七杂八 流行小说 id= 美國 Venci 确实火，也确实不错 看来我还不傻。。居然能猜到 小说。 文哲类 中学时代 图书馆 杂书 惊讶，惊喜 推理小説 1 大学 中学看的书 果果 字。 存 朱振武 智能 2009 西方艺术 原来是这样 u >读经典 2005.11 文学—丹布朗 ezary 鼎力推荐 外國 博物 美国。丹·布朗。 买了这本书 玄疑 结尾…… 破案 村上春树 读过的 [pdf] 已购 高中Lib 看电影之后读过 fav 一般 我的书柜 no whodunit.f 推理，历史 推理 畅销书 哲学 旧日所读 上海人民 Dan.Brown 神棍 悬 fun 【推理】 譯作 一个人的江湖 冥想。 有关科幻，有关诡异 电影原著 无法归类 好书 I7 象征 个人感觉很有意思 消遣所需 外国一般文学 纸质 我喜爱的小说 侧面 外邦 达芬奇的密码 流行文学 aruni读过 漫画小说 波塞冬 名著 thriller 2006 novels novel 我喜欢 推理悬疑 食指 一般的书籍 过去时. 外文 流行读物 4star看值 已收 e 已买的书 偶爱看的小说们 2010之前 remexwang 世界名著 西方精神支柱 犯罪 长篇小说 读了玩 外国文学-日本以外地区 周元晓 廢棄的筆墨 书 名过其实的书 我会给你一百分 悬疑／推理／法国艺术／美国大片 [novel] 心理 科学 畅销小说 丹 字儿~ 被推荐过 校图书馆藏书 据说是悬疑 intersting Dan 文学 个人收藏 推理&科幻 课上读书集合 藏书 这是我现在的。每日一小时。 长篇 悬疑侦探文学 悬疑&悬念 美术 原著 Culture 言情/青春/耽美 故事好看的小说 小说之外国 杀时间 Detective 闲书 探密 文类 推理. Kalee's_邏輯與推理 喜欢 2004-04 疑 美国，文学 2003 拥有自己的小家时书架上的书 2006年看的书 外国文学 先读的数码城堡，不过这本好些。 茶余饭后 通俗文学 密碼 悬疑小说 Z2 恐怖推理小说 悬疑之案 奇幻 科幻小说 故事 文學 book 达芬奇 Reading 解密\n"
     ]
    }
   ],
   "source": [
    "for index, row in loaded_data.iterrows():\n",
    "    if index >= 5:\n",
    "        break\n",
    "    # 将标签列表转换为字符串\n",
    "    print(type(row.Tags))\n",
    "    tags_str = \" \".join(row.Tags)\n",
    "    print(tags_str)"
   ]
  },
  {
   "cell_type": "code",
   "execution_count": 25,
   "metadata": {},
   "outputs": [
    {
     "name": "stderr",
     "output_type": "stream",
     "text": [
      "1200it [00:41, 29.20it/s]\n"
     ]
    }
   ],
   "source": [
    "tag_embedding_dict = {}\n",
    "\n",
    "with torch.no_grad():\n",
    "    for index, rows in tqdm(loaded_data.iterrows()):\n",
    "        # 将标签列表转换为字符串\n",
    "        tags_str = \" \".join(rows.Tags)\n",
    "        # 使用BERT中文模型对标签进行编码\n",
    "        inputs = tokenizer(tags_str, truncation=True, return_tensors='pt')\n",
    "        outputs = model(inputs.input_ids.cuda(), inputs.token_type_ids.cuda(), inputs.attention_mask.cuda())\n",
    "        # 使用最后一层的平均隐藏状态作为标签的向量表示\n",
    "        tag_embedding = outputs.last_hidden_state.mean(dim=1).cpu()\n",
    "        tag_embedding_dict[rows.Book] = tag_embedding\n"
   ]
  },
  {
   "cell_type": "code",
   "execution_count": 26,
   "metadata": {},
   "outputs": [],
   "source": [
    "import pickle\n",
    "\n",
    "# 将映射表存储为二进制文件\n",
    "with open('data/tag_embedding_dict.pkl', 'wb') as f:\n",
    "    pickle.dump(tag_embedding_dict, f)\n"
   ]
  },
  {
   "cell_type": "code",
   "execution_count": 27,
   "metadata": {},
   "outputs": [],
   "source": [
    "# 从二进制文件中读取映射表\n",
    "with open('data/tag_embedding_dict.pkl', 'rb') as f:\n",
    "    tag_embedding_dict = pickle.load(f)"
   ]
  },
  {
   "cell_type": "code",
   "execution_count": 28,
   "metadata": {},
   "outputs": [
    {
     "name": "stdout",
     "output_type": "stream",
     "text": [
      "           User     Book  Rate                       Time         Tag\n",
      "0       1398478  1467022     0  2011-03-29T12:48:35+08:00         NaN\n",
      "1       1398478  1777823     0  2011-02-02T21:58:55+08:00         NaN\n",
      "2       1398478  1902628     0  2011-01-31T15:57:58+08:00         NaN\n",
      "3       1398478  1878708     0  2011-01-26T11:27:59+08:00         NaN\n",
      "4       1398478  4238362     0  2011-01-21T13:04:15+08:00         NaN\n",
      "...         ...      ...   ...                        ...         ...\n",
      "637249  4507957  1125186     4  2009-07-04T08:02:13+08:00  张爱玲,半生缘,爱情\n",
      "637250  4507957  1002299     5  2009-07-04T08:01:28+08:00  金庸,武侠,笑傲江湖\n",
      "637251  4507957  1001136     4  2009-07-04T07:55:17+08:00     彼得・潘,童话\n",
      "637252  4507957  1021615     5  2009-07-04T07:53:54+08:00   小王子,童话,经典\n",
      "637253  4507957  1962929     5  2009-06-29T22:13:37+08:00          爱情\n",
      "\n",
      "[637254 rows x 5 columns]\n"
     ]
    }
   ],
   "source": [
    "# 读loaded_data取保存的 CSV 文件\n",
    "loaded_data = pd.read_csv('../data/book_score.csv')\n",
    "\n",
    "# 显示加载的数据\n",
    "print(loaded_data)"
   ]
  },
  {
   "cell_type": "code",
   "execution_count": 10,
   "metadata": {},
   "outputs": [],
   "source": [
    "class BookRatingDataset(Dataset):\n",
    "    def __init__(self, data, user_to_idx, book_to_idx, tag_embedding_dict):\n",
    "        self.data = data\n",
    "        self.user_to_idx = user_to_idx\n",
    "        self.book_to_idx = book_to_idx\n",
    "        self.tag_embedding_dict = tag_embedding_dict\n",
    "\n",
    "    def __len__(self):\n",
    "        return len(self.data)\n",
    "\n",
    "    def __getitem__(self, index):\n",
    "        row = self.data.iloc[index]\n",
    "        user = self.user_to_idx[row['User']]\n",
    "        book = self.book_to_idx[row['Book']]\n",
    "        rating = row['Rate'].astype('float32')\n",
    "        text_embedding = self.tag_embedding_dict.get(row['Book'])\n",
    "        return user, book, rating, text_embedding\n",
    "\n",
    "class MatrixFactorization(nn.Module):\n",
    "    def __init__(self, num_users, num_books, embedding_dim, hidden_state):\n",
    "        super(MatrixFactorization, self).__init__()\n",
    "        self.user_embeddings = nn.Embedding(num_users, embedding_dim)\n",
    "        self.book_embeddings = nn.Embedding(num_books, embedding_dim)\n",
    "        self.linear_embedding = nn.Linear(hidden_state, embedding_dim)\n",
    "        self.output = nn.Linear(embedding_dim, 6)\n",
    "\n",
    "    def forward(self, user, book, tag_embedding):\n",
    "        user_embedding = self.user_embeddings(user)\n",
    "        book_embedding = self.book_embeddings(book)\n",
    "        tag_embedding_proj = self.linear_embedding(tag_embedding)\n",
    "        book_intergrate = book_embedding + tag_embedding_proj\n",
    "        return (user_embedding * book_intergrate).sum(dim = 1)\n",
    "        \n",
    "def create_id_mapping(id_list):\n",
    "    # 从ID列表中删除重复项并创建一个排序的列表\n",
    "    unique_ids = sorted(set(id_list))\n",
    "    \n",
    "    # 创建将原始ID映射到连续索引的字典\n",
    "    id_to_idx = {id: idx for idx, id in enumerate(unique_ids)}\n",
    "    \n",
    "    # 创建将连续索引映射回原始ID的字典\n",
    "    idx_to_id = {idx: id for id, idx in id_to_idx.items()}\n",
    "    \n",
    "    return id_to_idx, idx_to_id\n",
    "\n",
    "# 按用户分组计算NDCG\n",
    "def compute_ndcg(group):\n",
    "    true_ratings = group['true'].tolist()\n",
    "    pred_ratings = group['pred'].tolist()\n",
    "    return ndcg_score([true_ratings], [pred_ratings], k = 50)"
   ]
  },
  {
   "cell_type": "code",
   "execution_count": 11,
   "metadata": {},
   "outputs": [],
   "source": [
    "user_ids = loaded_data['User'].unique()\n",
    "book_ids = loaded_data['Book'].unique()\n",
    "\n",
    "user_to_idx, idx_to_user = create_id_mapping(user_ids)\n",
    "book_to_idx, idx_to_book = create_id_mapping(book_ids)\n",
    "\n",
    "# 划分训练集和测试集\n",
    "train_data, test_data = train_test_split(loaded_data, test_size=0.5, random_state=42)\n",
    "\n",
    "# 创建训练集和测试集的数据集对象\n",
    "train_dataset = BookRatingDataset(train_data, user_to_idx, book_to_idx, tag_embedding_dict)\n",
    "test_dataset = BookRatingDataset(test_data, user_to_idx, book_to_idx, tag_embedding_dict)\n",
    "\n",
    "# 创建训练集和测试集的数据加载器\n",
    "train_dataloader = DataLoader(train_dataset, batch_size=4096, shuffle=True, drop_last = True)\n",
    "test_dataloader = DataLoader(test_dataset, batch_size=4096, shuffle=False, drop_last = True)\n",
    "\n",
    "num_users = loaded_data['User'].nunique()  \n",
    "num_books = loaded_data['Book'].nunique() \n",
    "embedding_dim, hidden_state = 32, 768\n",
    "\n",
    "model = MatrixFactorization(num_users, num_books, embedding_dim, hidden_state).to(device)\n",
    "criterion = nn.MSELoss()\n",
    "optimizer = torch.optim.Adam(model.parameters(), lr=0.01)"
   ]
  },
  {
   "cell_type": "markdown",
   "metadata": {},
   "source": [
    "### 训练"
   ]
  },
  {
   "cell_type": "code",
   "execution_count": 12,
   "metadata": {},
   "outputs": [
    {
     "name": "stderr",
     "output_type": "stream",
     "text": [
      "77it [00:08,  9.36it/s]\n"
     ]
    },
    {
     "name": "stdout",
     "output_type": "stream",
     "text": [
      "Epoch 0, Train loss: 57.146849421711714, Test loss:, 31.846407159582363, Average NDCG: 0.6684940088251016\n"
     ]
    },
    {
     "name": "stderr",
     "output_type": "stream",
     "text": [
      "77it [00:08,  9.08it/s]\n"
     ]
    },
    {
     "name": "stdout",
     "output_type": "stream",
     "text": [
      "Epoch 1, Train loss: 26.2737381427319, Test loss:, 24.20895935653092, Average NDCG: 0.6692094724977793\n"
     ]
    },
    {
     "name": "stderr",
     "output_type": "stream",
     "text": [
      "77it [00:07,  9.69it/s]\n"
     ]
    },
    {
     "ename": "KeyboardInterrupt",
     "evalue": "",
     "output_type": "error",
     "traceback": [
      "\u001b[1;31m---------------------------------------------------------------------------\u001b[0m",
      "\u001b[1;31mKeyboardInterrupt\u001b[0m                         Traceback (most recent call last)",
      "\u001b[1;32mc:\\code\\web信息处理\\实验一\\stage2\\实验\\text_embedding.ipynb Cell 11\u001b[0m line \u001b[0;36m3\n\u001b[0;32m     <a href='vscode-notebook-cell:/c%3A/code/web%E4%BF%A1%E6%81%AF%E5%A4%84%E7%90%86/%E5%AE%9E%E9%AA%8C%E4%B8%80/stage2/%E5%AE%9E%E9%AA%8C/text_embedding.ipynb#X13sZmlsZQ%3D%3D?line=26'>27</a>\u001b[0m model\u001b[39m.\u001b[39meval()\n\u001b[0;32m     <a href='vscode-notebook-cell:/c%3A/code/web%E4%BF%A1%E6%81%AF%E5%A4%84%E7%90%86/%E5%AE%9E%E9%AA%8C%E4%B8%80/stage2/%E5%AE%9E%E9%AA%8C/text_embedding.ipynb#X13sZmlsZQ%3D%3D?line=28'>29</a>\u001b[0m \u001b[39mwith\u001b[39;00m torch\u001b[39m.\u001b[39mno_grad():\n\u001b[1;32m---> <a href='vscode-notebook-cell:/c%3A/code/web%E4%BF%A1%E6%81%AF%E5%A4%84%E7%90%86/%E5%AE%9E%E9%AA%8C%E4%B8%80/stage2/%E5%AE%9E%E9%AA%8C/text_embedding.ipynb#X13sZmlsZQ%3D%3D?line=29'>30</a>\u001b[0m     \u001b[39mfor\u001b[39;00m idx, (user_ids, item_ids, true_ratings, tag_embedding) \u001b[39min\u001b[39;00m \u001b[39menumerate\u001b[39m(test_dataloader):\n\u001b[0;32m     <a href='vscode-notebook-cell:/c%3A/code/web%E4%BF%A1%E6%81%AF%E5%A4%84%E7%90%86/%E5%AE%9E%E9%AA%8C%E4%B8%80/stage2/%E5%AE%9E%E9%AA%8C/text_embedding.ipynb#X13sZmlsZQ%3D%3D?line=30'>31</a>\u001b[0m         pred_ratings \u001b[39m=\u001b[39m model(user_ids\u001b[39m.\u001b[39mto(device), item_ids\u001b[39m.\u001b[39mto(device), tag_embedding\u001b[39m.\u001b[39msqueeze(\u001b[39m1\u001b[39m)\u001b[39m.\u001b[39mto(device))\n\u001b[0;32m     <a href='vscode-notebook-cell:/c%3A/code/web%E4%BF%A1%E6%81%AF%E5%A4%84%E7%90%86/%E5%AE%9E%E9%AA%8C%E4%B8%80/stage2/%E5%AE%9E%E9%AA%8C/text_embedding.ipynb#X13sZmlsZQ%3D%3D?line=32'>33</a>\u001b[0m         loss \u001b[39m=\u001b[39m criterion(pred_ratings, ratings\u001b[39m.\u001b[39mto(device))\n",
      "File \u001b[1;32mc:\\application\\Anaconda\\envs\\usual\\lib\\site-packages\\torch\\utils\\data\\dataloader.py:633\u001b[0m, in \u001b[0;36m_BaseDataLoaderIter.__next__\u001b[1;34m(self)\u001b[0m\n\u001b[0;32m    630\u001b[0m \u001b[39mif\u001b[39;00m \u001b[39mself\u001b[39m\u001b[39m.\u001b[39m_sampler_iter \u001b[39mis\u001b[39;00m \u001b[39mNone\u001b[39;00m:\n\u001b[0;32m    631\u001b[0m     \u001b[39m# TODO(https://github.com/pytorch/pytorch/issues/76750)\u001b[39;00m\n\u001b[0;32m    632\u001b[0m     \u001b[39mself\u001b[39m\u001b[39m.\u001b[39m_reset()  \u001b[39m# type: ignore[call-arg]\u001b[39;00m\n\u001b[1;32m--> 633\u001b[0m data \u001b[39m=\u001b[39m \u001b[39mself\u001b[39;49m\u001b[39m.\u001b[39;49m_next_data()\n\u001b[0;32m    634\u001b[0m \u001b[39mself\u001b[39m\u001b[39m.\u001b[39m_num_yielded \u001b[39m+\u001b[39m\u001b[39m=\u001b[39m \u001b[39m1\u001b[39m\n\u001b[0;32m    635\u001b[0m \u001b[39mif\u001b[39;00m \u001b[39mself\u001b[39m\u001b[39m.\u001b[39m_dataset_kind \u001b[39m==\u001b[39m _DatasetKind\u001b[39m.\u001b[39mIterable \u001b[39mand\u001b[39;00m \\\n\u001b[0;32m    636\u001b[0m         \u001b[39mself\u001b[39m\u001b[39m.\u001b[39m_IterableDataset_len_called \u001b[39mis\u001b[39;00m \u001b[39mnot\u001b[39;00m \u001b[39mNone\u001b[39;00m \u001b[39mand\u001b[39;00m \\\n\u001b[0;32m    637\u001b[0m         \u001b[39mself\u001b[39m\u001b[39m.\u001b[39m_num_yielded \u001b[39m>\u001b[39m \u001b[39mself\u001b[39m\u001b[39m.\u001b[39m_IterableDataset_len_called:\n",
      "File \u001b[1;32mc:\\application\\Anaconda\\envs\\usual\\lib\\site-packages\\torch\\utils\\data\\dataloader.py:677\u001b[0m, in \u001b[0;36m_SingleProcessDataLoaderIter._next_data\u001b[1;34m(self)\u001b[0m\n\u001b[0;32m    675\u001b[0m \u001b[39mdef\u001b[39;00m \u001b[39m_next_data\u001b[39m(\u001b[39mself\u001b[39m):\n\u001b[0;32m    676\u001b[0m     index \u001b[39m=\u001b[39m \u001b[39mself\u001b[39m\u001b[39m.\u001b[39m_next_index()  \u001b[39m# may raise StopIteration\u001b[39;00m\n\u001b[1;32m--> 677\u001b[0m     data \u001b[39m=\u001b[39m \u001b[39mself\u001b[39;49m\u001b[39m.\u001b[39;49m_dataset_fetcher\u001b[39m.\u001b[39;49mfetch(index)  \u001b[39m# may raise StopIteration\u001b[39;00m\n\u001b[0;32m    678\u001b[0m     \u001b[39mif\u001b[39;00m \u001b[39mself\u001b[39m\u001b[39m.\u001b[39m_pin_memory:\n\u001b[0;32m    679\u001b[0m         data \u001b[39m=\u001b[39m _utils\u001b[39m.\u001b[39mpin_memory\u001b[39m.\u001b[39mpin_memory(data, \u001b[39mself\u001b[39m\u001b[39m.\u001b[39m_pin_memory_device)\n",
      "File \u001b[1;32mc:\\application\\Anaconda\\envs\\usual\\lib\\site-packages\\torch\\utils\\data\\_utils\\fetch.py:54\u001b[0m, in \u001b[0;36m_MapDatasetFetcher.fetch\u001b[1;34m(self, possibly_batched_index)\u001b[0m\n\u001b[0;32m     52\u001b[0m \u001b[39melse\u001b[39;00m:\n\u001b[0;32m     53\u001b[0m     data \u001b[39m=\u001b[39m \u001b[39mself\u001b[39m\u001b[39m.\u001b[39mdataset[possibly_batched_index]\n\u001b[1;32m---> 54\u001b[0m \u001b[39mreturn\u001b[39;00m \u001b[39mself\u001b[39;49m\u001b[39m.\u001b[39;49mcollate_fn(data)\n",
      "File \u001b[1;32mc:\\application\\Anaconda\\envs\\usual\\lib\\site-packages\\torch\\utils\\data\\_utils\\collate.py:265\u001b[0m, in \u001b[0;36mdefault_collate\u001b[1;34m(batch)\u001b[0m\n\u001b[0;32m    204\u001b[0m \u001b[39mdef\u001b[39;00m \u001b[39mdefault_collate\u001b[39m(batch):\n\u001b[0;32m    205\u001b[0m \u001b[39m    \u001b[39m\u001b[39mr\u001b[39m\u001b[39m\"\"\"\u001b[39;00m\n\u001b[0;32m    206\u001b[0m \u001b[39m        Function that takes in a batch of data and puts the elements within the batch\u001b[39;00m\n\u001b[0;32m    207\u001b[0m \u001b[39m        into a tensor with an additional outer dimension - batch size. The exact output type can be\u001b[39;00m\n\u001b[1;32m   (...)\u001b[0m\n\u001b[0;32m    263\u001b[0m \u001b[39m            >>> default_collate(batch)  # Handle `CustomType` automatically\u001b[39;00m\n\u001b[0;32m    264\u001b[0m \u001b[39m    \"\"\"\u001b[39;00m\n\u001b[1;32m--> 265\u001b[0m     \u001b[39mreturn\u001b[39;00m collate(batch, collate_fn_map\u001b[39m=\u001b[39;49mdefault_collate_fn_map)\n",
      "File \u001b[1;32mc:\\application\\Anaconda\\envs\\usual\\lib\\site-packages\\torch\\utils\\data\\_utils\\collate.py:142\u001b[0m, in \u001b[0;36mcollate\u001b[1;34m(batch, collate_fn_map)\u001b[0m\n\u001b[0;32m    139\u001b[0m transposed \u001b[39m=\u001b[39m \u001b[39mlist\u001b[39m(\u001b[39mzip\u001b[39m(\u001b[39m*\u001b[39mbatch))  \u001b[39m# It may be accessed twice, so we use a list.\u001b[39;00m\n\u001b[0;32m    141\u001b[0m \u001b[39mif\u001b[39;00m \u001b[39misinstance\u001b[39m(elem, \u001b[39mtuple\u001b[39m):\n\u001b[1;32m--> 142\u001b[0m     \u001b[39mreturn\u001b[39;00m [collate(samples, collate_fn_map\u001b[39m=\u001b[39mcollate_fn_map) \u001b[39mfor\u001b[39;00m samples \u001b[39min\u001b[39;00m transposed]  \u001b[39m# Backwards compatibility.\u001b[39;00m\n\u001b[0;32m    143\u001b[0m \u001b[39melse\u001b[39;00m:\n\u001b[0;32m    144\u001b[0m     \u001b[39mtry\u001b[39;00m:\n",
      "File \u001b[1;32mc:\\application\\Anaconda\\envs\\usual\\lib\\site-packages\\torch\\utils\\data\\_utils\\collate.py:142\u001b[0m, in \u001b[0;36m<listcomp>\u001b[1;34m(.0)\u001b[0m\n\u001b[0;32m    139\u001b[0m transposed \u001b[39m=\u001b[39m \u001b[39mlist\u001b[39m(\u001b[39mzip\u001b[39m(\u001b[39m*\u001b[39mbatch))  \u001b[39m# It may be accessed twice, so we use a list.\u001b[39;00m\n\u001b[0;32m    141\u001b[0m \u001b[39mif\u001b[39;00m \u001b[39misinstance\u001b[39m(elem, \u001b[39mtuple\u001b[39m):\n\u001b[1;32m--> 142\u001b[0m     \u001b[39mreturn\u001b[39;00m [collate(samples, collate_fn_map\u001b[39m=\u001b[39;49mcollate_fn_map) \u001b[39mfor\u001b[39;00m samples \u001b[39min\u001b[39;00m transposed]  \u001b[39m# Backwards compatibility.\u001b[39;00m\n\u001b[0;32m    143\u001b[0m \u001b[39melse\u001b[39;00m:\n\u001b[0;32m    144\u001b[0m     \u001b[39mtry\u001b[39;00m:\n",
      "File \u001b[1;32mc:\\application\\Anaconda\\envs\\usual\\lib\\site-packages\\torch\\utils\\data\\_utils\\collate.py:119\u001b[0m, in \u001b[0;36mcollate\u001b[1;34m(batch, collate_fn_map)\u001b[0m\n\u001b[0;32m    117\u001b[0m \u001b[39mif\u001b[39;00m collate_fn_map \u001b[39mis\u001b[39;00m \u001b[39mnot\u001b[39;00m \u001b[39mNone\u001b[39;00m:\n\u001b[0;32m    118\u001b[0m     \u001b[39mif\u001b[39;00m elem_type \u001b[39min\u001b[39;00m collate_fn_map:\n\u001b[1;32m--> 119\u001b[0m         \u001b[39mreturn\u001b[39;00m collate_fn_map[elem_type](batch, collate_fn_map\u001b[39m=\u001b[39;49mcollate_fn_map)\n\u001b[0;32m    121\u001b[0m     \u001b[39mfor\u001b[39;00m collate_type \u001b[39min\u001b[39;00m collate_fn_map:\n\u001b[0;32m    122\u001b[0m         \u001b[39mif\u001b[39;00m \u001b[39misinstance\u001b[39m(elem, collate_type):\n",
      "File \u001b[1;32mc:\\application\\Anaconda\\envs\\usual\\lib\\site-packages\\torch\\utils\\data\\_utils\\collate.py:162\u001b[0m, in \u001b[0;36mcollate_tensor_fn\u001b[1;34m(batch, collate_fn_map)\u001b[0m\n\u001b[0;32m    160\u001b[0m     storage \u001b[39m=\u001b[39m elem\u001b[39m.\u001b[39m_typed_storage()\u001b[39m.\u001b[39m_new_shared(numel, device\u001b[39m=\u001b[39melem\u001b[39m.\u001b[39mdevice)\n\u001b[0;32m    161\u001b[0m     out \u001b[39m=\u001b[39m elem\u001b[39m.\u001b[39mnew(storage)\u001b[39m.\u001b[39mresize_(\u001b[39mlen\u001b[39m(batch), \u001b[39m*\u001b[39m\u001b[39mlist\u001b[39m(elem\u001b[39m.\u001b[39msize()))\n\u001b[1;32m--> 162\u001b[0m \u001b[39mreturn\u001b[39;00m torch\u001b[39m.\u001b[39;49mstack(batch, \u001b[39m0\u001b[39;49m, out\u001b[39m=\u001b[39;49mout)\n",
      "\u001b[1;31mKeyboardInterrupt\u001b[0m: "
     ]
    }
   ],
   "source": [
    "num_epochs = 20\n",
    "lambda_u, lambda_b = 0.001, 0.001\n",
    "\n",
    "for epoch in range(num_epochs):\n",
    "    model.train()\n",
    "    total_loss_train, total_loss_test = 0.0, 0.0\n",
    "\n",
    "    for idx, (user_ids, book_ids, ratings, tag_embedding) in tqdm(enumerate(train_dataloader)):\n",
    "        # 使用user_ids, book_ids, ratings进行训练\n",
    "\n",
    "        optimizer.zero_grad()\n",
    "        \n",
    "        predictions = model(user_ids.to(device), book_ids.to(device), tag_embedding.squeeze(1).to(device))\n",
    "        loss = criterion(predictions, ratings.to(device)) + lambda_u * model.user_embeddings.weight.norm(2) + lambda_b * model.book_embeddings.weight.norm(2)\n",
    "        \n",
    "        loss.backward()\n",
    "        optimizer.step()\n",
    "\n",
    "        total_loss_train += loss.item()\n",
    "        \n",
    "        # if idx % 100 == 0:\n",
    "        #     print(f'Step {idx}, Loss: {loss.item()}')\n",
    "\n",
    "    output_loss_train = total_loss_train / (idx + 1) \n",
    "\n",
    "    results = []\n",
    "    model.eval()\n",
    "\n",
    "    with torch.no_grad():\n",
    "        for idx, (user_ids, item_ids, true_ratings, tag_embedding) in enumerate(test_dataloader):\n",
    "            pred_ratings = model(user_ids.to(device), item_ids.to(device), tag_embedding.squeeze(1).to(device))\n",
    "\n",
    "            loss = criterion(pred_ratings, ratings.to(device))\n",
    "            total_loss_test += loss.item()\n",
    "\n",
    "            # 将结果转换为 numpy arrays\n",
    "            user_ids_np = user_ids.long().cpu().numpy().reshape(-1, 1)\n",
    "            pred_ratings_np = pred_ratings.cpu().numpy().reshape(-1, 1)\n",
    "            true_ratings_np = true_ratings.numpy().reshape(-1, 1)\n",
    "\n",
    "            # 将这三个 arrays 合并成一个 2D array\n",
    "            batch_results = np.column_stack((user_ids_np, pred_ratings_np, true_ratings_np))\n",
    "\n",
    "            # 将这个 2D array 添加到 results\n",
    "            results.append(batch_results)\n",
    "\n",
    "        # 将结果的 list 转换为一个大的 numpy array\n",
    "        results = np.vstack(results)\n",
    "\n",
    "        # 将结果转换为DataFrame\n",
    "        results_df = pd.DataFrame(results, columns=['user', 'pred', 'true'])\n",
    "        results_df['user'] = results_df['user'].astype(int)\n",
    "\n",
    "        ndcg_scores = results_df.groupby('user').apply(compute_ndcg)\n",
    "\n",
    "        # 计算平均NDCG\n",
    "        avg_ndcg = ndcg_scores.mean()\n",
    "        print(f'Epoch {epoch}, Train loss: {output_loss_train}, Test loss:, {total_loss_test / (idx + 1)}, Average NDCG: {avg_ndcg}')"
   ]
  }
 ],
 "metadata": {
  "kernelspec": {
   "display_name": "ml24",
   "language": "python",
   "name": "python3"
  },
  "language_info": {
   "codemirror_mode": {
    "name": "ipython",
    "version": 3
   },
   "file_extension": ".py",
   "mimetype": "text/x-python",
   "name": "python",
   "nbconvert_exporter": "python",
   "pygments_lexer": "ipython3",
   "version": "3.9.20"
  }
 },
 "nbformat": 4,
 "nbformat_minor": 2
}
